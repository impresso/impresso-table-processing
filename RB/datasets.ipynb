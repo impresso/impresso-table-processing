{
 "cells": [
  {
   "cell_type": "code",
   "execution_count": 1,
   "id": "1843b671-639a-4912-812f-a16a5f344be6",
   "metadata": {},
   "outputs": [],
   "source": [
    "import os\n",
    "import sys\n",
    "import json\n",
    "import pandas as pd\n",
    "\n",
    "sys.path.append(\"../helpers/\")\n",
    "from datasets import *\n",
    "\n",
    "data_path = \"data\"\n",
    "datasets_path = \"datasets\"\n",
    "\n",
    "%load_ext autoreload\n",
    "%autoreload 2"
   ]
  },
  {
   "cell_type": "markdown",
   "id": "0aa70607-9272-4e21-bc96-f98feb0e1d0a",
   "metadata": {},
   "source": [
    "# Datasets\n",
    "## Pre-processing"
   ]
  },
  {
   "cell_type": "code",
   "execution_count": 2,
   "id": "bf8eecec-1c42-4843-bf99-0d496a2c032e",
   "metadata": {},
   "outputs": [
    {
     "name": "stdout",
     "output_type": "stream",
     "text": [
      "food prices      1 items (0.1%) on    1 pages on    1 issues\n",
      "not a table     22 items (2.7%) on   18 pages on   11 issues\n",
      "stock          786 items (95.6%) on  470 pages on  310 issues\n",
      "table           13 items (1.6%) on    9 pages on    9 issues\n"
     ]
    }
   ],
   "source": [
    "RB = pd.read_parquet(os.path.join(data_path, \"RB.parquet\"))\n",
    "print_tag_distributions(RB)"
   ]
  },
  {
   "cell_type": "code",
   "execution_count": 3,
   "id": "d108e8a1-3ea1-43a6-a50c-9e16790c605a",
   "metadata": {},
   "outputs": [
    {
     "name": "stdout",
     "output_type": "stream",
     "text": [
      "table    800 items (100.0%) on  474 pages on  311 issues\n"
     ]
    }
   ],
   "source": [
    "RB = RB[RB['tag'] != 'not a table']\n",
    "RB['tag'] = 'table'\n",
    "print_tag_distributions(RB)"
   ]
  },
  {
   "cell_type": "code",
   "execution_count": 4,
   "id": "da02ff12-6c12-4d02-8484-09f6aed23218",
   "metadata": {},
   "outputs": [
    {
     "data": {
      "text/html": [
       "<div>\n",
       "<style scoped>\n",
       "    .dataframe tbody tr th:only-of-type {\n",
       "        vertical-align: middle;\n",
       "    }\n",
       "\n",
       "    .dataframe tbody tr th {\n",
       "        vertical-align: top;\n",
       "    }\n",
       "\n",
       "    .dataframe thead th {\n",
       "        text-align: right;\n",
       "    }\n",
       "</style>\n",
       "<table border=\"1\" class=\"dataframe\">\n",
       "  <thead>\n",
       "    <tr style=\"text-align: right;\">\n",
       "      <th></th>\n",
       "      <th>tag</th>\n",
       "      <th>date_tag</th>\n",
       "      <th>auto_tag</th>\n",
       "      <th>pid</th>\n",
       "      <th>year</th>\n",
       "      <th>month</th>\n",
       "      <th>day</th>\n",
       "      <th>journal</th>\n",
       "      <th>edition</th>\n",
       "      <th>page</th>\n",
       "      <th>meta_issue_id</th>\n",
       "      <th>tb_coords</th>\n",
       "    </tr>\n",
       "  </thead>\n",
       "  <tbody>\n",
       "    <tr>\n",
       "      <th>JDG-1826-02-16-a-p0004-1-0</th>\n",
       "      <td>table</td>\n",
       "      <td>2021-11-11 12:23:16</td>\n",
       "      <td>False</td>\n",
       "      <td>JDG-1826-02-16-a-p0004</td>\n",
       "      <td>1826</td>\n",
       "      <td>2</td>\n",
       "      <td>16</td>\n",
       "      <td>JDG</td>\n",
       "      <td>a</td>\n",
       "      <td>4</td>\n",
       "      <td>JDG-1826-02-16-a</td>\n",
       "      <td>{'all_points_x': None, 'all_points_y': None, '...</td>\n",
       "    </tr>\n",
       "    <tr>\n",
       "      <th>JDG-1852-11-26-a-p0004-1-0</th>\n",
       "      <td>table</td>\n",
       "      <td>2021-11-11 12:32:00</td>\n",
       "      <td>False</td>\n",
       "      <td>JDG-1852-11-26-a-p0004</td>\n",
       "      <td>1852</td>\n",
       "      <td>11</td>\n",
       "      <td>26</td>\n",
       "      <td>JDG</td>\n",
       "      <td>a</td>\n",
       "      <td>4</td>\n",
       "      <td>JDG-1852-11-26-a</td>\n",
       "      <td>{'all_points_x': None, 'all_points_y': None, '...</td>\n",
       "    </tr>\n",
       "    <tr>\n",
       "      <th>JDG-1857-05-17-a-p0002-1-0</th>\n",
       "      <td>table</td>\n",
       "      <td>2021-11-11 12:24:16</td>\n",
       "      <td>False</td>\n",
       "      <td>JDG-1857-05-17-a-p0002</td>\n",
       "      <td>1857</td>\n",
       "      <td>5</td>\n",
       "      <td>17</td>\n",
       "      <td>JDG</td>\n",
       "      <td>a</td>\n",
       "      <td>2</td>\n",
       "      <td>JDG-1857-05-17-a</td>\n",
       "      <td>{'all_points_x': None, 'all_points_y': None, '...</td>\n",
       "    </tr>\n",
       "    <tr>\n",
       "      <th>JDG-1857-05-17-a-p0004-1-0</th>\n",
       "      <td>table</td>\n",
       "      <td>2021-11-11 12:32:10</td>\n",
       "      <td>False</td>\n",
       "      <td>JDG-1857-05-17-a-p0004</td>\n",
       "      <td>1857</td>\n",
       "      <td>5</td>\n",
       "      <td>17</td>\n",
       "      <td>JDG</td>\n",
       "      <td>a</td>\n",
       "      <td>4</td>\n",
       "      <td>JDG-1857-05-17-a</td>\n",
       "      <td>{'all_points_x': None, 'all_points_y': None, '...</td>\n",
       "    </tr>\n",
       "    <tr>\n",
       "      <th>JDG-1857-06-17-a-p0003-1-0</th>\n",
       "      <td>table</td>\n",
       "      <td>2021-11-11 12:32:11</td>\n",
       "      <td>False</td>\n",
       "      <td>JDG-1857-06-17-a-p0003</td>\n",
       "      <td>1857</td>\n",
       "      <td>6</td>\n",
       "      <td>17</td>\n",
       "      <td>JDG</td>\n",
       "      <td>a</td>\n",
       "      <td>3</td>\n",
       "      <td>JDG-1857-06-17-a</td>\n",
       "      <td>{'all_points_x': None, 'all_points_y': None, '...</td>\n",
       "    </tr>\n",
       "  </tbody>\n",
       "</table>\n",
       "</div>"
      ],
      "text/plain": [
       "                              tag            date_tag  auto_tag  \\\n",
       "JDG-1826-02-16-a-p0004-1-0  table 2021-11-11 12:23:16     False   \n",
       "JDG-1852-11-26-a-p0004-1-0  table 2021-11-11 12:32:00     False   \n",
       "JDG-1857-05-17-a-p0002-1-0  table 2021-11-11 12:24:16     False   \n",
       "JDG-1857-05-17-a-p0004-1-0  table 2021-11-11 12:32:10     False   \n",
       "JDG-1857-06-17-a-p0003-1-0  table 2021-11-11 12:32:11     False   \n",
       "\n",
       "                                               pid  year  month  day journal  \\\n",
       "JDG-1826-02-16-a-p0004-1-0  JDG-1826-02-16-a-p0004  1826      2   16     JDG   \n",
       "JDG-1852-11-26-a-p0004-1-0  JDG-1852-11-26-a-p0004  1852     11   26     JDG   \n",
       "JDG-1857-05-17-a-p0002-1-0  JDG-1857-05-17-a-p0002  1857      5   17     JDG   \n",
       "JDG-1857-05-17-a-p0004-1-0  JDG-1857-05-17-a-p0004  1857      5   17     JDG   \n",
       "JDG-1857-06-17-a-p0003-1-0  JDG-1857-06-17-a-p0003  1857      6   17     JDG   \n",
       "\n",
       "                           edition  page     meta_issue_id  \\\n",
       "JDG-1826-02-16-a-p0004-1-0       a     4  JDG-1826-02-16-a   \n",
       "JDG-1852-11-26-a-p0004-1-0       a     4  JDG-1852-11-26-a   \n",
       "JDG-1857-05-17-a-p0002-1-0       a     2  JDG-1857-05-17-a   \n",
       "JDG-1857-05-17-a-p0004-1-0       a     4  JDG-1857-05-17-a   \n",
       "JDG-1857-06-17-a-p0003-1-0       a     3  JDG-1857-06-17-a   \n",
       "\n",
       "                                                                    tb_coords  \n",
       "JDG-1826-02-16-a-p0004-1-0  {'all_points_x': None, 'all_points_y': None, '...  \n",
       "JDG-1852-11-26-a-p0004-1-0  {'all_points_x': None, 'all_points_y': None, '...  \n",
       "JDG-1857-05-17-a-p0002-1-0  {'all_points_x': None, 'all_points_y': None, '...  \n",
       "JDG-1857-05-17-a-p0004-1-0  {'all_points_x': None, 'all_points_y': None, '...  \n",
       "JDG-1857-06-17-a-p0003-1-0  {'all_points_x': None, 'all_points_y': None, '...  "
      ]
     },
     "execution_count": 4,
     "metadata": {},
     "output_type": "execute_result"
    }
   ],
   "source": [
    "RB.head()"
   ]
  },
  {
   "cell_type": "markdown",
   "id": "4db699c1-1b1d-4937-9f2a-0a3106a08989",
   "metadata": {
    "tags": []
   },
   "source": [
    "## Export\n",
    "### VIA format"
   ]
  },
  {
   "cell_type": "code",
   "execution_count": 5,
   "id": "938db547-6d6f-4771-93a7-449ddfb2641c",
   "metadata": {
    "tags": []
   },
   "outputs": [],
   "source": [
    "via_annotations_RB = dict()    \n",
    "for i, row in RB.iterrows(): \n",
    "    pid = row['pid']\n",
    "    if pid not in via_annotations_RB:\n",
    "        via_annotations_RB[pid] = dict()\n",
    "        via_annotations_RB[pid]['filename'] = pid + '.png'\n",
    "        via_annotations_RB[pid]['size'] = -1\n",
    "        via_annotations_RB[pid]['file_attributes'] = {}\n",
    "        via_annotations_RB[pid]['regions'] = []\n",
    "\n",
    "    coords = row['tb_coords'].copy()\n",
    "    if coords['name'] == 'rect':\n",
    "        del coords['all_points_x']\n",
    "        del coords['all_points_y']\n",
    "        coords['x'] = int(coords['x'])\n",
    "        coords['y'] = int(coords['y'])\n",
    "        coords['width'] = int(coords['width'])\n",
    "        coords['height'] = int(coords['height'])\n",
    "        \n",
    "    elif coords['name'] == 'polygon':\n",
    "        coords['all_points_x'] = [int(x) for x in coords['all_points_x']]\n",
    "        coords['all_points_y'] = [int(y) for y in coords['all_points_y']]\n",
    "        del coords['x']\n",
    "        del coords['y']\n",
    "        del coords['width']\n",
    "        del coords['height']\n",
    "    \n",
    "    region = {}\n",
    "    region['shape_attributes'] = coords\n",
    "    region['region_attributes'] = {'label': row['tag']}\n",
    "    via_annotations_RB[pid]['regions'].append(region)"
   ]
  },
  {
   "cell_type": "code",
   "execution_count": 7,
   "id": "8e781cd1-8084-4ff6-ba12-c8b3bc2e78e0",
   "metadata": {},
   "outputs": [],
   "source": [
    "filename = \"via_annotations_RB\"\n",
    "\n",
    "with (open(os.path.join(datasets_path, filename + \".json\"), \"w\")) as f:\n",
    "    json.dump(via_annotations_RB, f)"
   ]
  },
  {
   "cell_type": "code",
   "execution_count": 16,
   "id": "fce8d1bc-9313-4455-b432-7be4b193d99b",
   "metadata": {},
   "outputs": [],
   "source": [
    "filename = \"via_annotations_RB\"\n",
    "\n",
    "with (open(os.path.join(datasets_path, filename + \".json\"), \"r\")) as f:\n",
    "    via_annotations_RB = json.load(f)"
   ]
  },
  {
   "cell_type": "markdown",
   "id": "6b9e70a8-3927-4543-bcd2-369f12b23459",
   "metadata": {},
   "source": [
    "### COCO format"
   ]
  },
  {
   "cell_type": "code",
   "execution_count": 9,
   "id": "62052e95-4e2d-4a06-90ce-ad601b5e159e",
   "metadata": {},
   "outputs": [],
   "source": [
    "with open(os.path.join(data_path, \"RB_metadata_images.json\"), \"r\") as f:\n",
    "    RB_metadata_images = json.load(f)"
   ]
  },
  {
   "cell_type": "code",
   "execution_count": 10,
   "id": "cfb1c507-9c85-415a-8629-d05dcc3a8681",
   "metadata": {},
   "outputs": [],
   "source": [
    "coco_annotations_RB = convert_via_to_coco(via_annotations_RB, RB_metadata_images)"
   ]
  },
  {
   "cell_type": "code",
   "execution_count": 12,
   "id": "1071e7a4-516d-4abe-9471-fadcd0a8d05b",
   "metadata": {},
   "outputs": [],
   "source": [
    "filename = \"coco_annotations_RB\"\n",
    "\n",
    "with (open(os.path.join(datasets_path, filename + \".json\"), \"w\")) as f:\n",
    "    json.dump(coco_annotations_RB, f)"
   ]
  },
  {
   "cell_type": "code",
   "execution_count": 14,
   "id": "08516ee6-339d-4865-95aa-c6624115fa55",
   "metadata": {},
   "outputs": [],
   "source": [
    "filename = \"coco_annotations_RB\"\n",
    "\n",
    "with (open(os.path.join(datasets_path, filename + \".json\"), \"r\")) as f:\n",
    "    coco_annotations_RB = json.load(f)"
   ]
  },
  {
   "cell_type": "code",
   "execution_count": null,
   "id": "efc4b382-a5a8-4e92-a477-dd943024341b",
   "metadata": {},
   "outputs": [],
   "source": []
  }
 ],
 "metadata": {
  "kernelspec": {
   "display_name": "pdm",
   "language": "python",
   "name": "pdm"
  },
  "language_info": {
   "codemirror_mode": {
    "name": "ipython",
    "version": 3
   },
   "file_extension": ".py",
   "mimetype": "text/x-python",
   "name": "python",
   "nbconvert_exporter": "python",
   "pygments_lexer": "ipython3",
   "version": "3.9.7"
  }
 },
 "nbformat": 4,
 "nbformat_minor": 5
}

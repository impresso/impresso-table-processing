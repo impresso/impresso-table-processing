{
 "cells": [
  {
   "cell_type": "code",
   "execution_count": 209,
   "id": "9038ae7e-28f9-4d21-949e-4990777f756c",
   "metadata": {},
   "outputs": [
    {
     "name": "stdout",
     "output_type": "stream",
     "text": [
      "The autoreload extension is already loaded. To reload it, use:\n",
      "  %reload_ext autoreload\n"
     ]
    }
   ],
   "source": [
    "import os\n",
    "import sys\n",
    "import json\n",
    "import numpy as np\n",
    "import pandas as pd\n",
    "\n",
    "sys.path.append(\"../helpers/\")\n",
    "from datasets import *\n",
    "from filtering import *\n",
    "\n",
    "data_path = \"data\"\n",
    "datasets_path = \"datasets\"\n",
    "\n",
    "%load_ext autoreload\n",
    "%autoreload 2"
   ]
  },
  {
   "cell_type": "markdown",
   "id": "431318e3-181c-4c96-ba1a-0703c78d03b5",
   "metadata": {},
   "source": [
    "# Datasets for table detection\n",
    "In this notebook, NLL, NLL-revised, NLL-filtered, and NLL-tag are constructed."
   ]
  },
  {
   "cell_type": "code",
   "execution_count": 56,
   "id": "722ad01d-ed29-4e66-8bbb-adfffdd27f5f",
   "metadata": {},
   "outputs": [],
   "source": [
    "NLL = pd.read_parquet(os.path.join(data_path, \"NLL_lite.parquet\"))\n",
    "NLL_tag = pd.read_parquet(os.path.join(data_path, \"NLL_tag_lite.parquet\"))"
   ]
  },
  {
   "cell_type": "code",
   "execution_count": 80,
   "id": "d5c58e36-96c8-4461-b9d4-4f5aedfe46a6",
   "metadata": {},
   "outputs": [],
   "source": [
    "with open(\"NLL_metadata_images.json\", \"r\") as f:\n",
    "    NLL_metadata_images = json.load(f)"
   ]
  },
  {
   "cell_type": "markdown",
   "id": "7000a468-3af8-4eaa-bbdf-d64f7de8b29c",
   "metadata": {
    "tags": []
   },
   "source": [
    "## Pre-processing"
   ]
  },
  {
   "cell_type": "code",
   "execution_count": 58,
   "id": "842ee63e-100a-472a-8065-25d9acb73437",
   "metadata": {},
   "outputs": [
    {
     "name": "stdout",
     "output_type": "stream",
     "text": [
      "(58007, 17)\n"
     ]
    },
    {
     "data": {
      "text/html": [
       "<div>\n",
       "<style scoped>\n",
       "    .dataframe tbody tr th:only-of-type {\n",
       "        vertical-align: middle;\n",
       "    }\n",
       "\n",
       "    .dataframe tbody tr th {\n",
       "        vertical-align: top;\n",
       "    }\n",
       "\n",
       "    .dataframe thead th {\n",
       "        text-align: right;\n",
       "    }\n",
       "</style>\n",
       "<table border=\"1\" class=\"dataframe\">\n",
       "  <thead>\n",
       "    <tr style=\"text-align: right;\">\n",
       "      <th></th>\n",
       "      <th>tb_coords</th>\n",
       "      <th>pid</th>\n",
       "      <th>iiifURL</th>\n",
       "      <th>iiifFragmentURL</th>\n",
       "      <th>year</th>\n",
       "      <th>month</th>\n",
       "      <th>day</th>\n",
       "      <th>journal</th>\n",
       "      <th>edition</th>\n",
       "      <th>page</th>\n",
       "      <th>meta_issue_id</th>\n",
       "      <th>x</th>\n",
       "      <th>y</th>\n",
       "      <th>width</th>\n",
       "      <th>height</th>\n",
       "      <th>area</th>\n",
       "      <th>tag</th>\n",
       "    </tr>\n",
       "  </thead>\n",
       "  <tbody>\n",
       "    <tr>\n",
       "      <th>luxzeit1858-1858-03-10-a-i0018</th>\n",
       "      <td>{'height': [812], 'width': [1375], 'x': [153],...</td>\n",
       "      <td>luxzeit1858-1858-03-10-a-p0001</td>\n",
       "      <td>https://iiif.eluxemburgensia.lu/image/iiif/2/a...</td>\n",
       "      <td>[https://iiif.eluxemburgensia.lu/image/iiif/2/...</td>\n",
       "      <td>1858</td>\n",
       "      <td>3</td>\n",
       "      <td>10</td>\n",
       "      <td>luxzeit1858</td>\n",
       "      <td>a</td>\n",
       "      <td>1</td>\n",
       "      <td>luxzeit1858-1858-03-10-a</td>\n",
       "      <td>153</td>\n",
       "      <td>1320</td>\n",
       "      <td>1375</td>\n",
       "      <td>812</td>\n",
       "      <td>1116500</td>\n",
       "      <td>table</td>\n",
       "    </tr>\n",
       "    <tr>\n",
       "      <th>avenirgdl-1871-07-25-a-i0033</th>\n",
       "      <td>{'height': [546], 'width': [610], 'x': [1418],...</td>\n",
       "      <td>avenirgdl-1871-07-25-a-p0004</td>\n",
       "      <td>https://iiif.eluxemburgensia.lu/image/iiif/2/a...</td>\n",
       "      <td>[https://iiif.eluxemburgensia.lu/image/iiif/2/...</td>\n",
       "      <td>1871</td>\n",
       "      <td>7</td>\n",
       "      <td>25</td>\n",
       "      <td>avenirgdl</td>\n",
       "      <td>a</td>\n",
       "      <td>4</td>\n",
       "      <td>avenirgdl-1871-07-25-a</td>\n",
       "      <td>1418</td>\n",
       "      <td>6225</td>\n",
       "      <td>610</td>\n",
       "      <td>546</td>\n",
       "      <td>333060</td>\n",
       "      <td>table</td>\n",
       "    </tr>\n",
       "    <tr>\n",
       "      <th>lunion-1867-01-10-a-i0017</th>\n",
       "      <td>{'height': [224], 'width': [431], 'x': [2220],...</td>\n",
       "      <td>lunion-1867-01-10-a-p0001</td>\n",
       "      <td>https://iiif.eluxemburgensia.lu/image/iiif/2/a...</td>\n",
       "      <td>[https://iiif.eluxemburgensia.lu/image/iiif/2/...</td>\n",
       "      <td>1867</td>\n",
       "      <td>1</td>\n",
       "      <td>10</td>\n",
       "      <td>lunion</td>\n",
       "      <td>a</td>\n",
       "      <td>1</td>\n",
       "      <td>lunion-1867-01-10-a</td>\n",
       "      <td>2220</td>\n",
       "      <td>1021</td>\n",
       "      <td>431</td>\n",
       "      <td>224</td>\n",
       "      <td>96544</td>\n",
       "      <td>table</td>\n",
       "    </tr>\n",
       "    <tr>\n",
       "      <th>luxwort-1867-06-07-a-i0004</th>\n",
       "      <td>{'height': [196], 'width': [3334], 'x': [50], ...</td>\n",
       "      <td>luxwort-1867-06-07-a-p0004</td>\n",
       "      <td>https://iiif.eluxemburgensia.lu/image/iiif/2/a...</td>\n",
       "      <td>[https://iiif.eluxemburgensia.lu/image/iiif/2/...</td>\n",
       "      <td>1867</td>\n",
       "      <td>6</td>\n",
       "      <td>7</td>\n",
       "      <td>luxwort</td>\n",
       "      <td>a</td>\n",
       "      <td>4</td>\n",
       "      <td>luxwort-1867-06-07-a</td>\n",
       "      <td>50</td>\n",
       "      <td>4922</td>\n",
       "      <td>3334</td>\n",
       "      <td>196</td>\n",
       "      <td>653464</td>\n",
       "      <td>table</td>\n",
       "    </tr>\n",
       "    <tr>\n",
       "      <th>lunion-1867-08-07-a-i0023</th>\n",
       "      <td>{'height': [236], 'width': [428], 'x': [2179],...</td>\n",
       "      <td>lunion-1867-08-07-a-p0001</td>\n",
       "      <td>https://iiif.eluxemburgensia.lu/image/iiif/2/a...</td>\n",
       "      <td>[https://iiif.eluxemburgensia.lu/image/iiif/2/...</td>\n",
       "      <td>1867</td>\n",
       "      <td>8</td>\n",
       "      <td>7</td>\n",
       "      <td>lunion</td>\n",
       "      <td>a</td>\n",
       "      <td>1</td>\n",
       "      <td>lunion-1867-08-07-a</td>\n",
       "      <td>2179</td>\n",
       "      <td>1014</td>\n",
       "      <td>428</td>\n",
       "      <td>236</td>\n",
       "      <td>101008</td>\n",
       "      <td>table</td>\n",
       "    </tr>\n",
       "  </tbody>\n",
       "</table>\n",
       "</div>"
      ],
      "text/plain": [
       "                                                                        tb_coords  \\\n",
       "luxzeit1858-1858-03-10-a-i0018  {'height': [812], 'width': [1375], 'x': [153],...   \n",
       "avenirgdl-1871-07-25-a-i0033    {'height': [546], 'width': [610], 'x': [1418],...   \n",
       "lunion-1867-01-10-a-i0017       {'height': [224], 'width': [431], 'x': [2220],...   \n",
       "luxwort-1867-06-07-a-i0004      {'height': [196], 'width': [3334], 'x': [50], ...   \n",
       "lunion-1867-08-07-a-i0023       {'height': [236], 'width': [428], 'x': [2179],...   \n",
       "\n",
       "                                                           pid  \\\n",
       "luxzeit1858-1858-03-10-a-i0018  luxzeit1858-1858-03-10-a-p0001   \n",
       "avenirgdl-1871-07-25-a-i0033      avenirgdl-1871-07-25-a-p0004   \n",
       "lunion-1867-01-10-a-i0017            lunion-1867-01-10-a-p0001   \n",
       "luxwort-1867-06-07-a-i0004          luxwort-1867-06-07-a-p0004   \n",
       "lunion-1867-08-07-a-i0023            lunion-1867-08-07-a-p0001   \n",
       "\n",
       "                                                                          iiifURL  \\\n",
       "luxzeit1858-1858-03-10-a-i0018  https://iiif.eluxemburgensia.lu/image/iiif/2/a...   \n",
       "avenirgdl-1871-07-25-a-i0033    https://iiif.eluxemburgensia.lu/image/iiif/2/a...   \n",
       "lunion-1867-01-10-a-i0017       https://iiif.eluxemburgensia.lu/image/iiif/2/a...   \n",
       "luxwort-1867-06-07-a-i0004      https://iiif.eluxemburgensia.lu/image/iiif/2/a...   \n",
       "lunion-1867-08-07-a-i0023       https://iiif.eluxemburgensia.lu/image/iiif/2/a...   \n",
       "\n",
       "                                                                  iiifFragmentURL  \\\n",
       "luxzeit1858-1858-03-10-a-i0018  [https://iiif.eluxemburgensia.lu/image/iiif/2/...   \n",
       "avenirgdl-1871-07-25-a-i0033    [https://iiif.eluxemburgensia.lu/image/iiif/2/...   \n",
       "lunion-1867-01-10-a-i0017       [https://iiif.eluxemburgensia.lu/image/iiif/2/...   \n",
       "luxwort-1867-06-07-a-i0004      [https://iiif.eluxemburgensia.lu/image/iiif/2/...   \n",
       "lunion-1867-08-07-a-i0023       [https://iiif.eluxemburgensia.lu/image/iiif/2/...   \n",
       "\n",
       "                                year  month  day      journal edition  page  \\\n",
       "luxzeit1858-1858-03-10-a-i0018  1858      3   10  luxzeit1858       a     1   \n",
       "avenirgdl-1871-07-25-a-i0033    1871      7   25    avenirgdl       a     4   \n",
       "lunion-1867-01-10-a-i0017       1867      1   10       lunion       a     1   \n",
       "luxwort-1867-06-07-a-i0004      1867      6    7      luxwort       a     4   \n",
       "lunion-1867-08-07-a-i0023       1867      8    7       lunion       a     1   \n",
       "\n",
       "                                           meta_issue_id     x     y  width  \\\n",
       "luxzeit1858-1858-03-10-a-i0018  luxzeit1858-1858-03-10-a   153  1320   1375   \n",
       "avenirgdl-1871-07-25-a-i0033      avenirgdl-1871-07-25-a  1418  6225    610   \n",
       "lunion-1867-01-10-a-i0017            lunion-1867-01-10-a  2220  1021    431   \n",
       "luxwort-1867-06-07-a-i0004          luxwort-1867-06-07-a    50  4922   3334   \n",
       "lunion-1867-08-07-a-i0023            lunion-1867-08-07-a  2179  1014    428   \n",
       "\n",
       "                                height     area    tag  \n",
       "luxzeit1858-1858-03-10-a-i0018     812  1116500  table  \n",
       "avenirgdl-1871-07-25-a-i0033       546   333060  table  \n",
       "lunion-1867-01-10-a-i0017          224    96544  table  \n",
       "luxwort-1867-06-07-a-i0004         196   653464  table  \n",
       "lunion-1867-08-07-a-i0023          236   101008  table  "
      ]
     },
     "execution_count": 58,
     "metadata": {},
     "output_type": "execute_result"
    }
   ],
   "source": [
    "NLL['tag'] = 'table'\n",
    "NLL = NLL.drop(NLL[NLL.index.isin(NLL_tag[NLL_tag['tag'] == 'not a table'].index)].index)\n",
    "\n",
    "print(NLL.shape)\n",
    "NLL.head()"
   ]
  },
  {
   "cell_type": "markdown",
   "id": "fb85fdb2-c576-4d00-92e2-99e23b88af39",
   "metadata": {},
   "source": [
    "Since NLL-revised results from a manual annotation done on VGG Image Annotator (VIA), the *starting* point is a .json file and not a DataFrame.\n",
    "We upscale the manual annotations to match the original size of the images, as annotations were made on downscaled images."
   ]
  },
  {
   "cell_type": "code",
   "execution_count": 60,
   "id": "3f053f2b-1f22-49b0-a469-cb7ff80707f7",
   "metadata": {},
   "outputs": [],
   "source": [
    "with (open(\"via_annotations_NLL_revised.json\", \"r\")) as f:\n",
    "    via_annotations_NLL_revised = json.load(f)\n",
    "    \n",
    "with open(os.path.join(data_path, \"NLL_metadata_images.json\"), \"r\") as f:\n",
    "    NLL_metadata_images = json.load(f)\n",
    "    \n",
    "for k, v in via_annotations_NLL_revised.items():\n",
    "    v['filename'] = v['filename'][9:]\n",
    "    for region in v['regions']:\n",
    "            scale = NLL_metadata_images[k]['height']/NLL_metadata_images[k]['resized_height']\n",
    "            c = region['shape_attributes']\n",
    "            if c['name'] == 'rect':\n",
    "                c['x'] = int(scale*c['x'])\n",
    "                c['y'] = int(scale*c['y'])\n",
    "                c['width'] = int(scale*c['width'])\n",
    "                c['height'] = int(scale*c['height'])\n",
    "            elif c['name'] == 'polygon':\n",
    "                c['all_points_x'] = [int(scale*x) for x in c['all_points_x']]\n",
    "                c['all_points_y'] = [int(scale*x) for x in c['all_points_x']]"
   ]
  },
  {
   "cell_type": "code",
   "execution_count": 61,
   "id": "ffbfbc69-12dc-4917-84f9-6032404b0f96",
   "metadata": {},
   "outputs": [
    {
     "name": "stdout",
     "output_type": "stream",
     "text": [
      "(28094, 17)\n"
     ]
    },
    {
     "data": {
      "text/html": [
       "<div>\n",
       "<style scoped>\n",
       "    .dataframe tbody tr th:only-of-type {\n",
       "        vertical-align: middle;\n",
       "    }\n",
       "\n",
       "    .dataframe tbody tr th {\n",
       "        vertical-align: top;\n",
       "    }\n",
       "\n",
       "    .dataframe thead th {\n",
       "        text-align: right;\n",
       "    }\n",
       "</style>\n",
       "<table border=\"1\" class=\"dataframe\">\n",
       "  <thead>\n",
       "    <tr style=\"text-align: right;\">\n",
       "      <th></th>\n",
       "      <th>tb_coords</th>\n",
       "      <th>pid</th>\n",
       "      <th>iiifURL</th>\n",
       "      <th>iiifFragmentURL</th>\n",
       "      <th>year</th>\n",
       "      <th>month</th>\n",
       "      <th>day</th>\n",
       "      <th>journal</th>\n",
       "      <th>edition</th>\n",
       "      <th>page</th>\n",
       "      <th>meta_issue_id</th>\n",
       "      <th>x</th>\n",
       "      <th>y</th>\n",
       "      <th>width</th>\n",
       "      <th>height</th>\n",
       "      <th>area</th>\n",
       "      <th>tag</th>\n",
       "    </tr>\n",
       "  </thead>\n",
       "  <tbody>\n",
       "    <tr>\n",
       "      <th>luxzeit1858-1858-03-10-a-i0018</th>\n",
       "      <td>{'height': [812], 'width': [1375], 'x': [153],...</td>\n",
       "      <td>luxzeit1858-1858-03-10-a-p0001</td>\n",
       "      <td>https://iiif.eluxemburgensia.lu/image/iiif/2/a...</td>\n",
       "      <td>[https://iiif.eluxemburgensia.lu/image/iiif/2/...</td>\n",
       "      <td>1858</td>\n",
       "      <td>3</td>\n",
       "      <td>10</td>\n",
       "      <td>luxzeit1858</td>\n",
       "      <td>a</td>\n",
       "      <td>1</td>\n",
       "      <td>luxzeit1858-1858-03-10-a</td>\n",
       "      <td>153</td>\n",
       "      <td>1320</td>\n",
       "      <td>1375</td>\n",
       "      <td>812</td>\n",
       "      <td>1116500</td>\n",
       "      <td>table</td>\n",
       "    </tr>\n",
       "    <tr>\n",
       "      <th>lunion-1867-07-11-a-i0025</th>\n",
       "      <td>{'height': [1670], 'width': [779], 'x': [226],...</td>\n",
       "      <td>lunion-1867-07-11-a-p0002</td>\n",
       "      <td>https://iiif.eluxemburgensia.lu/image/iiif/2/a...</td>\n",
       "      <td>[https://iiif.eluxemburgensia.lu/image/iiif/2/...</td>\n",
       "      <td>1867</td>\n",
       "      <td>7</td>\n",
       "      <td>11</td>\n",
       "      <td>lunion</td>\n",
       "      <td>a</td>\n",
       "      <td>2</td>\n",
       "      <td>lunion-1867-07-11-a</td>\n",
       "      <td>226</td>\n",
       "      <td>1718</td>\n",
       "      <td>779</td>\n",
       "      <td>1670</td>\n",
       "      <td>1300930</td>\n",
       "      <td>table</td>\n",
       "    </tr>\n",
       "    <tr>\n",
       "      <th>luxland-1986-05-09-a-i0096</th>\n",
       "      <td>{'height': [51, 29, 703], 'width': [1653, 256,...</td>\n",
       "      <td>luxland-1986-05-09-a-p0009</td>\n",
       "      <td>https://iiif.eluxemburgensia.lu/image/iiif/2/a...</td>\n",
       "      <td>[https://iiif.eluxemburgensia.lu/image/iiif/2/...</td>\n",
       "      <td>1986</td>\n",
       "      <td>5</td>\n",
       "      <td>9</td>\n",
       "      <td>luxland</td>\n",
       "      <td>a</td>\n",
       "      <td>9</td>\n",
       "      <td>luxland-1986-05-09-a</td>\n",
       "      <td>720</td>\n",
       "      <td>4251</td>\n",
       "      <td>1963</td>\n",
       "      <td>764</td>\n",
       "      <td>1499732</td>\n",
       "      <td>table</td>\n",
       "    </tr>\n",
       "    <tr>\n",
       "      <th>luxwort-1868-05-29-a-i0005</th>\n",
       "      <td>{'height': [1071], 'width': [1634], 'x': [1766...</td>\n",
       "      <td>luxwort-1868-05-29-a-p0003</td>\n",
       "      <td>https://iiif.eluxemburgensia.lu/image/iiif/2/a...</td>\n",
       "      <td>[https://iiif.eluxemburgensia.lu/image/iiif/2/...</td>\n",
       "      <td>1868</td>\n",
       "      <td>5</td>\n",
       "      <td>29</td>\n",
       "      <td>luxwort</td>\n",
       "      <td>a</td>\n",
       "      <td>3</td>\n",
       "      <td>luxwort-1868-05-29-a</td>\n",
       "      <td>1766</td>\n",
       "      <td>3376</td>\n",
       "      <td>1634</td>\n",
       "      <td>1071</td>\n",
       "      <td>1750014</td>\n",
       "      <td>table</td>\n",
       "    </tr>\n",
       "    <tr>\n",
       "      <th>luxzeit1858-1858-08-21-a-i0023</th>\n",
       "      <td>{'height': [1289], 'width': [716], 'x': [1289]...</td>\n",
       "      <td>luxzeit1858-1858-08-21-a-p0004</td>\n",
       "      <td>https://iiif.eluxemburgensia.lu/image/iiif/2/a...</td>\n",
       "      <td>[https://iiif.eluxemburgensia.lu/image/iiif/2/...</td>\n",
       "      <td>1858</td>\n",
       "      <td>8</td>\n",
       "      <td>21</td>\n",
       "      <td>luxzeit1858</td>\n",
       "      <td>a</td>\n",
       "      <td>4</td>\n",
       "      <td>luxzeit1858-1858-08-21-a</td>\n",
       "      <td>1289</td>\n",
       "      <td>818</td>\n",
       "      <td>716</td>\n",
       "      <td>1289</td>\n",
       "      <td>922924</td>\n",
       "      <td>table</td>\n",
       "    </tr>\n",
       "  </tbody>\n",
       "</table>\n",
       "</div>"
      ],
      "text/plain": [
       "                                                                        tb_coords  \\\n",
       "luxzeit1858-1858-03-10-a-i0018  {'height': [812], 'width': [1375], 'x': [153],...   \n",
       "lunion-1867-07-11-a-i0025       {'height': [1670], 'width': [779], 'x': [226],...   \n",
       "luxland-1986-05-09-a-i0096      {'height': [51, 29, 703], 'width': [1653, 256,...   \n",
       "luxwort-1868-05-29-a-i0005      {'height': [1071], 'width': [1634], 'x': [1766...   \n",
       "luxzeit1858-1858-08-21-a-i0023  {'height': [1289], 'width': [716], 'x': [1289]...   \n",
       "\n",
       "                                                           pid  \\\n",
       "luxzeit1858-1858-03-10-a-i0018  luxzeit1858-1858-03-10-a-p0001   \n",
       "lunion-1867-07-11-a-i0025            lunion-1867-07-11-a-p0002   \n",
       "luxland-1986-05-09-a-i0096          luxland-1986-05-09-a-p0009   \n",
       "luxwort-1868-05-29-a-i0005          luxwort-1868-05-29-a-p0003   \n",
       "luxzeit1858-1858-08-21-a-i0023  luxzeit1858-1858-08-21-a-p0004   \n",
       "\n",
       "                                                                          iiifURL  \\\n",
       "luxzeit1858-1858-03-10-a-i0018  https://iiif.eluxemburgensia.lu/image/iiif/2/a...   \n",
       "lunion-1867-07-11-a-i0025       https://iiif.eluxemburgensia.lu/image/iiif/2/a...   \n",
       "luxland-1986-05-09-a-i0096      https://iiif.eluxemburgensia.lu/image/iiif/2/a...   \n",
       "luxwort-1868-05-29-a-i0005      https://iiif.eluxemburgensia.lu/image/iiif/2/a...   \n",
       "luxzeit1858-1858-08-21-a-i0023  https://iiif.eluxemburgensia.lu/image/iiif/2/a...   \n",
       "\n",
       "                                                                  iiifFragmentURL  \\\n",
       "luxzeit1858-1858-03-10-a-i0018  [https://iiif.eluxemburgensia.lu/image/iiif/2/...   \n",
       "lunion-1867-07-11-a-i0025       [https://iiif.eluxemburgensia.lu/image/iiif/2/...   \n",
       "luxland-1986-05-09-a-i0096      [https://iiif.eluxemburgensia.lu/image/iiif/2/...   \n",
       "luxwort-1868-05-29-a-i0005      [https://iiif.eluxemburgensia.lu/image/iiif/2/...   \n",
       "luxzeit1858-1858-08-21-a-i0023  [https://iiif.eluxemburgensia.lu/image/iiif/2/...   \n",
       "\n",
       "                                year  month  day      journal edition  page  \\\n",
       "luxzeit1858-1858-03-10-a-i0018  1858      3   10  luxzeit1858       a     1   \n",
       "lunion-1867-07-11-a-i0025       1867      7   11       lunion       a     2   \n",
       "luxland-1986-05-09-a-i0096      1986      5    9      luxland       a     9   \n",
       "luxwort-1868-05-29-a-i0005      1868      5   29      luxwort       a     3   \n",
       "luxzeit1858-1858-08-21-a-i0023  1858      8   21  luxzeit1858       a     4   \n",
       "\n",
       "                                           meta_issue_id     x     y  width  \\\n",
       "luxzeit1858-1858-03-10-a-i0018  luxzeit1858-1858-03-10-a   153  1320   1375   \n",
       "lunion-1867-07-11-a-i0025            lunion-1867-07-11-a   226  1718    779   \n",
       "luxland-1986-05-09-a-i0096          luxland-1986-05-09-a   720  4251   1963   \n",
       "luxwort-1868-05-29-a-i0005          luxwort-1868-05-29-a  1766  3376   1634   \n",
       "luxzeit1858-1858-08-21-a-i0023  luxzeit1858-1858-08-21-a  1289   818    716   \n",
       "\n",
       "                                height     area    tag  \n",
       "luxzeit1858-1858-03-10-a-i0018     812  1116500  table  \n",
       "lunion-1867-07-11-a-i0025         1670  1300930  table  \n",
       "luxland-1986-05-09-a-i0096         764  1499732  table  \n",
       "luxwort-1868-05-29-a-i0005        1071  1750014  table  \n",
       "luxzeit1858-1858-08-21-a-i0023    1289   922924  table  "
      ]
     },
     "execution_count": 61,
     "metadata": {},
     "output_type": "execute_result"
    }
   ],
   "source": [
    "NLL_filtered = filter_problematic_clusters(NLL)\n",
    "\n",
    "print(NLL_filtered.shape)\n",
    "NLL_filtered.head()"
   ]
  },
  {
   "cell_type": "code",
   "execution_count": 62,
   "id": "eed8d738-4a68-4e09-a38c-02c243e0ce26",
   "metadata": {},
   "outputs": [
    {
     "name": "stdout",
     "output_type": "stream",
     "text": [
      "(3783, 19)\n"
     ]
    },
    {
     "data": {
      "text/html": [
       "<div>\n",
       "<style scoped>\n",
       "    .dataframe tbody tr th:only-of-type {\n",
       "        vertical-align: middle;\n",
       "    }\n",
       "\n",
       "    .dataframe tbody tr th {\n",
       "        vertical-align: top;\n",
       "    }\n",
       "\n",
       "    .dataframe thead th {\n",
       "        text-align: right;\n",
       "    }\n",
       "</style>\n",
       "<table border=\"1\" class=\"dataframe\">\n",
       "  <thead>\n",
       "    <tr style=\"text-align: right;\">\n",
       "      <th></th>\n",
       "      <th>tag</th>\n",
       "      <th>date_tag</th>\n",
       "      <th>auto_tag</th>\n",
       "      <th>tb_coords</th>\n",
       "      <th>pid</th>\n",
       "      <th>iiifURL</th>\n",
       "      <th>iiifFragmentURL</th>\n",
       "      <th>year</th>\n",
       "      <th>month</th>\n",
       "      <th>day</th>\n",
       "      <th>journal</th>\n",
       "      <th>edition</th>\n",
       "      <th>page</th>\n",
       "      <th>meta_issue_id</th>\n",
       "      <th>x</th>\n",
       "      <th>y</th>\n",
       "      <th>width</th>\n",
       "      <th>height</th>\n",
       "      <th>area</th>\n",
       "    </tr>\n",
       "  </thead>\n",
       "  <tbody>\n",
       "    <tr>\n",
       "      <th>luxwort-1891-06-22-a-i0059</th>\n",
       "      <td>transport schedule</td>\n",
       "      <td>2021-11-04T18:49:59.000Z</td>\n",
       "      <td>False</td>\n",
       "      <td>{'height': [70, 227, 987], 'width': [284, 543,...</td>\n",
       "      <td>luxwort-1891-06-22-a-p0004</td>\n",
       "      <td>https://iiif.eluxemburgensia.lu/image/iiif/2/a...</td>\n",
       "      <td>[https://iiif.eluxemburgensia.lu/image/iiif/2/...</td>\n",
       "      <td>1891</td>\n",
       "      <td>6</td>\n",
       "      <td>22</td>\n",
       "      <td>luxwort</td>\n",
       "      <td>a</td>\n",
       "      <td>4</td>\n",
       "      <td>luxwort-1891-06-22-a</td>\n",
       "      <td>3109</td>\n",
       "      <td>4926</td>\n",
       "      <td>544</td>\n",
       "      <td>1298</td>\n",
       "      <td>706112</td>\n",
       "    </tr>\n",
       "    <tr>\n",
       "      <th>luxwort-1882-07-14-a-i0026</th>\n",
       "      <td>transport schedule</td>\n",
       "      <td>2021-11-04T18:06:27.000Z</td>\n",
       "      <td>False</td>\n",
       "      <td>{'height': [1185], 'width': [1111], 'x': [20],...</td>\n",
       "      <td>luxwort-1882-07-14-a-p0004</td>\n",
       "      <td>https://iiif.eluxemburgensia.lu/image/iiif/2/a...</td>\n",
       "      <td>[https://iiif.eluxemburgensia.lu/image/iiif/2/...</td>\n",
       "      <td>1882</td>\n",
       "      <td>7</td>\n",
       "      <td>14</td>\n",
       "      <td>luxwort</td>\n",
       "      <td>a</td>\n",
       "      <td>4</td>\n",
       "      <td>luxwort-1882-07-14-a</td>\n",
       "      <td>20</td>\n",
       "      <td>3132</td>\n",
       "      <td>1111</td>\n",
       "      <td>1185</td>\n",
       "      <td>1316535</td>\n",
       "    </tr>\n",
       "    <tr>\n",
       "      <th>luxwort-1929-05-29-a-i0038</th>\n",
       "      <td>exchange</td>\n",
       "      <td>2021-10-12T18:11:31.000Z</td>\n",
       "      <td>False</td>\n",
       "      <td>{'height': [225], 'width': [1002], 'x': [1543]...</td>\n",
       "      <td>luxwort-1929-05-29-a-p0007</td>\n",
       "      <td>https://iiif.eluxemburgensia.lu/image/iiif/2/a...</td>\n",
       "      <td>[https://iiif.eluxemburgensia.lu/image/iiif/2/...</td>\n",
       "      <td>1929</td>\n",
       "      <td>5</td>\n",
       "      <td>29</td>\n",
       "      <td>luxwort</td>\n",
       "      <td>a</td>\n",
       "      <td>7</td>\n",
       "      <td>luxwort-1929-05-29-a</td>\n",
       "      <td>1543</td>\n",
       "      <td>3532</td>\n",
       "      <td>1002</td>\n",
       "      <td>225</td>\n",
       "      <td>225450</td>\n",
       "    </tr>\n",
       "    <tr>\n",
       "      <th>luxwort-1941-05-29-a-i0063</th>\n",
       "      <td>exchange</td>\n",
       "      <td>2021-10-13T16:29:30.000Z</td>\n",
       "      <td>False</td>\n",
       "      <td>{'height': [587], 'width': [837], 'x': [2759],...</td>\n",
       "      <td>luxwort-1941-05-29-a-p0004</td>\n",
       "      <td>https://iiif.eluxemburgensia.lu/image/iiif/2/a...</td>\n",
       "      <td>[https://iiif.eluxemburgensia.lu/image/iiif/2/...</td>\n",
       "      <td>1941</td>\n",
       "      <td>5</td>\n",
       "      <td>29</td>\n",
       "      <td>luxwort</td>\n",
       "      <td>a</td>\n",
       "      <td>4</td>\n",
       "      <td>luxwort-1941-05-29-a</td>\n",
       "      <td>2759</td>\n",
       "      <td>2937</td>\n",
       "      <td>837</td>\n",
       "      <td>587</td>\n",
       "      <td>491319</td>\n",
       "    </tr>\n",
       "    <tr>\n",
       "      <th>luxwort-1895-06-12-a-i0005</th>\n",
       "      <td>exchange</td>\n",
       "      <td>2021-10-12T18:35:50.000Z</td>\n",
       "      <td>False</td>\n",
       "      <td>{'height': [2988], 'width': [894], 'x': [3135]...</td>\n",
       "      <td>luxwort-1895-06-12-a-p0003</td>\n",
       "      <td>https://iiif.eluxemburgensia.lu/image/iiif/2/a...</td>\n",
       "      <td>[https://iiif.eluxemburgensia.lu/image/iiif/2/...</td>\n",
       "      <td>1895</td>\n",
       "      <td>6</td>\n",
       "      <td>12</td>\n",
       "      <td>luxwort</td>\n",
       "      <td>a</td>\n",
       "      <td>3</td>\n",
       "      <td>luxwort-1895-06-12-a</td>\n",
       "      <td>3135</td>\n",
       "      <td>2815</td>\n",
       "      <td>894</td>\n",
       "      <td>2988</td>\n",
       "      <td>2671272</td>\n",
       "    </tr>\n",
       "  </tbody>\n",
       "</table>\n",
       "</div>"
      ],
      "text/plain": [
       "                                           tag                  date_tag  \\\n",
       "luxwort-1891-06-22-a-i0059  transport schedule  2021-11-04T18:49:59.000Z   \n",
       "luxwort-1882-07-14-a-i0026  transport schedule  2021-11-04T18:06:27.000Z   \n",
       "luxwort-1929-05-29-a-i0038            exchange  2021-10-12T18:11:31.000Z   \n",
       "luxwort-1941-05-29-a-i0063            exchange  2021-10-13T16:29:30.000Z   \n",
       "luxwort-1895-06-12-a-i0005            exchange  2021-10-12T18:35:50.000Z   \n",
       "\n",
       "                            auto_tag  \\\n",
       "luxwort-1891-06-22-a-i0059     False   \n",
       "luxwort-1882-07-14-a-i0026     False   \n",
       "luxwort-1929-05-29-a-i0038     False   \n",
       "luxwort-1941-05-29-a-i0063     False   \n",
       "luxwort-1895-06-12-a-i0005     False   \n",
       "\n",
       "                                                                    tb_coords  \\\n",
       "luxwort-1891-06-22-a-i0059  {'height': [70, 227, 987], 'width': [284, 543,...   \n",
       "luxwort-1882-07-14-a-i0026  {'height': [1185], 'width': [1111], 'x': [20],...   \n",
       "luxwort-1929-05-29-a-i0038  {'height': [225], 'width': [1002], 'x': [1543]...   \n",
       "luxwort-1941-05-29-a-i0063  {'height': [587], 'width': [837], 'x': [2759],...   \n",
       "luxwort-1895-06-12-a-i0005  {'height': [2988], 'width': [894], 'x': [3135]...   \n",
       "\n",
       "                                                   pid  \\\n",
       "luxwort-1891-06-22-a-i0059  luxwort-1891-06-22-a-p0004   \n",
       "luxwort-1882-07-14-a-i0026  luxwort-1882-07-14-a-p0004   \n",
       "luxwort-1929-05-29-a-i0038  luxwort-1929-05-29-a-p0007   \n",
       "luxwort-1941-05-29-a-i0063  luxwort-1941-05-29-a-p0004   \n",
       "luxwort-1895-06-12-a-i0005  luxwort-1895-06-12-a-p0003   \n",
       "\n",
       "                                                                      iiifURL  \\\n",
       "luxwort-1891-06-22-a-i0059  https://iiif.eluxemburgensia.lu/image/iiif/2/a...   \n",
       "luxwort-1882-07-14-a-i0026  https://iiif.eluxemburgensia.lu/image/iiif/2/a...   \n",
       "luxwort-1929-05-29-a-i0038  https://iiif.eluxemburgensia.lu/image/iiif/2/a...   \n",
       "luxwort-1941-05-29-a-i0063  https://iiif.eluxemburgensia.lu/image/iiif/2/a...   \n",
       "luxwort-1895-06-12-a-i0005  https://iiif.eluxemburgensia.lu/image/iiif/2/a...   \n",
       "\n",
       "                                                              iiifFragmentURL  \\\n",
       "luxwort-1891-06-22-a-i0059  [https://iiif.eluxemburgensia.lu/image/iiif/2/...   \n",
       "luxwort-1882-07-14-a-i0026  [https://iiif.eluxemburgensia.lu/image/iiif/2/...   \n",
       "luxwort-1929-05-29-a-i0038  [https://iiif.eluxemburgensia.lu/image/iiif/2/...   \n",
       "luxwort-1941-05-29-a-i0063  [https://iiif.eluxemburgensia.lu/image/iiif/2/...   \n",
       "luxwort-1895-06-12-a-i0005  [https://iiif.eluxemburgensia.lu/image/iiif/2/...   \n",
       "\n",
       "                            year  month  day  journal edition  page  \\\n",
       "luxwort-1891-06-22-a-i0059  1891      6   22  luxwort       a     4   \n",
       "luxwort-1882-07-14-a-i0026  1882      7   14  luxwort       a     4   \n",
       "luxwort-1929-05-29-a-i0038  1929      5   29  luxwort       a     7   \n",
       "luxwort-1941-05-29-a-i0063  1941      5   29  luxwort       a     4   \n",
       "luxwort-1895-06-12-a-i0005  1895      6   12  luxwort       a     3   \n",
       "\n",
       "                                   meta_issue_id     x     y  width  height  \\\n",
       "luxwort-1891-06-22-a-i0059  luxwort-1891-06-22-a  3109  4926    544    1298   \n",
       "luxwort-1882-07-14-a-i0026  luxwort-1882-07-14-a    20  3132   1111    1185   \n",
       "luxwort-1929-05-29-a-i0038  luxwort-1929-05-29-a  1543  3532   1002     225   \n",
       "luxwort-1941-05-29-a-i0063  luxwort-1941-05-29-a  2759  2937    837     587   \n",
       "luxwort-1895-06-12-a-i0005  luxwort-1895-06-12-a  3135  2815    894    2988   \n",
       "\n",
       "                               area  \n",
       "luxwort-1891-06-22-a-i0059   706112  \n",
       "luxwort-1882-07-14-a-i0026  1316535  \n",
       "luxwort-1929-05-29-a-i0038   225450  \n",
       "luxwort-1941-05-29-a-i0063   491319  \n",
       "luxwort-1895-06-12-a-i0005  2671272  "
      ]
     },
     "execution_count": 62,
     "metadata": {},
     "output_type": "execute_result"
    }
   ],
   "source": [
    "NLL_tag = NLL_tag[NLL_tag['tag'] != 'not a table']\n",
    "NLL_tag.loc[NLL_tag['tag'].isin(['currency rates', 'stock']), 'tag'] = 'exchange'\n",
    "NLL_tag.loc[NLL_tag['tag'] == 'sports results', 'tag'] = 'sport results'\n",
    "NLL_tag.loc[NLL_tag['tag'] == 'table', 'tag'] = 'miscellaneous'\n",
    "\n",
    "print(NLL_tag.shape)\n",
    "NLL_tag.head()"
   ]
  },
  {
   "cell_type": "markdown",
   "id": "cfde0235-c1c4-4ae5-a674-8beae0c22594",
   "metadata": {
    "tags": []
   },
   "source": [
    "## NLL: all tables"
   ]
  },
  {
   "cell_type": "code",
   "execution_count": 63,
   "id": "7d18cda5-c2cd-4b44-8271-b2414f343b23",
   "metadata": {},
   "outputs": [
    {
     "name": "stdout",
     "output_type": "stream",
     "text": [
      "table  58007 items (100.0%) on 28496 pages on 22734 issues\n"
     ]
    }
   ],
   "source": [
    "print_tag_distributions(NLL)"
   ]
  },
  {
   "cell_type": "code",
   "execution_count": null,
   "id": "b3e2e123-9ec5-405c-8d6d-35f2dc8e0a71",
   "metadata": {},
   "outputs": [],
   "source": [
    "NLL_train, NLL_val, NLL_test = stratified_split_by_page_id(NLL, [0.7, 0.2, 0.1])"
   ]
  },
  {
   "cell_type": "code",
   "execution_count": 243,
   "id": "8098a4e8-a1ca-4e57-b0a0-f79ac6d1a138",
   "metadata": {},
   "outputs": [
    {
     "name": "stdout",
     "output_type": "stream",
     "text": [
      "Dataset: 58007 items on 28496 pages.\n",
      "-- Train set: 40435 items on 19947 pages.\n",
      "-- Validation set: 11706 items on 5700 pages.\n",
      "-- Test set: 5866 items on 2849 pages.\n"
     ]
    }
   ],
   "source": [
    "print_splits(NLL_train, NLL_val, NLL_test)"
   ]
  },
  {
   "cell_type": "markdown",
   "id": "d3a2d725-168e-4fd4-aa21-a63b10ccb467",
   "metadata": {},
   "source": [
    "### Export\n",
    "#### VIA format"
   ]
  },
  {
   "cell_type": "code",
   "execution_count": 233,
   "id": "9891e9ef-203f-4374-a9f7-60c35fa7ca48",
   "metadata": {},
   "outputs": [],
   "source": [
    "via_annotations_NLL_train = convert_df_to_via(NLL_train)\n",
    "via_annotations_NLL_val = convert_df_to_via(NLL_val)\n",
    "via_annotations_NLL_test = convert_df_to_via(NLL_test)"
   ]
  },
  {
   "cell_type": "code",
   "execution_count": 237,
   "id": "4d6911cb-6eba-42c9-83d4-b7a660ad929f",
   "metadata": {},
   "outputs": [],
   "source": [
    "filename = \"via_annotations_NLL\"\n",
    "\n",
    "with (open(os.path.join(datasets_path, filename + \"_train.json\"), \"w\")) as f:\n",
    "    json.dump(via_annotations_NLL_train, f)\n",
    "    \n",
    "with (open(os.path.join(datasets_path, filename + \"_val.json\"), \"w\")) as f:\n",
    "    json.dump(via_annotations_NLL_val, f)\n",
    "\n",
    "with (open(os.path.join(datasets_path, filename + \"_test.json\"), \"w\")) as f:\n",
    "    json.dump(via_annotations_NLL_test, f)"
   ]
  },
  {
   "cell_type": "code",
   "execution_count": 278,
   "id": "841317d0-ecc1-4f31-9710-57ddeb6d1e68",
   "metadata": {
    "tags": []
   },
   "outputs": [],
   "source": [
    "filename = \"via_annotations_NLL\"\n",
    "\n",
    "with (open(os.path.join(datasets_path, filename + \"_train.json\"), \"r\")) as f:\n",
    "    via_annotations_NLL_train = json.load(f)\n",
    "    \n",
    "with (open(os.path.join(datasets_path, filename + \"_val.json\"), \"r\")) as f:\n",
    "    via_annotations_NLL_val = json.load(f)\n",
    "\n",
    "with (open(os.path.join(datasets_path, filename + \"_test.json\"), \"r\")) as f:\n",
    "    via_annotations_NLL_test = json.load(f)"
   ]
  },
  {
   "cell_type": "markdown",
   "id": "f705ac22-d743-4e83-b0a1-05a1219b0322",
   "metadata": {},
   "source": [
    "#### COCO format"
   ]
  },
  {
   "cell_type": "code",
   "execution_count": 280,
   "id": "5a1ad25c-ef29-44c6-beed-0550dcbf7606",
   "metadata": {},
   "outputs": [],
   "source": [
    "coco_annotations_NLL_train = convert_df_to_coco(NLL_train, NLL_metadata_images)\n",
    "coco_annotations_NLL_val = convert_df_to_coco(NLL_val, NLL_metadata_images)\n",
    "coco_annotations_NLL_test = convert_df_to_coco(NLL_test, NLL_metadata_images)"
   ]
  },
  {
   "cell_type": "code",
   "execution_count": 281,
   "id": "b8104bea-dca3-42de-9bba-ae2fda8ef48c",
   "metadata": {},
   "outputs": [],
   "source": [
    "filename = \"coco_annotations_NLL\"\n",
    "\n",
    "with (open(os.path.join(datasets_path, filename + \"_train.json\"), \"w\")) as f:\n",
    "    json.dump(coco_annotations_NLL_train, f)\n",
    "    \n",
    "with (open(os.path.join(datasets_path, filename + \"_val.json\"), \"w\")) as f:\n",
    "    json.dump(coco_annotations_NLL_val, f)\n",
    "\n",
    "with (open(os.path.join(datasets_path, filename + \"_test.json\"), \"w\")) as f:\n",
    "    json.dump(coco_annotations_NLL_test, f)"
   ]
  },
  {
   "cell_type": "code",
   "execution_count": 85,
   "id": "644d78d1-bb48-46c4-8a51-02a8d28f9c0d",
   "metadata": {
    "tags": []
   },
   "outputs": [],
   "source": [
    "filename = \"coco_annotations_NLL\"\n",
    "\n",
    "with (open(os.path.join(datasets_path, filename + \"_train.json\"), \"r\")) as f:\n",
    "    coco_annotations_NLL_train = json.load(f)\n",
    "    \n",
    "with (open(os.path.join(datasets_path, filename + \"_val.json\"), \"r\")) as f:\n",
    "    coco_annotations_NLL_val = json.load(f)\n",
    "\n",
    "with (open(os.path.join(datasets_path, filename + \"_test.json\"), \"r\")) as f:\n",
    "    coco_annotations_NLL_test = json.load(f)"
   ]
  },
  {
   "cell_type": "markdown",
   "id": "cd18d9ff-a48b-4960-9b50-8b3acda4adaf",
   "metadata": {
    "tags": []
   },
   "source": [
    "## NLL-revised: revised ground truth"
   ]
  },
  {
   "cell_type": "code",
   "execution_count": 86,
   "id": "2df279ca-3183-4ef8-9583-4a9f1b18b424",
   "metadata": {},
   "outputs": [],
   "source": [
    "all_keys = set(via_annotations_NLL_revised.keys())\n",
    "num_keys = len(all_keys)\n",
    "train_keys = random.sample(list(all_keys), int(num_keys*0.6))\n",
    "all_keys = all_keys.difference(train_keys)\n",
    "val_keys = random.sample(list(all_keys), int(num_keys*0.2))\n",
    "all_keys = all_keys.difference(val_keys)\n",
    "test_keys = all_keys.copy()\n",
    "\n",
    "all_keys = set(via_annotations_NLL_revised.keys())"
   ]
  },
  {
   "cell_type": "code",
   "execution_count": 222,
   "id": "6c06c7e6-ace0-4df9-9022-44a908573b28",
   "metadata": {},
   "outputs": [
    {
     "name": "stdout",
     "output_type": "stream",
     "text": [
      "Dataset: 5445 items on 1500 pages.\n",
      "-- Train set: 3412 items on 900 pages.\n",
      "-- Validation set: 985 items on 300 pages.\n",
      "-- Test set: 1048 items on 300 pages.\n"
     ]
    }
   ],
   "source": [
    "def get_num_tables(keys):\n",
    "    return sum([len(via_annotations_NLL_revised[k]['regions']) for k in keys])\n",
    "\n",
    "print(f\"Dataset: {get_num_tables(all_keys)} items on {len(all_keys)} pages.\")\n",
    "print(f\"-- Train set: {get_num_tables(train_keys)} items on {len(train_keys)} pages.\")\n",
    "print(f\"-- Validation set: {get_num_tables(val_keys)} items on {len(val_keys)} pages.\")\n",
    "print(f\"-- Test set: {get_num_tables(test_keys)} items on {len(test_keys)} pages.\")"
   ]
  },
  {
   "cell_type": "markdown",
   "id": "a1cc0d64-392b-4437-9127-36b124bfbca5",
   "metadata": {},
   "source": [
    "### Export\n",
    "#### VIA format"
   ]
  },
  {
   "cell_type": "code",
   "execution_count": 88,
   "id": "0fc25a76-a53e-495d-8a9f-dd4f8ab2b764",
   "metadata": {},
   "outputs": [],
   "source": [
    "via_annotations_NLL_revised_train = {k: v for k, v in via_annotations_NLL_revised.items() if k in train_keys}\n",
    "via_annotations_NLL_revised_val = {k: v for k, v in via_annotations_NLL_revised.items() if k in val_keys}\n",
    "via_annotations_NLL_revised_test = {k: v for k, v in via_annotations_NLL_revised.items() if k in test_keys}"
   ]
  },
  {
   "cell_type": "code",
   "execution_count": 148,
   "id": "42b66acf-9ecc-48f3-802c-e10e9978e539",
   "metadata": {},
   "outputs": [],
   "source": [
    "filename = \"via_annotations_NLL_revised\"\n",
    "\n",
    "with (open(os.path.join(datasets_path, filename + \".json\"), \"w\")) as f:\n",
    "    json.dump(via_annotations_NLL_revised, f)\n",
    "\n",
    "with (open(os.path.join(datasets_path, filename + \"_train.json\"), \"w\")) as f:\n",
    "    json.dump(via_annotations_NLL_revised_train, f)\n",
    "    \n",
    "with (open(os.path.join(datasets_path, filename + \"_val.json\"), \"w\")) as f:\n",
    "    json.dump(via_annotations_NLL_revised_val, f)\n",
    "\n",
    "with (open(os.path.join(datasets_path, filename + \"_test.json\"), \"w\")) as f:\n",
    "    json.dump(via_annotations_NLL_revised_test, f)"
   ]
  },
  {
   "cell_type": "code",
   "execution_count": 275,
   "id": "820ec23f-1e0e-440e-bc73-b3f749b1d1a7",
   "metadata": {},
   "outputs": [],
   "source": [
    "filename = \"via_annotations_NLL_revised\"\n",
    "\n",
    "with (open(os.path.join(datasets_path, filename + \".json\"), \"r\")) as f:\n",
    "    via_annotations_NLL_revised = json.load(f)\n",
    "    \n",
    "with (open(os.path.join(datasets_path, filename + \"_train.json\"), \"r\")) as f:\n",
    "    via_annotations_NLL_revised_train = json.load(f)\n",
    "\n",
    "with (open(os.path.join(datasets_path, filename + \"_val.json\"), \"r\")) as f:\n",
    "    via_annotations_NLL_revised_val = json.load(f)\n",
    "\n",
    "with (open(os.path.join(datasets_path, filename + \"_test.json\"), \"r\")) as f:\n",
    "    via_annotations_NLL_revised_test = json.load(f)"
   ]
  },
  {
   "cell_type": "markdown",
   "id": "b98971be-5a36-43ad-afff-310dd4881ee6",
   "metadata": {},
   "source": [
    "#### COCO format"
   ]
  },
  {
   "cell_type": "code",
   "execution_count": 276,
   "id": "ca4babe8-887b-4824-8dad-6520d557883d",
   "metadata": {},
   "outputs": [],
   "source": [
    "coco_annotations_NLL_revised = convert_via_to_coco(via_annotations_NLL_revised, NLL_metadata_images)\n",
    "coco_annotations_NLL_revised_train = convert_via_to_coco(via_annotations_NLL_revised_train, NLL_metadata_images)\n",
    "coco_annotations_NLL_revised_val = convert_via_to_coco(via_annotations_NLL_revised_val, NLL_metadata_images)\n",
    "coco_annotations_NLL_revised_test = convert_via_to_coco(via_annotations_NLL_revised_test, NLL_metadata_images)"
   ]
  },
  {
   "cell_type": "code",
   "execution_count": 277,
   "id": "f2bd6ef7-cac3-4841-9981-7329a6f8d2d4",
   "metadata": {},
   "outputs": [],
   "source": [
    "filename = \"coco_annotations_NLL_revised\"\n",
    "\n",
    "with (open(os.path.join(datasets_path, filename + \".json\"), \"w\")) as f:\n",
    "    json.dump(coco_annotations_NLL_revised, f)\n",
    "    \n",
    "with (open(os.path.join(datasets_path, filename + \"_train.json\"), \"w\")) as f:\n",
    "    json.dump(coco_annotations_NLL_revised_train, f)\n",
    "    \n",
    "with (open(os.path.join(datasets_path, filename + \"_val.json\"), \"w\")) as f:\n",
    "    json.dump(coco_annotations_NLL_revised_val, f)\n",
    "    \n",
    "with (open(os.path.join(datasets_path, filename + \"_test.json\"), \"w\")) as f:\n",
    "    json.dump(coco_annotations_NLL_revised_test, f)"
   ]
  },
  {
   "cell_type": "code",
   "execution_count": 224,
   "id": "5213baf5-6d4f-4402-b729-fd83f837efd3",
   "metadata": {
    "tags": []
   },
   "outputs": [],
   "source": [
    "filename = \"coco_annotations_NLL_revised\"\n",
    "\n",
    "with (open(os.path.join(datasets_path, filename + \".json\"), \"r\")) as f:\n",
    "    coco_annotations_NLL_revised = json.load(f)\n",
    "    \n",
    "with (open(os.path.join(datasets_path, filename + \"_train.json\"), \"r\")) as f:\n",
    "    coco_annotations_NLL_revised_train = json.load(f)\n",
    "    \n",
    "with (open(os.path.join(datasets_path, filename + \"_val.json\"), \"r\")) as f:\n",
    "    coco_annotations_NLL_revised_val = json.load(f)\n",
    "    \n",
    "with (open(os.path.join(datasets_path, filename + \"_test.json\"), \"r\")) as f:\n",
    "    coco_annotations_NLL_revised_test = json.load(f)"
   ]
  },
  {
   "cell_type": "markdown",
   "id": "e8b938fb-5bef-49b5-b5ab-02b4a633c0d9",
   "metadata": {},
   "source": [
    "## NLL-filtered: inconsistencies filtered out"
   ]
  },
  {
   "cell_type": "code",
   "execution_count": 96,
   "id": "5959f000-7a44-41e7-9c82-e39f4f0a4b1a",
   "metadata": {},
   "outputs": [
    {
     "name": "stdout",
     "output_type": "stream",
     "text": [
      "table  28094 items (100.0%) on 16987 pages on 15968 issues\n"
     ]
    }
   ],
   "source": [
    "print_tag_distributions(NLL_filtered)"
   ]
  },
  {
   "cell_type": "code",
   "execution_count": 97,
   "id": "89361ad2-dc3a-4b23-93b3-2d72d96d6f82",
   "metadata": {},
   "outputs": [],
   "source": [
    "total_size = len(NLL_filtered.pid.unique())\n",
    "NLL_filtered_test = NLL_filtered[NLL_filtered['pid'].isin(set(via_annotations_NLL_revised.keys()))]\n",
    "test_size = len(NLL_filtered_test.pid.unique())\n",
    "NLL_filtered = NLL_filtered[~NLL_filtered['pid'].isin(set(via_annotations_NLL_revised.keys()))]\n",
    "test_split = int(0.1*total_size - test_size)/len(NLL_filtered.pid.unique())\n",
    "train_split = int(0.7*total_size)/len(NLL_filtered.pid.unique())\n",
    "val_split = int(0.2*total_size)/len(NLL_filtered.pid.unique())"
   ]
  },
  {
   "cell_type": "code",
   "execution_count": null,
   "id": "a02cd256-e289-447d-a88e-11e23214c733",
   "metadata": {
    "tags": []
   },
   "outputs": [],
   "source": [
    "NLL_filtered_train, NLL_filtered_val, NLL_filtered_test_2 = stratified_split_by_page_id(\n",
    "    NLL_filtered, \n",
    "    [train_split, val_split, test_split],\n",
    "    print_splits=False)\n",
    "NLL_filtered_test = pd.concat([NLL_filtered_test, NLL_filtered_test_2])"
   ]
  },
  {
   "cell_type": "code",
   "execution_count": 210,
   "id": "43341efb-88b9-4e7c-abc0-18076779787e",
   "metadata": {},
   "outputs": [
    {
     "name": "stdout",
     "output_type": "stream",
     "text": [
      "Dataset: 26628 items on 16087 pages.\n",
      "-- Train set: 19641 items on 11890 pages.\n",
      "-- Validation set: 5640 items on 3399 pages.\n",
      "-- Test set: 1347 items on 798 pages.\n"
     ]
    }
   ],
   "source": [
    "print_splits(NLL_filtered_train, NLL_filtered_val, NLL_filtered_test)"
   ]
  },
  {
   "cell_type": "markdown",
   "id": "5c927c79-9b2d-4aa6-bc26-8954ae6ea585",
   "metadata": {},
   "source": [
    "### Export\n",
    "#### VIA format"
   ]
  },
  {
   "cell_type": "code",
   "execution_count": 211,
   "id": "50a500e3-6f46-49cd-af6c-8b33294271fe",
   "metadata": {},
   "outputs": [],
   "source": [
    "via_annotations_NLL_filtered_train = convert_df_to_via(NLL_filtered_train)\n",
    "via_annotations_NLL_filtered_val = convert_df_to_via(NLL_filtered_val)\n",
    "via_annotations_NLL_filtered_test = convert_df_to_via(NLL_filtered_test)"
   ]
  },
  {
   "cell_type": "code",
   "execution_count": 213,
   "id": "ae0a8309-b326-48c4-99d5-1bea40b3fa77",
   "metadata": {},
   "outputs": [],
   "source": [
    "filename = \"via_annotations_NLL_filtered\"\n",
    "\n",
    "with (open(os.path.join(datasets_path, filename + \"_train.json\"), \"w\")) as f:\n",
    "    json.dump(via_annotations_NLL_filtered_train, f)\n",
    "    \n",
    "with (open(os.path.join(datasets_path, filename + \"_val.json\"), \"w\")) as f:\n",
    "    json.dump(via_annotations_NLL_filtered_val, f)\n",
    "\n",
    "with (open(os.path.join(datasets_path, filename + \"_test.json\"), \"w\")) as f:\n",
    "    json.dump(via_annotations_NLL_filtered_test, f)"
   ]
  },
  {
   "cell_type": "code",
   "execution_count": 271,
   "id": "ec249462-67d9-419f-acbc-4b4a3fbd5ba1",
   "metadata": {
    "tags": []
   },
   "outputs": [],
   "source": [
    "filename = \"via_annotations_NLL_filtered\"\n",
    "\n",
    "with (open(os.path.join(datasets_path, filename + \"_train.json\"), \"r\")) as f:\n",
    "    via_annotations_NLL_filtered_train = json.load(f)\n",
    "\n",
    "with (open(os.path.join(datasets_path, filename + \"_val.json\"), \"r\")) as f:\n",
    "    via_annotations_NLL_filtered_val = json.load(f)\n",
    "\n",
    "with (open(os.path.join(datasets_path, filename + \"_test.json\"), \"r\")) as f:\n",
    "    via_annotations_NLL_filtered_test = json.load(f)"
   ]
  },
  {
   "cell_type": "markdown",
   "id": "6907e0b4-fe14-4c1c-bd92-c410bc8071af",
   "metadata": {},
   "source": [
    "#### COCO format"
   ]
  },
  {
   "cell_type": "code",
   "execution_count": 273,
   "id": "09e5410d-2b7d-4d48-bff4-bfe3d68d8137",
   "metadata": {},
   "outputs": [],
   "source": [
    "coco_annotations_NLL_filtered_train = convert_df_to_coco(NLL_filtered_train, NLL_metadata_images)\n",
    "coco_annotations_NLL_filtered_val = convert_df_to_coco(NLL_filtered_val, NLL_metadata_images)\n",
    "coco_annotations_NLL_filtered_test = convert_df_to_coco(NLL_filtered_test, NLL_metadata_images)"
   ]
  },
  {
   "cell_type": "code",
   "execution_count": 274,
   "id": "c76f5ee5-5ee3-4af9-970c-dd7278055dd0",
   "metadata": {},
   "outputs": [],
   "source": [
    "filename = \"coco_annotations_NLL_filtered\"\n",
    "\n",
    "with (open(os.path.join(datasets_path, filename + \"_train.json\"), \"w\")) as f:\n",
    "    json.dump(coco_annotations_NLL_filtered_train, f)\n",
    "    \n",
    "with (open(os.path.join(datasets_path, filename + \"_val.json\"), \"w\")) as f:\n",
    "    json.dump(coco_annotations_NLL_filtered_val, f)\n",
    "\n",
    "with (open(os.path.join(datasets_path, filename + \"_test.json\"), \"w\")) as f:\n",
    "    json.dump(coco_annotations_NLL_filtered_test, f)"
   ]
  },
  {
   "cell_type": "code",
   "execution_count": 218,
   "id": "c23ff619-5095-4a5a-afef-6fe2e5864e5e",
   "metadata": {
    "tags": []
   },
   "outputs": [],
   "source": [
    "filename = \"coco_annotations_NLL_filtered\"\n",
    "\n",
    "with (open(os.path.join(datasets_path, filename + \"_train.json\"), \"r\")) as f:\n",
    "    coco_annotations_NLL_filtered_train = json.load(f)\n",
    "    \n",
    "with (open(os.path.join(datasets_path, filename + \"_val.json\"), \"r\")) as f:\n",
    "    coco_annotations_NLL_filtered_val = json.load(f)\n",
    "\n",
    "with (open(os.path.join(datasets_path, filename + \"_test.json\"), \"r\")) as f:\n",
    "    coco_annotations_NLL_filtered_test = json.load(f)"
   ]
  },
  {
   "cell_type": "markdown",
   "id": "1ae4c266-57ea-417c-be64-6537e155697f",
   "metadata": {
    "tags": []
   },
   "source": [
    "## NLL-tag: manually classified tables"
   ]
  },
  {
   "cell_type": "code",
   "execution_count": 108,
   "id": "f3258b2b-3089-4ef8-a489-9bd86c9876d7",
   "metadata": {},
   "outputs": [
    {
     "name": "stdout",
     "output_type": "stream",
     "text": [
      "cinema                  4 items (0.1%) on    2 pages on    2 issues\n",
      "election               49 items (1.3%) on   11 pages on   11 issues\n",
      "exchange              444 items (11.7%) on  312 pages on  312 issues\n",
      "food prices           177 items (4.7%) on  143 pages on  143 issues\n",
      "lotto                   8 items (0.2%) on    8 pages on    8 issues\n",
      "miscellaneous         365 items (9.6%) on  217 pages on  208 issues\n",
      "radio                   3 items (0.1%) on    3 pages on    3 issues\n",
      "sport results         403 items (10.7%) on   41 pages on   41 issues\n",
      "transport schedule   2301 items (60.8%) on  408 pages on  407 issues\n",
      "weather                29 items (0.8%) on   28 pages on   28 issues\n"
     ]
    }
   ],
   "source": [
    "print_tag_distributions(NLL_tag)"
   ]
  },
  {
   "cell_type": "code",
   "execution_count": 109,
   "id": "62a125f4-a389-49ad-9364-df7cbfbe61d9",
   "metadata": {},
   "outputs": [
    {
     "name": "stdout",
     "output_type": "stream",
     "text": [
      "exchange              444 items (11.7%) on  312 pages on  312 issues\n",
      "food prices           177 items (4.7%) on  143 pages on  143 issues\n",
      "miscellaneous         429 items (11.3%) on  237 pages on  228 issues\n",
      "sport results         403 items (10.7%) on   41 pages on   41 issues\n",
      "transport schedule   2301 items (60.8%) on  408 pages on  407 issues\n",
      "weather                29 items (0.8%) on   28 pages on   28 issues\n"
     ]
    }
   ],
   "source": [
    "NLL_tag.loc[NLL_tag['tag'].isin({'cinema', 'election', 'lotto', 'radio'}), 'tag'] = 'miscellaneous'\n",
    "print_tag_distributions(NLL_tag)"
   ]
  },
  {
   "cell_type": "code",
   "execution_count": null,
   "id": "a4b5c2fe-0d5f-44b2-809c-56ac954b97e5",
   "metadata": {},
   "outputs": [],
   "source": [
    "NLL_tag_train, NLL_tag_val, NLL_tag_test = stratified_split_by_page_id(NLL_tag, [0.6, 0.2, 0.2])"
   ]
  },
  {
   "cell_type": "code",
   "execution_count": 219,
   "id": "0456dc08-6627-4db7-a0ba-233b9132e555",
   "metadata": {},
   "outputs": [
    {
     "name": "stdout",
     "output_type": "stream",
     "text": [
      "Dataset: 3783 items on 984 pages.\n",
      "-- Train set: 2354 items on 605 pages.\n",
      "-- Validation set: 549 items on 173 pages.\n",
      "-- Test set: 880 items on 206 pages.\n"
     ]
    }
   ],
   "source": [
    "print_splits(NLL_tag_train, NLL_tag_val, NLL_tag_test)"
   ]
  },
  {
   "cell_type": "code",
   "execution_count": 196,
   "id": "b59e9788-5e35-4cd2-8ba5-712abb351ffa",
   "metadata": {},
   "outputs": [
    {
     "name": "stdout",
     "output_type": "stream",
     "text": [
      "__________________Train set__________________\n",
      "exchange              265 items (11.3%) on  188 pages on  188 issues\n",
      "food prices           108 items (4.6%) on   86 pages on   86 issues\n",
      "miscellaneous         276 items (11.7%) on  145 pages on  142 issues\n",
      "sport results         238 items (10.1%) on   25 pages on   25 issues\n",
      "transport schedule   1452 items (61.7%) on  245 pages on  245 issues\n",
      "weather                15 items (0.6%) on   14 pages on   14 issues\n",
      "\n",
      "_______________Validation set________________\n",
      "exchange               79 items (14.4%) on   55 pages on   55 issues\n",
      "food prices            30 items (5.5%) on   28 pages on   28 issues\n",
      "miscellaneous          82 items (14.9%) on   48 pages on   48 issues\n",
      "sport results          37 items (6.7%) on    7 pages on    7 issues\n",
      "transport schedule    318 items (57.9%) on   68 pages on   68 issues\n",
      "weather                 3 items (0.5%) on    3 pages on    3 issues\n",
      "\n",
      "__________________Test set___________________\n",
      "exchange              100 items (11.4%) on   69 pages on   69 issues\n",
      "food prices            39 items (4.4%) on   29 pages on   29 issues\n",
      "miscellaneous          71 items (8.1%) on   44 pages on   44 issues\n",
      "sport results         128 items (14.5%) on    9 pages on    9 issues\n",
      "transport schedule    531 items (60.3%) on   95 pages on   95 issues\n",
      "weather                11 items (1.2%) on   11 pages on   11 issues\n"
     ]
    }
   ],
   "source": [
    "print(\"__________________Train set__________________\")\n",
    "print_tag_distributions(NLL_tag_train)\n",
    "print()\n",
    "print(\"_______________Validation set________________\")\n",
    "print_tag_distributions(NLL_tag_val)\n",
    "print()\n",
    "print(\"__________________Test set___________________\")\n",
    "print_tag_distributions(NLL_tag_test)"
   ]
  },
  {
   "cell_type": "markdown",
   "id": "8dfc2516-7087-4bcc-990b-881d62d7997b",
   "metadata": {},
   "source": [
    "### Export\n",
    "#### VIA format"
   ]
  },
  {
   "cell_type": "code",
   "execution_count": 197,
   "id": "003b4d11-6b3e-4e31-b14e-7f6832a4314b",
   "metadata": {},
   "outputs": [],
   "source": [
    "via_annotations_NLL_tag_train = convert_df_to_via(NLL_tag_train)\n",
    "via_annotations_NLL_tag_val = convert_df_to_via(NLL_tag_val)\n",
    "via_annotations_NLL_tag_test = convert_df_to_via(NLL_tag_test)"
   ]
  },
  {
   "cell_type": "code",
   "execution_count": 199,
   "id": "5c450075-a444-4378-bf45-4339cdf80231",
   "metadata": {},
   "outputs": [],
   "source": [
    "filename = \"via_annotations_NLL_tag\"\n",
    "\n",
    "with (open(os.path.join(datasets_path, filename + \"_train.json\"), \"w\")) as f:\n",
    "    json.dump(via_annotations_NLL_tag_train, f)\n",
    "    \n",
    "with (open(os.path.join(datasets_path, filename + \"_val.json\"), \"w\")) as f:\n",
    "    json.dump(via_annotations_NLL_tag_val, f)\n",
    "\n",
    "with (open(os.path.join(datasets_path, filename + \"_test.json\"), \"w\")) as f:\n",
    "    json.dump(via_annotations_NLL_tag_test, f)"
   ]
  },
  {
   "cell_type": "code",
   "execution_count": 266,
   "id": "fcc9c1a3-d527-4eda-890e-3e1897423d33",
   "metadata": {
    "tags": []
   },
   "outputs": [],
   "source": [
    "filename = \"via_annotations_NLL_tag\"\n",
    "\n",
    "with (open(os.path.join(datasets_path, filename + \"_train.json\"), \"r\")) as f:\n",
    "    via_annotations_NLL_tag_train = json.load(f)\n",
    "    \n",
    "with (open(os.path.join(datasets_path, filename + \"_val.json\"), \"r\")) as f:\n",
    "    via_annotations_NLL_tag_val = json.load(f)\n",
    "\n",
    "with (open(os.path.join(datasets_path, filename + \"_test.json\"), \"r\")) as f:\n",
    "    via_annotations_NLL_tag_test = json.load(f)"
   ]
  },
  {
   "cell_type": "markdown",
   "id": "46259856-3d59-43e9-8126-67aa60a991e6",
   "metadata": {},
   "source": [
    "#### COCO format"
   ]
  },
  {
   "cell_type": "code",
   "execution_count": 269,
   "id": "d6ccbb7a-33f1-4b38-a75a-ef3be45ebb8e",
   "metadata": {},
   "outputs": [],
   "source": [
    "coco_annotations_NLL_tag_train = convert_df_to_coco(NLL_tag_train, NLL_metadata_images)\n",
    "coco_annotations_NLL_tag_val = convert_df_to_coco(NLL_tag_val, NLL_metadata_images)\n",
    "coco_annotations_NLL_tag_test = convert_df_to_coco(NLL_tag_test, NLL_metadata_images)"
   ]
  },
  {
   "cell_type": "code",
   "execution_count": 270,
   "id": "1adea563-a417-4bbb-8857-540597982171",
   "metadata": {},
   "outputs": [],
   "source": [
    "filename = \"coco_annotations_NLL_tag\"\n",
    "\n",
    "with (open(os.path.join(datasets_path, filename + \"_train.json\"), \"w\")) as f:\n",
    "    json.dump(coco_annotations_NLL_tag_train, f)\n",
    "    \n",
    "with (open(os.path.join(datasets_path, filename + \"_val.json\"), \"w\")) as f:\n",
    "    json.dump(coco_annotations_NLL_tag_val, f)\n",
    "\n",
    "with (open(os.path.join(datasets_path, filename + \"_test.json\"), \"w\")) as f:\n",
    "    json.dump(coco_annotations_NLL_tag_test, f)"
   ]
  },
  {
   "cell_type": "code",
   "execution_count": 204,
   "id": "9ade3c4a-070e-44a3-9f54-f54b6008c8de",
   "metadata": {
    "tags": []
   },
   "outputs": [],
   "source": [
    "filename = \"coco_annotations_NLL_tag\"\n",
    "\n",
    "with (open(os.path.join(datasets_path, filename + \"_train.json\"), \"r\")) as f:\n",
    "    coco_annotations_NLL_tag_train = json.load(f)\n",
    "    \n",
    "with (open(os.path.join(datasets_path, filename + \"_val.json\"), \"r\")) as f:\n",
    "    coco_annotations_NLL_tag_val = json.load(f)\n",
    "\n",
    "with (open(os.path.join(datasets_path, filename + \"_test.json\"), \"r\")) as f:\n",
    "    coco_annotations_NLL_tag_test = json.load(f)"
   ]
  },
  {
   "cell_type": "code",
   "execution_count": null,
   "id": "16aeac9d-079d-431c-9e7d-fe6409bdfa8e",
   "metadata": {},
   "outputs": [],
   "source": []
  }
 ],
 "metadata": {
  "kernelspec": {
   "display_name": "pdm",
   "language": "python",
   "name": "pdm"
  },
  "language_info": {
   "codemirror_mode": {
    "name": "ipython",
    "version": 3
   },
   "file_extension": ".py",
   "mimetype": "text/x-python",
   "name": "python",
   "nbconvert_exporter": "python",
   "pygments_lexer": "ipython3",
   "version": "3.9.7"
  }
 },
 "nbformat": 4,
 "nbformat_minor": 5
}

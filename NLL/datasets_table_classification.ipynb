{
 "cells": [
  {
   "cell_type": "code",
   "execution_count": 21,
   "id": "6df9f774-9428-4611-932c-3e812ad8d7f1",
   "metadata": {},
   "outputs": [
    {
     "name": "stdout",
     "output_type": "stream",
     "text": [
      "The autoreload extension is already loaded. To reload it, use:\n",
      "  %reload_ext autoreload\n"
     ]
    }
   ],
   "source": [
    "import os\n",
    "import sys\n",
    "import json\n",
    "import numpy as np\n",
    "import pandas as pd\n",
    "\n",
    "sys.path.append(\"../helpers/\")\n",
    "from datasets import *\n",
    "\n",
    "data_path = \"data\"\n",
    "datasets_path = \"datasets\"\n",
    "\n",
    "%load_ext autoreload\n",
    "%autoreload 2"
   ]
  },
  {
   "cell_type": "markdown",
   "id": "ba43bfaa-9c61-4a01-8c25-13dd5887df54",
   "metadata": {},
   "source": [
    "# Datasets for table classification\n",
    "In this notebook, NLL-tag and NLL-auto are constructed."
   ]
  },
  {
   "cell_type": "code",
   "execution_count": 22,
   "id": "d6c4db76-f8df-4727-bde0-bc976faffb94",
   "metadata": {},
   "outputs": [],
   "source": [
    "NLL_tag = pd.read_parquet(os.path.join(data_path, \"NLL_tag.parquet\"))\n",
    "NLL_auto = pd.read_parquet(os.path.join(data_path, \"NLL_auto.parquet\"))"
   ]
  },
  {
   "cell_type": "markdown",
   "id": "500a45aa-7bd4-42ab-a2e1-5385d2db1e98",
   "metadata": {
    "tags": []
   },
   "source": [
    "## Pre-processing"
   ]
  },
  {
   "cell_type": "code",
   "execution_count": 23,
   "id": "bab2ab4c-8ab8-48e5-a355-d9f7ac7062ae",
   "metadata": {},
   "outputs": [
    {
     "name": "stdout",
     "output_type": "stream",
     "text": [
      "(3783, 22)\n"
     ]
    },
    {
     "data": {
      "text/html": [
       "<div>\n",
       "<style scoped>\n",
       "    .dataframe tbody tr th:only-of-type {\n",
       "        vertical-align: middle;\n",
       "    }\n",
       "\n",
       "    .dataframe tbody tr th {\n",
       "        vertical-align: top;\n",
       "    }\n",
       "\n",
       "    .dataframe thead th {\n",
       "        text-align: right;\n",
       "    }\n",
       "</style>\n",
       "<table border=\"1\" class=\"dataframe\">\n",
       "  <thead>\n",
       "    <tr style=\"text-align: right;\">\n",
       "      <th></th>\n",
       "      <th>tag</th>\n",
       "      <th>date_tag</th>\n",
       "      <th>auto_tag</th>\n",
       "      <th>tb_coords</th>\n",
       "      <th>text_coords</th>\n",
       "      <th>pid</th>\n",
       "      <th>text</th>\n",
       "      <th>language</th>\n",
       "      <th>iiifURL</th>\n",
       "      <th>iiifFragmentURL</th>\n",
       "      <th>...</th>\n",
       "      <th>day</th>\n",
       "      <th>journal</th>\n",
       "      <th>edition</th>\n",
       "      <th>page</th>\n",
       "      <th>meta_issue_id</th>\n",
       "      <th>x</th>\n",
       "      <th>y</th>\n",
       "      <th>width</th>\n",
       "      <th>height</th>\n",
       "      <th>area</th>\n",
       "    </tr>\n",
       "  </thead>\n",
       "  <tbody>\n",
       "    <tr>\n",
       "      <th>luxwort-1891-06-22-a-i0059</th>\n",
       "      <td>transport schedule</td>\n",
       "      <td>2021-11-04T18:49:59.000Z</td>\n",
       "      <td>False</td>\n",
       "      <td>{'height': [70, 227, 987], 'width': [284, 543,...</td>\n",
       "      <td>{'height': [25, 14, 24, 27, 15, 22, 15, 23, 21...</td>\n",
       "      <td>luxwort-1891-06-22-a-p0004</td>\n",
       "      <td>abf. vom Abfahrt nfangs- nom End- -Uli nach A....</td>\n",
       "      <td>de</td>\n",
       "      <td>https://iiif.eluxemburgensia.lu/image/iiif/2/a...</td>\n",
       "      <td>[https://iiif.eluxemburgensia.lu/image/iiif/2/...</td>\n",
       "      <td>...</td>\n",
       "      <td>22</td>\n",
       "      <td>luxwort</td>\n",
       "      <td>a</td>\n",
       "      <td>4</td>\n",
       "      <td>luxwort-1891-06-22-a</td>\n",
       "      <td>3109</td>\n",
       "      <td>4926</td>\n",
       "      <td>544</td>\n",
       "      <td>1298</td>\n",
       "      <td>706112</td>\n",
       "    </tr>\n",
       "    <tr>\n",
       "      <th>luxwort-1882-07-14-a-i0026</th>\n",
       "      <td>transport schedule</td>\n",
       "      <td>2021-11-04T18:06:27.000Z</td>\n",
       "      <td>False</td>\n",
       "      <td>{'height': [1185], 'width': [1111], 'x': [20],...</td>\n",
       "      <td>{'height': [30, 30, 14, 29, 14, 27, 15, 36, 12...</td>\n",
       "      <td>luxwort-1882-07-14-a-p0004</td>\n",
       "      <td>»bs. VlUffel. « Namllr , »llon , Nettingen , C...</td>\n",
       "      <td>de</td>\n",
       "      <td>https://iiif.eluxemburgensia.lu/image/iiif/2/a...</td>\n",
       "      <td>[https://iiif.eluxemburgensia.lu/image/iiif/2/...</td>\n",
       "      <td>...</td>\n",
       "      <td>14</td>\n",
       "      <td>luxwort</td>\n",
       "      <td>a</td>\n",
       "      <td>4</td>\n",
       "      <td>luxwort-1882-07-14-a</td>\n",
       "      <td>20</td>\n",
       "      <td>3132</td>\n",
       "      <td>1111</td>\n",
       "      <td>1185</td>\n",
       "      <td>1316535</td>\n",
       "    </tr>\n",
       "    <tr>\n",
       "      <th>luxwort-1929-05-29-a-i0038</th>\n",
       "      <td>exchange</td>\n",
       "      <td>2021-10-12T18:11:31.000Z</td>\n",
       "      <td>False</td>\n",
       "      <td>{'height': [225], 'width': [1002], 'x': [1543]...</td>\n",
       "      <td>{'height': [28, 22, 29, 22, 21, 21, 25, 22, 20...</td>\n",
       "      <td>luxwort-1929-05-29-a-p0007</td>\n",
       "      <td>Îelgo-Polonaise Soc. (Sobelpol) îruxell. Soc. ...</td>\n",
       "      <td>fr</td>\n",
       "      <td>https://iiif.eluxemburgensia.lu/image/iiif/2/a...</td>\n",
       "      <td>[https://iiif.eluxemburgensia.lu/image/iiif/2/...</td>\n",
       "      <td>...</td>\n",
       "      <td>29</td>\n",
       "      <td>luxwort</td>\n",
       "      <td>a</td>\n",
       "      <td>7</td>\n",
       "      <td>luxwort-1929-05-29-a</td>\n",
       "      <td>1543</td>\n",
       "      <td>3532</td>\n",
       "      <td>1002</td>\n",
       "      <td>225</td>\n",
       "      <td>225450</td>\n",
       "    </tr>\n",
       "    <tr>\n",
       "      <th>luxwort-1941-05-29-a-i0063</th>\n",
       "      <td>exchange</td>\n",
       "      <td>2021-10-13T16:29:30.000Z</td>\n",
       "      <td>False</td>\n",
       "      <td>{'height': [587], 'width': [837], 'x': [2759],...</td>\n",
       "      <td>{'height': [21, 21, 18, 20, 21, 17, 47, 20, 35...</td>\n",
       "      <td>luxwort-1941-05-29-a-p0004</td>\n",
       "      <td>78. M tel Flf Äiitrtlitj t-M I tetd | »nef 1 i...</td>\n",
       "      <td>de</td>\n",
       "      <td>https://iiif.eluxemburgensia.lu/image/iiif/2/a...</td>\n",
       "      <td>[https://iiif.eluxemburgensia.lu/image/iiif/2/...</td>\n",
       "      <td>...</td>\n",
       "      <td>29</td>\n",
       "      <td>luxwort</td>\n",
       "      <td>a</td>\n",
       "      <td>4</td>\n",
       "      <td>luxwort-1941-05-29-a</td>\n",
       "      <td>2759</td>\n",
       "      <td>2937</td>\n",
       "      <td>837</td>\n",
       "      <td>587</td>\n",
       "      <td>491319</td>\n",
       "    </tr>\n",
       "    <tr>\n",
       "      <th>luxwort-1895-06-12-a-i0005</th>\n",
       "      <td>exchange</td>\n",
       "      <td>2021-10-12T18:35:50.000Z</td>\n",
       "      <td>False</td>\n",
       "      <td>{'height': [2988], 'width': [894], 'x': [3135]...</td>\n",
       "      <td>{'height': [35, 27, 28, 35, 35, 28, 36, 35, 30...</td>\n",
       "      <td>luxwort-1895-06-12-a-p0003</td>\n",
       "      <td>Banque de France 9tei$«6anf Banque nationale B...</td>\n",
       "      <td>de</td>\n",
       "      <td>https://iiif.eluxemburgensia.lu/image/iiif/2/a...</td>\n",
       "      <td>[https://iiif.eluxemburgensia.lu/image/iiif/2/...</td>\n",
       "      <td>...</td>\n",
       "      <td>12</td>\n",
       "      <td>luxwort</td>\n",
       "      <td>a</td>\n",
       "      <td>3</td>\n",
       "      <td>luxwort-1895-06-12-a</td>\n",
       "      <td>3135</td>\n",
       "      <td>2815</td>\n",
       "      <td>894</td>\n",
       "      <td>2988</td>\n",
       "      <td>2671272</td>\n",
       "    </tr>\n",
       "  </tbody>\n",
       "</table>\n",
       "<p>5 rows × 22 columns</p>\n",
       "</div>"
      ],
      "text/plain": [
       "                                           tag                  date_tag  \\\n",
       "luxwort-1891-06-22-a-i0059  transport schedule  2021-11-04T18:49:59.000Z   \n",
       "luxwort-1882-07-14-a-i0026  transport schedule  2021-11-04T18:06:27.000Z   \n",
       "luxwort-1929-05-29-a-i0038            exchange  2021-10-12T18:11:31.000Z   \n",
       "luxwort-1941-05-29-a-i0063            exchange  2021-10-13T16:29:30.000Z   \n",
       "luxwort-1895-06-12-a-i0005            exchange  2021-10-12T18:35:50.000Z   \n",
       "\n",
       "                            auto_tag  \\\n",
       "luxwort-1891-06-22-a-i0059     False   \n",
       "luxwort-1882-07-14-a-i0026     False   \n",
       "luxwort-1929-05-29-a-i0038     False   \n",
       "luxwort-1941-05-29-a-i0063     False   \n",
       "luxwort-1895-06-12-a-i0005     False   \n",
       "\n",
       "                                                                    tb_coords  \\\n",
       "luxwort-1891-06-22-a-i0059  {'height': [70, 227, 987], 'width': [284, 543,...   \n",
       "luxwort-1882-07-14-a-i0026  {'height': [1185], 'width': [1111], 'x': [20],...   \n",
       "luxwort-1929-05-29-a-i0038  {'height': [225], 'width': [1002], 'x': [1543]...   \n",
       "luxwort-1941-05-29-a-i0063  {'height': [587], 'width': [837], 'x': [2759],...   \n",
       "luxwort-1895-06-12-a-i0005  {'height': [2988], 'width': [894], 'x': [3135]...   \n",
       "\n",
       "                                                                  text_coords  \\\n",
       "luxwort-1891-06-22-a-i0059  {'height': [25, 14, 24, 27, 15, 22, 15, 23, 21...   \n",
       "luxwort-1882-07-14-a-i0026  {'height': [30, 30, 14, 29, 14, 27, 15, 36, 12...   \n",
       "luxwort-1929-05-29-a-i0038  {'height': [28, 22, 29, 22, 21, 21, 25, 22, 20...   \n",
       "luxwort-1941-05-29-a-i0063  {'height': [21, 21, 18, 20, 21, 17, 47, 20, 35...   \n",
       "luxwort-1895-06-12-a-i0005  {'height': [35, 27, 28, 35, 35, 28, 36, 35, 30...   \n",
       "\n",
       "                                                   pid  \\\n",
       "luxwort-1891-06-22-a-i0059  luxwort-1891-06-22-a-p0004   \n",
       "luxwort-1882-07-14-a-i0026  luxwort-1882-07-14-a-p0004   \n",
       "luxwort-1929-05-29-a-i0038  luxwort-1929-05-29-a-p0007   \n",
       "luxwort-1941-05-29-a-i0063  luxwort-1941-05-29-a-p0004   \n",
       "luxwort-1895-06-12-a-i0005  luxwort-1895-06-12-a-p0003   \n",
       "\n",
       "                                                                         text  \\\n",
       "luxwort-1891-06-22-a-i0059  abf. vom Abfahrt nfangs- nom End- -Uli nach A....   \n",
       "luxwort-1882-07-14-a-i0026  »bs. VlUffel. « Namllr , »llon , Nettingen , C...   \n",
       "luxwort-1929-05-29-a-i0038  Îelgo-Polonaise Soc. (Sobelpol) îruxell. Soc. ...   \n",
       "luxwort-1941-05-29-a-i0063  78. M tel Flf Äiitrtlitj t-M I tetd | »nef 1 i...   \n",
       "luxwort-1895-06-12-a-i0005  Banque de France 9tei$«6anf Banque nationale B...   \n",
       "\n",
       "                           language  \\\n",
       "luxwort-1891-06-22-a-i0059       de   \n",
       "luxwort-1882-07-14-a-i0026       de   \n",
       "luxwort-1929-05-29-a-i0038       fr   \n",
       "luxwort-1941-05-29-a-i0063       de   \n",
       "luxwort-1895-06-12-a-i0005       de   \n",
       "\n",
       "                                                                      iiifURL  \\\n",
       "luxwort-1891-06-22-a-i0059  https://iiif.eluxemburgensia.lu/image/iiif/2/a...   \n",
       "luxwort-1882-07-14-a-i0026  https://iiif.eluxemburgensia.lu/image/iiif/2/a...   \n",
       "luxwort-1929-05-29-a-i0038  https://iiif.eluxemburgensia.lu/image/iiif/2/a...   \n",
       "luxwort-1941-05-29-a-i0063  https://iiif.eluxemburgensia.lu/image/iiif/2/a...   \n",
       "luxwort-1895-06-12-a-i0005  https://iiif.eluxemburgensia.lu/image/iiif/2/a...   \n",
       "\n",
       "                                                              iiifFragmentURL  \\\n",
       "luxwort-1891-06-22-a-i0059  [https://iiif.eluxemburgensia.lu/image/iiif/2/...   \n",
       "luxwort-1882-07-14-a-i0026  [https://iiif.eluxemburgensia.lu/image/iiif/2/...   \n",
       "luxwort-1929-05-29-a-i0038  [https://iiif.eluxemburgensia.lu/image/iiif/2/...   \n",
       "luxwort-1941-05-29-a-i0063  [https://iiif.eluxemburgensia.lu/image/iiif/2/...   \n",
       "luxwort-1895-06-12-a-i0005  [https://iiif.eluxemburgensia.lu/image/iiif/2/...   \n",
       "\n",
       "                            ...  day  journal  edition page  \\\n",
       "luxwort-1891-06-22-a-i0059  ...   22  luxwort        a    4   \n",
       "luxwort-1882-07-14-a-i0026  ...   14  luxwort        a    4   \n",
       "luxwort-1929-05-29-a-i0038  ...   29  luxwort        a    7   \n",
       "luxwort-1941-05-29-a-i0063  ...   29  luxwort        a    4   \n",
       "luxwort-1895-06-12-a-i0005  ...   12  luxwort        a    3   \n",
       "\n",
       "                                   meta_issue_id     x     y  width  height  \\\n",
       "luxwort-1891-06-22-a-i0059  luxwort-1891-06-22-a  3109  4926    544    1298   \n",
       "luxwort-1882-07-14-a-i0026  luxwort-1882-07-14-a    20  3132   1111    1185   \n",
       "luxwort-1929-05-29-a-i0038  luxwort-1929-05-29-a  1543  3532   1002     225   \n",
       "luxwort-1941-05-29-a-i0063  luxwort-1941-05-29-a  2759  2937    837     587   \n",
       "luxwort-1895-06-12-a-i0005  luxwort-1895-06-12-a  3135  2815    894    2988   \n",
       "\n",
       "                               area  \n",
       "luxwort-1891-06-22-a-i0059   706112  \n",
       "luxwort-1882-07-14-a-i0026  1316535  \n",
       "luxwort-1929-05-29-a-i0038   225450  \n",
       "luxwort-1941-05-29-a-i0063   491319  \n",
       "luxwort-1895-06-12-a-i0005  2671272  \n",
       "\n",
       "[5 rows x 22 columns]"
      ]
     },
     "execution_count": 23,
     "metadata": {},
     "output_type": "execute_result"
    }
   ],
   "source": [
    "NLL_tag = NLL_tag[NLL_tag['tag'] != 'not a table']\n",
    "NLL_tag.loc[NLL_tag['tag'].isin(['currency rates', 'stock']), 'tag'] = 'exchange'\n",
    "NLL_tag.loc[NLL_tag['tag'] == 'sports results', 'tag'] = 'sport results'\n",
    "NLL_tag.loc[NLL_tag['tag'] == 'table', 'tag'] = 'miscellaneous'\n",
    "\n",
    "print(NLL_tag.shape)\n",
    "NLL_tag.head()"
   ]
  },
  {
   "cell_type": "code",
   "execution_count": 24,
   "id": "8a3921e9-0074-4bf4-9f40-d70210d54838",
   "metadata": {},
   "outputs": [
    {
     "name": "stdout",
     "output_type": "stream",
     "text": [
      "(8531, 25)\n"
     ]
    },
    {
     "data": {
      "text/html": [
       "<div>\n",
       "<style scoped>\n",
       "    .dataframe tbody tr th:only-of-type {\n",
       "        vertical-align: middle;\n",
       "    }\n",
       "\n",
       "    .dataframe tbody tr th {\n",
       "        vertical-align: top;\n",
       "    }\n",
       "\n",
       "    .dataframe thead th {\n",
       "        text-align: right;\n",
       "    }\n",
       "</style>\n",
       "<table border=\"1\" class=\"dataframe\">\n",
       "  <thead>\n",
       "    <tr style=\"text-align: right;\">\n",
       "      <th></th>\n",
       "      <th>tag</th>\n",
       "      <th>date_tag</th>\n",
       "      <th>auto_tag</th>\n",
       "      <th>same_journal</th>\n",
       "      <th>timespan</th>\n",
       "      <th>og_id</th>\n",
       "      <th>tb_coords</th>\n",
       "      <th>text_coords</th>\n",
       "      <th>pid</th>\n",
       "      <th>text</th>\n",
       "      <th>...</th>\n",
       "      <th>day</th>\n",
       "      <th>journal</th>\n",
       "      <th>edition</th>\n",
       "      <th>page</th>\n",
       "      <th>meta_issue_id</th>\n",
       "      <th>x</th>\n",
       "      <th>y</th>\n",
       "      <th>width</th>\n",
       "      <th>height</th>\n",
       "      <th>area</th>\n",
       "    </tr>\n",
       "  </thead>\n",
       "  <tbody>\n",
       "    <tr>\n",
       "      <th>luxwort-1890-11-12-a-i0017</th>\n",
       "      <td>food prices</td>\n",
       "      <td>2021-11-17T13:35:00.256Z</td>\n",
       "      <td>True</td>\n",
       "      <td>True</td>\n",
       "      <td>1825.0</td>\n",
       "      <td>luxwort-1891-01-10-a-i0011</td>\n",
       "      <td>{'height': [561], 'width': [1024], 'x': [3291]...</td>\n",
       "      <td>{'height': [34, 28, 36, 29, 34, 27, 34, 37, 14...</td>\n",
       "      <td>luxwort-1890-11-12-a-p0003</td>\n",
       "      <td>gt. «t. 3fr. ©t. Leizen p« Heltol. »ischelfruc...</td>\n",
       "      <td>...</td>\n",
       "      <td>12</td>\n",
       "      <td>luxwort</td>\n",
       "      <td>a</td>\n",
       "      <td>3</td>\n",
       "      <td>luxwort-1890-11-12-a</td>\n",
       "      <td>3291</td>\n",
       "      <td>4238</td>\n",
       "      <td>1024</td>\n",
       "      <td>561</td>\n",
       "      <td>574464</td>\n",
       "    </tr>\n",
       "    <tr>\n",
       "      <th>luxwort-1891-06-22-a-i0059</th>\n",
       "      <td>transport schedule</td>\n",
       "      <td>2021-11-04T18:49:59.000Z</td>\n",
       "      <td>False</td>\n",
       "      <td>None</td>\n",
       "      <td>NaN</td>\n",
       "      <td>None</td>\n",
       "      <td>{'height': [70, 227, 987], 'width': [284, 543,...</td>\n",
       "      <td>{'height': [25, 14, 24, 27, 15, 22, 15, 23, 21...</td>\n",
       "      <td>luxwort-1891-06-22-a-p0004</td>\n",
       "      <td>abf. vom Abfahrt nfangs- nom End- -Uli nach A....</td>\n",
       "      <td>...</td>\n",
       "      <td>22</td>\n",
       "      <td>luxwort</td>\n",
       "      <td>a</td>\n",
       "      <td>4</td>\n",
       "      <td>luxwort-1891-06-22-a</td>\n",
       "      <td>3109</td>\n",
       "      <td>4926</td>\n",
       "      <td>544</td>\n",
       "      <td>1298</td>\n",
       "      <td>706112</td>\n",
       "    </tr>\n",
       "    <tr>\n",
       "      <th>courriergdl-1864-10-07-a-i0017</th>\n",
       "      <td>transport schedule</td>\n",
       "      <td>2021-11-17T13:22:12.748Z</td>\n",
       "      <td>True</td>\n",
       "      <td>True</td>\n",
       "      <td>1825.0</td>\n",
       "      <td>courriergdl-1865-03-23-a-i0016</td>\n",
       "      <td>{'height': [416], 'width': [3473], 'x': [83], ...</td>\n",
       "      <td>{'height': [36, 29, 25, 34, 7, 27, 7, 27, 28, ...</td>\n",
       "      <td>courriergdl-1864-10-07-a-p0001</td>\n",
       "      <td>Dép.deLuxemb. Arr. à Bettembg. — àTlùonville —...</td>\n",
       "      <td>...</td>\n",
       "      <td>7</td>\n",
       "      <td>courriergdl</td>\n",
       "      <td>a</td>\n",
       "      <td>1</td>\n",
       "      <td>courriergdl-1864-10-07-a</td>\n",
       "      <td>83</td>\n",
       "      <td>825</td>\n",
       "      <td>3473</td>\n",
       "      <td>416</td>\n",
       "      <td>1444768</td>\n",
       "    </tr>\n",
       "    <tr>\n",
       "      <th>waechtersauer-1855-08-25-a-i0008</th>\n",
       "      <td>food prices</td>\n",
       "      <td>2021-11-17T13:18:11.617Z</td>\n",
       "      <td>True</td>\n",
       "      <td>True</td>\n",
       "      <td>1825.0</td>\n",
       "      <td>waechtersauer-1855-07-25-a-i0012</td>\n",
       "      <td>{'height': [405], 'width': [888], 'x': [2048],...</td>\n",
       "      <td>{'height': [38, 33, 34, 27, 34, 25, 29, 34, 25...</td>\n",
       "      <td>waechtersauer-1855-08-25-a-p0004</td>\n",
       "      <td>Diekirch. Weizen. perHektl, 32.00 Mengtorn id....</td>\n",
       "      <td>...</td>\n",
       "      <td>25</td>\n",
       "      <td>waechtersauer</td>\n",
       "      <td>a</td>\n",
       "      <td>4</td>\n",
       "      <td>waechtersauer-1855-08-25-a</td>\n",
       "      <td>2048</td>\n",
       "      <td>3643</td>\n",
       "      <td>888</td>\n",
       "      <td>405</td>\n",
       "      <td>359640</td>\n",
       "    </tr>\n",
       "    <tr>\n",
       "      <th>courriergdl-1861-08-21-a-i0008</th>\n",
       "      <td>transport schedule</td>\n",
       "      <td>2021-11-17T13:18:47.956Z</td>\n",
       "      <td>True</td>\n",
       "      <td>True</td>\n",
       "      <td>1825.0</td>\n",
       "      <td>courriergdl-1861-08-20-a-i0016</td>\n",
       "      <td>{'height': [218], 'width': [3416], 'x': [158],...</td>\n",
       "      <td>{'height': [31, 23, 22, 35, 28, 30, 16, 24, 25...</td>\n",
       "      <td>courriergdl-1861-08-21-a-p0001</td>\n",
       "      <td>Ligne de France. Départs de Luxembourg : 5 h. ...</td>\n",
       "      <td>...</td>\n",
       "      <td>21</td>\n",
       "      <td>courriergdl</td>\n",
       "      <td>a</td>\n",
       "      <td>1</td>\n",
       "      <td>courriergdl-1861-08-21-a</td>\n",
       "      <td>158</td>\n",
       "      <td>825</td>\n",
       "      <td>3416</td>\n",
       "      <td>218</td>\n",
       "      <td>744688</td>\n",
       "    </tr>\n",
       "  </tbody>\n",
       "</table>\n",
       "<p>5 rows × 25 columns</p>\n",
       "</div>"
      ],
      "text/plain": [
       "                                                 tag  \\\n",
       "luxwort-1890-11-12-a-i0017               food prices   \n",
       "luxwort-1891-06-22-a-i0059        transport schedule   \n",
       "courriergdl-1864-10-07-a-i0017    transport schedule   \n",
       "waechtersauer-1855-08-25-a-i0008         food prices   \n",
       "courriergdl-1861-08-21-a-i0008    transport schedule   \n",
       "\n",
       "                                                  date_tag  auto_tag  \\\n",
       "luxwort-1890-11-12-a-i0017        2021-11-17T13:35:00.256Z      True   \n",
       "luxwort-1891-06-22-a-i0059        2021-11-04T18:49:59.000Z     False   \n",
       "courriergdl-1864-10-07-a-i0017    2021-11-17T13:22:12.748Z      True   \n",
       "waechtersauer-1855-08-25-a-i0008  2021-11-17T13:18:11.617Z      True   \n",
       "courriergdl-1861-08-21-a-i0008    2021-11-17T13:18:47.956Z      True   \n",
       "\n",
       "                                 same_journal  timespan  \\\n",
       "luxwort-1890-11-12-a-i0017               True    1825.0   \n",
       "luxwort-1891-06-22-a-i0059               None       NaN   \n",
       "courriergdl-1864-10-07-a-i0017           True    1825.0   \n",
       "waechtersauer-1855-08-25-a-i0008         True    1825.0   \n",
       "courriergdl-1861-08-21-a-i0008           True    1825.0   \n",
       "\n",
       "                                                             og_id  \\\n",
       "luxwort-1890-11-12-a-i0017              luxwort-1891-01-10-a-i0011   \n",
       "luxwort-1891-06-22-a-i0059                                    None   \n",
       "courriergdl-1864-10-07-a-i0017      courriergdl-1865-03-23-a-i0016   \n",
       "waechtersauer-1855-08-25-a-i0008  waechtersauer-1855-07-25-a-i0012   \n",
       "courriergdl-1861-08-21-a-i0008      courriergdl-1861-08-20-a-i0016   \n",
       "\n",
       "                                                                          tb_coords  \\\n",
       "luxwort-1890-11-12-a-i0017        {'height': [561], 'width': [1024], 'x': [3291]...   \n",
       "luxwort-1891-06-22-a-i0059        {'height': [70, 227, 987], 'width': [284, 543,...   \n",
       "courriergdl-1864-10-07-a-i0017    {'height': [416], 'width': [3473], 'x': [83], ...   \n",
       "waechtersauer-1855-08-25-a-i0008  {'height': [405], 'width': [888], 'x': [2048],...   \n",
       "courriergdl-1861-08-21-a-i0008    {'height': [218], 'width': [3416], 'x': [158],...   \n",
       "\n",
       "                                                                        text_coords  \\\n",
       "luxwort-1890-11-12-a-i0017        {'height': [34, 28, 36, 29, 34, 27, 34, 37, 14...   \n",
       "luxwort-1891-06-22-a-i0059        {'height': [25, 14, 24, 27, 15, 22, 15, 23, 21...   \n",
       "courriergdl-1864-10-07-a-i0017    {'height': [36, 29, 25, 34, 7, 27, 7, 27, 28, ...   \n",
       "waechtersauer-1855-08-25-a-i0008  {'height': [38, 33, 34, 27, 34, 25, 29, 34, 25...   \n",
       "courriergdl-1861-08-21-a-i0008    {'height': [31, 23, 22, 35, 28, 30, 16, 24, 25...   \n",
       "\n",
       "                                                               pid  \\\n",
       "luxwort-1890-11-12-a-i0017              luxwort-1890-11-12-a-p0003   \n",
       "luxwort-1891-06-22-a-i0059              luxwort-1891-06-22-a-p0004   \n",
       "courriergdl-1864-10-07-a-i0017      courriergdl-1864-10-07-a-p0001   \n",
       "waechtersauer-1855-08-25-a-i0008  waechtersauer-1855-08-25-a-p0004   \n",
       "courriergdl-1861-08-21-a-i0008      courriergdl-1861-08-21-a-p0001   \n",
       "\n",
       "                                                                               text  \\\n",
       "luxwort-1890-11-12-a-i0017        gt. «t. 3fr. ©t. Leizen p« Heltol. »ischelfruc...   \n",
       "luxwort-1891-06-22-a-i0059        abf. vom Abfahrt nfangs- nom End- -Uli nach A....   \n",
       "courriergdl-1864-10-07-a-i0017    Dép.deLuxemb. Arr. à Bettembg. — àTlùonville —...   \n",
       "waechtersauer-1855-08-25-a-i0008  Diekirch. Weizen. perHektl, 32.00 Mengtorn id....   \n",
       "courriergdl-1861-08-21-a-i0008    Ligne de France. Départs de Luxembourg : 5 h. ...   \n",
       "\n",
       "                                  ... day        journal edition  page  \\\n",
       "luxwort-1890-11-12-a-i0017        ...  12        luxwort       a     3   \n",
       "luxwort-1891-06-22-a-i0059        ...  22        luxwort       a     4   \n",
       "courriergdl-1864-10-07-a-i0017    ...   7    courriergdl       a     1   \n",
       "waechtersauer-1855-08-25-a-i0008  ...  25  waechtersauer       a     4   \n",
       "courriergdl-1861-08-21-a-i0008    ...  21    courriergdl       a     1   \n",
       "\n",
       "                                               meta_issue_id     x     y  \\\n",
       "luxwort-1890-11-12-a-i0017              luxwort-1890-11-12-a  3291  4238   \n",
       "luxwort-1891-06-22-a-i0059              luxwort-1891-06-22-a  3109  4926   \n",
       "courriergdl-1864-10-07-a-i0017      courriergdl-1864-10-07-a    83   825   \n",
       "waechtersauer-1855-08-25-a-i0008  waechtersauer-1855-08-25-a  2048  3643   \n",
       "courriergdl-1861-08-21-a-i0008      courriergdl-1861-08-21-a   158   825   \n",
       "\n",
       "                                 width  height     area  \n",
       "luxwort-1890-11-12-a-i0017        1024     561   574464  \n",
       "luxwort-1891-06-22-a-i0059         544    1298   706112  \n",
       "courriergdl-1864-10-07-a-i0017    3473     416  1444768  \n",
       "waechtersauer-1855-08-25-a-i0008   888     405   359640  \n",
       "courriergdl-1861-08-21-a-i0008    3416     218   744688  \n",
       "\n",
       "[5 rows x 25 columns]"
      ]
     },
     "execution_count": 24,
     "metadata": {},
     "output_type": "execute_result"
    }
   ],
   "source": [
    "NLL_auto = NLL_auto[NLL_auto['tag'] != 'not a table']\n",
    "NLL_auto.loc[NLL_auto['tag'].isin(['currency rates', 'stock']), 'tag'] = 'exchange'\n",
    "NLL_auto.loc[NLL_auto['tag'] == 'sports results', 'tag'] = 'sport results'\n",
    "NLL_auto.loc[NLL_auto['tag'] == 'table', 'tag'] = 'miscellaneous'\n",
    "\n",
    "print(NLL_auto.shape)\n",
    "NLL_auto.head()"
   ]
  },
  {
   "cell_type": "markdown",
   "id": "65776725-97b7-45d6-aa3f-28f4b84b2506",
   "metadata": {
    "tags": []
   },
   "source": [
    "## NLL-tag: manually classified tables"
   ]
  },
  {
   "cell_type": "code",
   "execution_count": 5,
   "id": "210d1abb-1fb4-4e84-98cc-8c6bfaf2998e",
   "metadata": {},
   "outputs": [
    {
     "name": "stdout",
     "output_type": "stream",
     "text": [
      "cinema                  4 items (0.1%) on    2 pages on    2 issues\n",
      "election               49 items (1.3%) on   11 pages on   11 issues\n",
      "exchange              444 items (11.7%) on  312 pages on  312 issues\n",
      "food prices           177 items (4.7%) on  143 pages on  143 issues\n",
      "lotto                   8 items (0.2%) on    8 pages on    8 issues\n",
      "miscellaneous         365 items (9.6%) on  217 pages on  208 issues\n",
      "radio                   3 items (0.1%) on    3 pages on    3 issues\n",
      "sport results         403 items (10.7%) on   41 pages on   41 issues\n",
      "transport schedule   2301 items (60.8%) on  408 pages on  407 issues\n",
      "weather                29 items (0.8%) on   28 pages on   28 issues\n"
     ]
    }
   ],
   "source": [
    "print_tag_distributions(NLL_tag)"
   ]
  },
  {
   "cell_type": "code",
   "execution_count": 6,
   "id": "b696c86e-7038-4eba-839e-ce1911212d68",
   "metadata": {},
   "outputs": [
    {
     "name": "stdout",
     "output_type": "stream",
     "text": [
      "exchange              444 items (11.7%) on  312 pages on  312 issues\n",
      "food prices           177 items (4.7%) on  143 pages on  143 issues\n",
      "miscellaneous         429 items (11.3%) on  237 pages on  228 issues\n",
      "sport results         403 items (10.7%) on   41 pages on   41 issues\n",
      "transport schedule   2301 items (60.8%) on  408 pages on  407 issues\n",
      "weather                29 items (0.8%) on   28 pages on   28 issues\n"
     ]
    }
   ],
   "source": [
    "NLL_tag.loc[NLL_tag['tag'].isin({'cinema', 'election', 'lotto', 'radio'}), 'tag'] = 'miscellaneous'\n",
    "print_tag_distributions(NLL_tag)"
   ]
  },
  {
   "cell_type": "code",
   "execution_count": 7,
   "id": "a0ca5bb8-f8a3-4ab4-8207-72dc512127c9",
   "metadata": {},
   "outputs": [],
   "source": [
    "NLL_tag = NLL_tag[[\"text\", \"pid\", \"tag\", \"text_coords\", \"x\", \"y\", \"width\", \"height\", \"meta_issue_id\"]]"
   ]
  },
  {
   "cell_type": "markdown",
   "id": "4e380c35-23bf-48b5-8181-ad9f2e08d369",
   "metadata": {},
   "source": [
    "We use the same splits that for the datasets on table detection."
   ]
  },
  {
   "cell_type": "code",
   "execution_count": 8,
   "id": "979689d6-0b78-4b6d-952e-8209a771d009",
   "metadata": {},
   "outputs": [],
   "source": [
    "filename = \"via_annotations_NLL_tag\"\n",
    "\n",
    "with (open(os.path.join(datasets_path, filename + \"_train.json\"), \"r\")) as f:\n",
    "    via_annotations_NLL_tag_train = json.load(f)\n",
    "\n",
    "with (open(os.path.join(datasets_path, filename + \"_val.json\"), \"r\")) as f:\n",
    "    via_annotations_NLL_tag_val = json.load(f)\n",
    "\n",
    "with (open(os.path.join(datasets_path, filename + \"_test.json\"), \"r\")) as f:\n",
    "    via_annotations_NLL_tag_test = json.load(f)"
   ]
  },
  {
   "cell_type": "code",
   "execution_count": 9,
   "id": "080bdd17-afc9-4cb7-8948-1018c35970b6",
   "metadata": {},
   "outputs": [
    {
     "name": "stdout",
     "output_type": "stream",
     "text": [
      "Dataset: 3783 items on 984 pages.\n",
      "-- Train set: 2354 items on 605 pages.\n",
      "-- Validation set: 549 items on 173 pages.\n",
      "-- Test set: 880 items on 206 pages.\n"
     ]
    }
   ],
   "source": [
    "NLL_tag_train = NLL_tag[NLL_tag['pid'].isin(via_annotations_NLL_tag_train.keys())]\n",
    "NLL_tag_val = NLL_tag[NLL_tag['pid'].isin(via_annotations_NLL_tag_val.keys())]\n",
    "NLL_tag_test = NLL_tag[NLL_tag['pid'].isin(via_annotations_NLL_tag_test.keys())]\n",
    "\n",
    "print_splits(NLL_tag_train, NLL_tag_val, NLL_tag_test)"
   ]
  },
  {
   "cell_type": "code",
   "execution_count": 10,
   "id": "03ec0998-879b-4f7a-935f-33d2650473bc",
   "metadata": {},
   "outputs": [
    {
     "name": "stdout",
     "output_type": "stream",
     "text": [
      "__________________Train set__________________\n",
      "exchange              265 items (11.3%) on  188 pages on  188 issues\n",
      "food prices           108 items (4.6%) on   86 pages on   86 issues\n",
      "miscellaneous         276 items (11.7%) on  145 pages on  142 issues\n",
      "sport results         238 items (10.1%) on   25 pages on   25 issues\n",
      "transport schedule   1452 items (61.7%) on  245 pages on  245 issues\n",
      "weather                15 items (0.6%) on   14 pages on   14 issues\n",
      "\n",
      "_______________Validation set________________\n",
      "exchange               79 items (14.4%) on   55 pages on   55 issues\n",
      "food prices            30 items (5.5%) on   28 pages on   28 issues\n",
      "miscellaneous          82 items (14.9%) on   48 pages on   48 issues\n",
      "sport results          37 items (6.7%) on    7 pages on    7 issues\n",
      "transport schedule    318 items (57.9%) on   68 pages on   68 issues\n",
      "weather                 3 items (0.5%) on    3 pages on    3 issues\n",
      "\n",
      "__________________Test set___________________\n",
      "exchange              100 items (11.4%) on   69 pages on   69 issues\n",
      "food prices            39 items (4.4%) on   29 pages on   29 issues\n",
      "miscellaneous          71 items (8.1%) on   44 pages on   44 issues\n",
      "sport results         128 items (14.5%) on    9 pages on    9 issues\n",
      "transport schedule    531 items (60.3%) on   95 pages on   95 issues\n",
      "weather                11 items (1.2%) on   11 pages on   11 issues\n"
     ]
    }
   ],
   "source": [
    "print(\"__________________Train set__________________\")\n",
    "print_tag_distributions(NLL_tag_train)\n",
    "print()\n",
    "print(\"_______________Validation set________________\")\n",
    "print_tag_distributions(NLL_tag_val)\n",
    "print()\n",
    "print(\"__________________Test set___________________\")\n",
    "print_tag_distributions(NLL_tag_test)"
   ]
  },
  {
   "cell_type": "markdown",
   "id": "458f2bdc-8521-4d77-8fcc-a71e03f73dea",
   "metadata": {},
   "source": [
    "### Export"
   ]
  },
  {
   "cell_type": "code",
   "execution_count": 11,
   "id": "dcd72440-54ea-434a-b274-b4e08e388ab4",
   "metadata": {},
   "outputs": [],
   "source": [
    "filename = \"NLL_tag\"\n",
    "NLL_tag_train.to_parquet(os.path.join(datasets_path, filename + \"_train.parquet\"))\n",
    "NLL_tag_val.to_parquet(os.path.join(datasets_path, filename + \"_val.parquet\"))\n",
    "NLL_tag_test.to_parquet(os.path.join(datasets_path, filename + \"_test.parquet\"))"
   ]
  },
  {
   "cell_type": "code",
   "execution_count": 12,
   "id": "9bf0708b-c01b-4749-9a41-79215538c2ea",
   "metadata": {},
   "outputs": [],
   "source": [
    "filename = \"NLL_tag\"\n",
    "NLL_tag_train = pd.read_parquet(os.path.join(datasets_path, filename + \"_train.parquet\"))\n",
    "NLL_tag_val = pd.read_parquet(os.path.join(datasets_path, filename + \"_val.parquet\"))\n",
    "NLL_tag_test = pd.read_parquet(os.path.join(datasets_path, filename + \"_test.parquet\"))"
   ]
  },
  {
   "cell_type": "markdown",
   "id": "8df8c2e3-b8f2-4ba8-8972-4071fddfb556",
   "metadata": {
    "tags": []
   },
   "source": [
    "## NLL-auto: automatically classified tables"
   ]
  },
  {
   "cell_type": "code",
   "execution_count": 25,
   "id": "2d075c9c-93ad-4835-befa-aaa756a29d93",
   "metadata": {},
   "outputs": [
    {
     "name": "stdout",
     "output_type": "stream",
     "text": [
      "cinema                  4 items (0.0%) on    2 pages on    2 issues\n",
      "election               49 items (0.6%) on   11 pages on   11 issues\n",
      "exchange             1123 items (13.2%) on  874 pages on  874 issues\n",
      "food prices           616 items (7.2%) on  569 pages on  569 issues\n",
      "lotto                  13 items (0.2%) on   13 pages on   13 issues\n",
      "miscellaneous         392 items (4.6%) on  242 pages on  233 issues\n",
      "radio                   3 items (0.0%) on    3 pages on    3 issues\n",
      "sport results         428 items (5.0%) on   58 pages on   58 issues\n",
      "transport schedule   5868 items (68.8%) on 3062 pages on 3060 issues\n",
      "weather                35 items (0.4%) on   34 pages on   34 issues\n"
     ]
    }
   ],
   "source": [
    "print_tag_distributions(NLL_auto)"
   ]
  },
  {
   "cell_type": "code",
   "execution_count": 26,
   "id": "92520ff1-8e2b-4ca8-b3d2-e2d86c26a80b",
   "metadata": {},
   "outputs": [
    {
     "name": "stdout",
     "output_type": "stream",
     "text": [
      "exchange             1123 items (13.2%) on  874 pages on  874 issues\n",
      "food prices           616 items (7.2%) on  569 pages on  569 issues\n",
      "miscellaneous         461 items (5.4%) on  267 pages on  258 issues\n",
      "sport results         428 items (5.0%) on   58 pages on   58 issues\n",
      "transport schedule   5868 items (68.8%) on 3062 pages on 3060 issues\n",
      "weather                35 items (0.4%) on   34 pages on   34 issues\n"
     ]
    }
   ],
   "source": [
    "NLL_auto.loc[NLL_auto['tag'].isin({'cinema', 'election', 'lotto', 'radio'}), 'tag'] = 'miscellaneous'\n",
    "print_tag_distributions(NLL_auto)"
   ]
  },
  {
   "cell_type": "code",
   "execution_count": 27,
   "id": "ef878b9f-ad01-4c94-8d0b-b650af661366",
   "metadata": {},
   "outputs": [],
   "source": [
    "NLL_auto = NLL_auto[[\"text\", \"pid\", \"auto_tag\", \"tag\", \"text_coords\", \"x\", \"y\", \"width\", \"height\", \"meta_issue_id\"]]"
   ]
  },
  {
   "cell_type": "code",
   "execution_count": null,
   "id": "a86af352-ecad-4bde-8a60-c5c0c284f75e",
   "metadata": {},
   "outputs": [],
   "source": [
    "NLL_auto_train, NLL_auto_val, NLL_auto_test = stratified_split_by_id(NLL_auto, [0.6, 0.2, 0.2], manual_test_tag=True)"
   ]
  },
  {
   "cell_type": "code",
   "execution_count": 40,
   "id": "aad783e4-5d24-4db2-869d-6f05a91635fe",
   "metadata": {},
   "outputs": [
    {
     "name": "stdout",
     "output_type": "stream",
     "text": [
      "Dataset: 8531 items on 4616 pages.\n",
      "-- Train set: 5120 items on 3559 pages.\n",
      "-- Validation set: 1702 items on 1438 pages.\n",
      "-- Test set: 1709 items on 681 pages.\n"
     ]
    }
   ],
   "source": [
    "print_splits(NLL_auto_train, NLL_auto_val, NLL_auto_test)"
   ]
  },
  {
   "cell_type": "code",
   "execution_count": 41,
   "id": "f6c65a5d-0a60-4f94-a914-402f5e9d17dc",
   "metadata": {},
   "outputs": [
    {
     "name": "stdout",
     "output_type": "stream",
     "text": [
      "__________________Train set__________________\n",
      "exchange              674 items (13.2%) on  569 pages on  569 issues\n",
      "food prices           370 items (7.2%) on  360 pages on  360 issues\n",
      "miscellaneous         277 items (5.4%) on  186 pages on  184 issues\n",
      "sport results         257 items (5.0%) on   48 pages on   48 issues\n",
      "transport schedule   3521 items (68.8%) on 2459 pages on 2458 issues\n",
      "weather                21 items (0.4%) on   21 pages on   21 issues\n",
      "\n",
      "_______________Validation set________________\n",
      "exchange              224 items (13.2%) on  214 pages on  214 issues\n",
      "food prices           122 items (7.2%) on  120 pages on  120 issues\n",
      "miscellaneous          91 items (5.3%) on   75 pages on   74 issues\n",
      "sport results          85 items (5.0%) on   34 pages on   34 issues\n",
      "transport schedule   1173 items (68.9%) on 1002 pages on 1001 issues\n",
      "weather                 7 items (0.4%) on    7 pages on    7 issues\n",
      "\n",
      "__________________Test set___________________\n",
      "exchange              225 items (13.2%) on  173 pages on  173 issues\n",
      "food prices           124 items (7.3%) on  104 pages on  104 issues\n",
      "miscellaneous          93 items (5.4%) on   81 pages on   78 issues\n",
      "sport results          86 items (5.0%) on   30 pages on   30 issues\n",
      "transport schedule   1174 items (68.7%) on  361 pages on  360 issues\n",
      "weather                 7 items (0.4%) on    7 pages on    7 issues\n"
     ]
    }
   ],
   "source": [
    "print(\"__________________Train set__________________\")\n",
    "print_tag_distributions(NLL_auto_train)\n",
    "print()\n",
    "print(\"_______________Validation set________________\")\n",
    "print_tag_distributions(NLL_auto_val)\n",
    "print()\n",
    "print(\"__________________Test set___________________\")\n",
    "print_tag_distributions(NLL_auto_test)"
   ]
  },
  {
   "cell_type": "markdown",
   "id": "3135ea1a-3d4c-46b2-8e3b-127eb3bdea32",
   "metadata": {},
   "source": [
    "### Export"
   ]
  },
  {
   "cell_type": "code",
   "execution_count": null,
   "id": "23a4ed80-ff6c-4981-b594-1462c96d88f2",
   "metadata": {},
   "outputs": [],
   "source": [
    "filename = \"NLL_auto\"\n",
    "NLL_auto_train.to_parquet(os.path.join(datasets_path, filename + \"_train.parquet\"))\n",
    "NLL_auto_val.to_parquet(os.path.join(datasets_path, filename + \"_val.parquet\"))\n",
    "NLL_auto_test.to_parquet(os.path.join(datasets_path, filename + \"_test.parquet\"))"
   ]
  },
  {
   "cell_type": "code",
   "execution_count": 39,
   "id": "fceaad49-d015-4718-bb7a-7a5805eaa051",
   "metadata": {},
   "outputs": [],
   "source": [
    "filename = \"NLL_auto\"\n",
    "NLL_auto_train = pd.read_parquet(os.path.join(datasets_path, filename + \"_train.parquet\"))\n",
    "NLL_auto_val = pd.read_parquet(os.path.join(datasets_path, filename + \"_val.parquet\"))\n",
    "NLL_auto_test = pd.read_parquet(os.path.join(datasets_path, filename + \"_test.parquet\"))"
   ]
  },
  {
   "cell_type": "code",
   "execution_count": null,
   "id": "0fe11783-f7b7-4f23-8c0a-870dfb8667ab",
   "metadata": {},
   "outputs": [],
   "source": []
  }
 ],
 "metadata": {
  "kernelspec": {
   "display_name": "pdm",
   "language": "python",
   "name": "pdm"
  },
  "language_info": {
   "codemirror_mode": {
    "name": "ipython",
    "version": 3
   },
   "file_extension": ".py",
   "mimetype": "text/x-python",
   "name": "python",
   "nbconvert_exporter": "python",
   "pygments_lexer": "ipython3",
   "version": "3.9.7"
  }
 },
 "nbformat": 4,
 "nbformat_minor": 5
}

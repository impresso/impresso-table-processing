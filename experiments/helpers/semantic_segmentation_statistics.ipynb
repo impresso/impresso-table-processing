{
 "cells": [
  {
   "cell_type": "code",
   "execution_count": 2,
   "metadata": {
    "scrolled": true
   },
   "outputs": [
    {
     "name": "stdout",
     "output_type": "stream",
     "text": [
      "The autoreload extension is already loaded. To reload it, use:\n",
      "  %reload_ext autoreload\n"
     ]
    }
   ],
   "source": [
    "import os\n",
    "import sys\n",
    "import glob\n",
    "import json\n",
    "import torch\n",
    "import numpy as np\n",
    "\n",
    "from pprint import pprint\n",
    "from PIL import Image\n",
    "from torch import nn\n",
    "from scipy import ndimage\n",
    "\n",
    "sys.path.append(\"../helpers/\")\n",
    "from semantic_segmentation_statistics import *\n",
    "\n",
    "sys.path.append(\"/home/amvernet/dhSegment-torch/\")\n",
    "from dh_segment_torch.data.annotation import AnnotationPainter, AnnotationReader, VIA2Reader\n",
    "from dh_segment_torch.data import ColorLabels\n",
    "\n",
    "%load_ext autoreload\n",
    "%autoreload 2"
   ]
  },
  {
   "cell_type": "code",
   "execution_count": 3,
   "metadata": {
    "collapsed": true
   },
   "outputs": [],
   "source": [
    "labels = ['exchange', 'food prices', 'miscellaneous', 'sport results', 'transport schedule', 'weather']"
   ]
  },
  {
   "cell_type": "markdown",
   "metadata": {},
   "source": [
    "## dhSegment"
   ]
  },
  {
   "cell_type": "markdown",
   "metadata": {},
   "source": [
    "### B1_test"
   ]
  },
  {
   "cell_type": "code",
   "execution_count": 5,
   "metadata": {},
   "outputs": [
    {
     "data": {
      "text/plain": [
       "{'mIoU': (0.34357971987412245, 0.0),\n",
       " 'P@60': (0.18947368421052632, 0.0),\n",
       " 'R@60': (0.6923076923076923, 0.0),\n",
       " 'P@80': (0.11052631578947368, 0.0),\n",
       " 'R@80': (0.5675675675675675, 0.0),\n",
       " 'P@50:5:95': (0.13578947368421052, 0.0),\n",
       " 'R@50:5:95': (0.5733386036931428, 0.0)}"
      ]
     },
     "execution_count": 5,
     "metadata": {},
     "output_type": "execute_result"
    }
   ],
   "source": [
    "iou_paths = [\"/scratch/students/amvernet/experiments/2_B1_000/dhSegment_results/0/B1_test/IoU.json\"]\n",
    "compute_metrics(iou_paths)"
   ]
  },
  {
   "cell_type": "code",
   "execution_count": 7,
   "metadata": {},
   "outputs": [
    {
     "name": "stdout",
     "output_type": "stream",
     "text": [
      "exchange\n",
      "{'P@50:5:95': (0.7656716417910447, 0.0),\n",
      " 'P@60': (0.9104477611940298, 0.0),\n",
      " 'P@80': (0.746268656716418, 0.0),\n",
      " 'R@50:5:95': (0.6368703612603728, 0.0),\n",
      " 'R@60': (0.6931818181818182, 0.0),\n",
      " 'R@80': (0.6493506493506493, 0.0),\n",
      " 'mIoU': (0.6018368597998265, 0.0)}\n",
      "\n",
      "food prices\n",
      "{'P@50:5:95': (0.34814814814814815, 0.0),\n",
      " 'P@60': (0.4444444444444444, 0.0),\n",
      " 'P@80': (0.37037037037037035, 0.0),\n",
      " 'R@50:5:95': (0.09952407432311826, 0.0),\n",
      " 'R@60': (0.12631578947368421, 0.0),\n",
      " 'R@80': (0.10752688172043011, 0.0),\n",
      " 'mIoU': (0.13699312985256476, 0.0)}\n",
      "\n",
      "miscellaneous\n",
      "{'P@50:5:95': (0.2966666666666667, 0.0),\n",
      " 'P@60': (0.4666666666666667, 0.0),\n",
      " 'P@80': (0.2, 0.0),\n",
      " 'R@50:5:95': (0.08693469119064033, 0.0),\n",
      " 'R@60': (0.1346153846153846, 0.0),\n",
      " 'R@80': (0.0625, 0.0),\n",
      " 'mIoU': (0.1326176401612223, 0.0)}\n",
      "\n",
      "sport results\n",
      "{'P@50:5:95': (0.14285714285714285, 0.0),\n",
      " 'P@60': (0.2857142857142857, 0.0),\n",
      " 'P@80': (0.0, 0.0),\n",
      " 'R@50:5:95': (0.01295415111204585, 0.0),\n",
      " 'R@60': (0.025974025974025976, 0.0),\n",
      " 'R@80': (0.0, 0.0),\n",
      " 'mIoU': (0.033233368934460196, 0.0)}\n",
      "\n",
      "transport schedule\n",
      "{'P@50:5:95': (0.2978494623655914, 0.0),\n",
      " 'P@60': (0.4731182795698925, 0.0),\n",
      " 'P@80': (0.1935483870967742, 0.0),\n",
      " 'R@50:5:95': (0.45194525741853653, 0.0),\n",
      " 'R@60': (0.6376811594202898, 0.0),\n",
      " 'R@80': (0.4186046511627907, 0.0),\n",
      " 'mIoU': (0.442591224092093, 0.0)}\n",
      "\n",
      "weather\n",
      "{'P@50:5:95': (0.0, 0.0),\n",
      " 'P@60': (0.0, 0.0),\n",
      " 'P@80': (0.0, 0.0),\n",
      " 'R@50:5:95': (0.0, 0.0),\n",
      " 'R@60': (0.0, 0.0),\n",
      " 'R@80': (0.0, 0.0),\n",
      " 'mIoU': (0.0, 0.0)}\n",
      "\n"
     ]
    }
   ],
   "source": [
    "for label in labels:\n",
    "    print(label)\n",
    "    pprint(compute_metrics(iou_paths, label))\n",
    "    print()"
   ]
  },
  {
   "cell_type": "markdown",
   "metadata": {},
   "source": [
    "### A_test"
   ]
  },
  {
   "cell_type": "code",
   "execution_count": 8,
   "metadata": {},
   "outputs": [
    {
     "data": {
      "text/plain": [
       "{'mIoU': (0.8002193951052744, 0.0),\n",
       " 'P@60': (0.8675090252707581, 0.0),\n",
       " 'R@60': (0.9681708299758259, 0.0),\n",
       " 'P@80': (0.7465703971119133, 0.0),\n",
       " 'R@80': (0.9632044713553796, 0.0),\n",
       " 'P@50:5:95': (0.74057761732852, 0.0),\n",
       " 'R@50:5:95': (0.9588932918519315, 0.0)}"
      ]
     },
     "execution_count": 8,
     "metadata": {},
     "output_type": "execute_result"
    }
   ],
   "source": [
    "iou_paths = [\"/scratch/students/amvernet/experiments/2_A_000/dhSegment_results/0/A_test/IoU.json\"]\n",
    "compute_metrics(iou_paths)"
   ]
  },
  {
   "cell_type": "code",
   "execution_count": 9,
   "metadata": {},
   "outputs": [
    {
     "data": {
      "text/plain": [
       "{'mIoU': (0.816765196401359, 0.0),\n",
       " 'P@60': (0.8904358353510896, 0.0),\n",
       " 'R@60': (0.969676994067238, 0.0),\n",
       " 'P@80': (0.7851089588377724, 0.0),\n",
       " 'R@80': (0.9657483246463142, 0.0),\n",
       " 'P@50:5:95': (0.7691283292978208, 0.0),\n",
       " 'R@50:5:95': (0.9613509133910437, 0.0)}"
      ]
     },
     "execution_count": 9,
     "metadata": {},
     "output_type": "execute_result"
    }
   ],
   "source": [
    "iou_paths = [\"/scratch/students/amvernet/experiments/3_A_000/dhSegment_results/0/A_test/IoU.json\"]\n",
    "compute_metrics(iou_paths)"
   ]
  },
  {
   "cell_type": "markdown",
   "metadata": {},
   "source": [
    "### A_revised"
   ]
  },
  {
   "cell_type": "code",
   "execution_count": 10,
   "metadata": {},
   "outputs": [
    {
     "data": {
      "text/plain": [
       "{'mIoU': (0.7074716073929029, 0.0),\n",
       " 'P@60': (0.7526278906797477, 0.0),\n",
       " 'R@60': (0.9437609841827768, 0.0),\n",
       " 'P@80': (0.5325858444288718, 0.0),\n",
       " 'R@80': (0.9223300970873787, 0.0),\n",
       " 'P@50:5:95': (0.5901191310441486, 0.0),\n",
       " 'R@50:5:95': (0.9197932583715183, 0.0)}"
      ]
     },
     "execution_count": 10,
     "metadata": {},
     "output_type": "execute_result"
    }
   ],
   "source": [
    "iou_paths = [\"/scratch/students/amvernet/experiments/2_A_000/dhSegment_results/0/A_revised/IoU.json\"]\n",
    "compute_metrics(iou_paths)"
   ]
  },
  {
   "cell_type": "code",
   "execution_count": 11,
   "metadata": {
    "scrolled": true
   },
   "outputs": [
    {
     "data": {
      "text/plain": [
       "{'mIoU': (0.7657040440631364, 0.0),\n",
       " 'P@60': (0.8682550805886475, 0.0),\n",
       " 'R@60': (0.9486983154670751, 0.0),\n",
       " 'P@80': (0.6180798878766643, 0.0),\n",
       " 'R@80': (0.9293993677555321, 0.0),\n",
       " 'P@50:5:95': (0.678135949544499, 0.0),\n",
       " 'R@50:5:95': (0.9229494837262342, 0.0)}"
      ]
     },
     "execution_count": 11,
     "metadata": {},
     "output_type": "execute_result"
    }
   ],
   "source": [
    "iou_paths = [\"/scratch/students/amvernet/experiments/3_A_000/dhSegment_results/0/A_revised/IoU.json\"]\n",
    "compute_metrics(iou_paths)"
   ]
  },
  {
   "cell_type": "markdown",
   "metadata": {},
   "source": [
    "### RB"
   ]
  },
  {
   "cell_type": "code",
   "execution_count": 12,
   "metadata": {},
   "outputs": [
    {
     "data": {
      "text/plain": [
       "{'mIoU': (0.6203200924846309, 0.0),\n",
       " 'P@60': (0.6666666666666666, 0.0),\n",
       " 'R@60': (0.916923076923077, 0.0),\n",
       " 'P@80': (0.36465324384787473, 0.0),\n",
       " 'R@80': (0.8578947368421053, 0.0),\n",
       " 'P@50:5:95': (0.4519015659955257, 0.0),\n",
       " 'R@50:5:95': (0.7899184847023681, 0.0)}"
      ]
     },
     "execution_count": 12,
     "metadata": {},
     "output_type": "execute_result"
    }
   ],
   "source": [
    "iou_paths = [\"/scratch/students/amvernet/experiments/2_A_000/dhSegment_results/0/RB/IoU.json\"]\n",
    "compute_metrics(iou_paths)"
   ]
  },
  {
   "cell_type": "code",
   "execution_count": 13,
   "metadata": {},
   "outputs": [
    {
     "data": {
      "text/plain": [
       "{'mIoU': (0.5901275919483673, 0.0),\n",
       " 'P@60': (0.6123348017621145, 0.0),\n",
       " 'R@60': (0.9328859060402684, 0.0),\n",
       " 'P@80': (0.2709251101321586, 0.0),\n",
       " 'R@80': (0.8601398601398601, 0.0),\n",
       " 'P@50:5:95': (0.38634361233480174, 0.0),\n",
       " 'R@50:5:95': (0.7681114650982874, 0.0)}"
      ]
     },
     "execution_count": 13,
     "metadata": {},
     "output_type": "execute_result"
    }
   ],
   "source": [
    "iou_paths = [\"/scratch/students/amvernet/experiments/3_A_000/dhSegment_results/0/RB/IoU.json\"]\n",
    "compute_metrics(iou_paths)"
   ]
  },
  {
   "cell_type": "markdown",
   "metadata": {
    "collapsed": true
   },
   "source": [
    "### A_revised_test"
   ]
  },
  {
   "cell_type": "code",
   "execution_count": 14,
   "metadata": {},
   "outputs": [
    {
     "data": {
      "text/plain": [
       "{'mIoU': (0.8410189113901413, 0.0),\n",
       " 'P@60': (0.9315068493150684, 0.0),\n",
       " 'R@60': (0.9890909090909091, 0.0),\n",
       " 'P@80': (0.815068493150685, 0.0),\n",
       " 'R@80': (0.9875518672199171, 0.0),\n",
       " 'P@50:5:95': (0.7647260273972603, 0.0),\n",
       " 'R@50:5:95': (0.9809193768463725, 0.0)}"
      ]
     },
     "execution_count": 14,
     "metadata": {},
     "output_type": "execute_result"
    }
   ],
   "source": [
    "iou_paths = [\"/scratch/students/amvernet/experiments/__revised_000/dhSegment_results/0/revised_test/IoU.json\"]\n",
    "compute_metrics(iou_paths)"
   ]
  },
  {
   "cell_type": "markdown",
   "metadata": {},
   "source": [
    "## mmDetection"
   ]
  },
  {
   "cell_type": "markdown",
   "metadata": {},
   "source": [
    "### B1_test"
   ]
  },
  {
   "cell_type": "code",
   "execution_count": 15,
   "metadata": {
    "scrolled": true
   },
   "outputs": [
    {
     "data": {
      "text/plain": [
       "{'mIoU': (0.5668755230257013, 0.0),\n",
       " 'P@60': (0.5641025641025641, 0.0),\n",
       " 'R@60': (0.9090909090909091, 0.0),\n",
       " 'P@80': (0.38461538461538464, 0.0),\n",
       " 'R@80': (0.872093023255814, 0.0),\n",
       " 'P@50:5:95': (0.42461538461538473, 0.0),\n",
       " 'R@50:5:95': (0.8658653220344755, 0.0)}"
      ]
     },
     "execution_count": 15,
     "metadata": {},
     "output_type": "execute_result"
    }
   ],
   "source": [
    "iou_paths = [\"/scratch/students/amvernet/experiments/2_B1_000/mmDetection_results/0/B1_test/IoU_0.05.json\"]\n",
    "compute_metrics(iou_paths)"
   ]
  },
  {
   "cell_type": "code",
   "execution_count": 16,
   "metadata": {},
   "outputs": [
    {
     "name": "stdout",
     "output_type": "stream",
     "text": [
      "exchange\n",
      "{'P@50:5:95': (0.8808823529411764, 0.0),\n",
      " 'P@60': (0.9411764705882353, 0.0),\n",
      " 'P@80': (0.8970588235294118, 0.0),\n",
      " 'R@50:5:95': (0.7288380699265444, 0.0),\n",
      " 'R@60': (0.7441860465116279, 0.0),\n",
      " 'R@80': (0.7349397590361446, 0.0),\n",
      " 'mIoU': (0.6892837405609691, 0.0)}\n",
      "food prices\n",
      "{'P@50:5:95': (0.8400000000000001, 0.0),\n",
      " 'P@60': (0.88, 0.0),\n",
      " 'P@80': (0.88, 0.0),\n",
      " 'R@50:5:95': (0.34852459016393444, 0.0),\n",
      " 'R@60': (0.36065573770491804, 0.0),\n",
      " 'R@80': (0.36065573770491804, 0.0),\n",
      " 'mIoU': (0.3389267416406065, 0.0)}\n",
      "miscellaneous\n",
      "{'P@50:5:95': (0.5594594594594595, 0.0),\n",
      " 'P@60': (0.7567567567567568, 0.0),\n",
      " 'P@80': (0.5405405405405406, 0.0),\n",
      " 'R@50:5:95': (0.31188714909256054, 0.0),\n",
      " 'R@60': (0.39436619718309857, 0.0),\n",
      " 'R@80': (0.31746031746031744, 0.0),\n",
      " 'mIoU': (0.31644676380638886, 0.0)}\n",
      "sport results\n",
      "{'P@50:5:95': (0.4375, 0.0),\n",
      " 'P@60': (0.625, 0.0),\n",
      " 'P@80': (0.5, 0.0),\n",
      " 'R@50:5:95': (0.31727272727272726, 0.0),\n",
      " 'R@60': (0.45454545454545453, 0.0),\n",
      " 'R@80': (0.4, 0.0),\n",
      " 'mIoU': (0.34304132411122074, 0.0)}\n",
      "transport schedule\n",
      "{'P@50:5:95': (0.39450549450549455, 0.0),\n",
      " 'P@60': (0.5824175824175825, 0.0),\n",
      " 'P@80': (0.3076923076923077, 0.0),\n",
      " 'R@50:5:95': (0.5655960039599213, 0.0),\n",
      " 'R@60': (0.7066666666666667, 0.0),\n",
      " 'R@80': (0.56, 0.0),\n",
      " 'mIoU': (0.5019940950160248, 0.0)}\n",
      "weather\n",
      "{'P@50:5:95': (0.14, 0.0),\n",
      " 'P@60': (0.2, 0.0),\n",
      " 'P@80': (0.2, 0.0),\n",
      " 'R@50:5:95': (0.14, 0.0),\n",
      " 'R@60': (0.2, 0.0),\n",
      " 'R@80': (0.2, 0.0),\n",
      " 'mIoU': (0.10405549358236242, 0.0)}\n"
     ]
    }
   ],
   "source": [
    "for label in labels:\n",
    "    print(label)\n",
    "    pprint(compute_metrics(iou_paths, label))"
   ]
  },
  {
   "cell_type": "markdown",
   "metadata": {},
   "source": [
    "### A_test"
   ]
  },
  {
   "cell_type": "code",
   "execution_count": 18,
   "metadata": {},
   "outputs": [
    {
     "data": {
      "text/plain": [
       "{'mIoU': (0.8022637755741885, 0.0),\n",
       " 'P@60': (0.8455431252255503, 0.0),\n",
       " 'R@60': (0.9677819083023544, 0.0),\n",
       " 'P@80': (0.7008300252616384, 0.0),\n",
       " 'R@80': (0.9613861386138614, 0.0),\n",
       " 'P@50:5:95': (0.7325153374233129, 0.0),\n",
       " 'R@50:5:95': (0.9615625374214891, 0.0)}"
      ]
     },
     "execution_count": 18,
     "metadata": {},
     "output_type": "execute_result"
    }
   ],
   "source": [
    "iou_paths = [\"/scratch/students/amvernet/experiments/2_A_000/mmDetection_results/0/A_test/IoU_0.05.json\"]\n",
    "compute_metrics(iou_paths)"
   ]
  },
  {
   "cell_type": "code",
   "execution_count": 19,
   "metadata": {},
   "outputs": [
    {
     "data": {
      "text/plain": [
       "{'mIoU': (0.8070855113658764, 0.0),\n",
       " 'P@60': (0.8717004297114794, 0.0),\n",
       " 'R@60': (0.9536601746138348, 0.0),\n",
       " 'P@80': (0.7636586863106201, 0.0),\n",
       " 'R@80': (0.9474485910129474, 0.0),\n",
       " 'P@50:5:95': (0.7646408839779005, 0.0),\n",
       " 'R@50:5:95': (0.9449825784850665, 0.0)}"
      ]
     },
     "execution_count": 19,
     "metadata": {},
     "output_type": "execute_result"
    }
   ],
   "source": [
    "iou_paths = [\"/scratch/students/amvernet/experiments/3_A_000/mmDetection_results/0/A_test/IoU_0.05.json\"]\n",
    "compute_metrics(iou_paths)"
   ]
  },
  {
   "cell_type": "markdown",
   "metadata": {},
   "source": [
    "### A_revised"
   ]
  },
  {
   "cell_type": "code",
   "execution_count": 20,
   "metadata": {},
   "outputs": [
    {
     "data": {
      "text/plain": [
       "{'mIoU': (0.8318596318590348, 0.0),\n",
       " 'P@60': (0.901320361362057, 0.0),\n",
       " 'R@60': (0.981089258698941, 0.0),\n",
       " 'P@80': (0.7102154273801251, 0.0),\n",
       " 'R@80': (0.9761222540592168, 0.0),\n",
       " 'P@50:5:95': (0.7523974982626823, 0.0),\n",
       " 'R@50:5:95': (0.9760009807129311, 0.0)}"
      ]
     },
     "execution_count": 20,
     "metadata": {},
     "output_type": "execute_result"
    }
   ],
   "source": [
    "iou_paths = [\"/scratch/students/amvernet/experiments/2_A_000/mmDetection_results/0/A_revised/IoU_0.05.json\"]\n",
    "compute_metrics(iou_paths)"
   ]
  },
  {
   "cell_type": "code",
   "execution_count": 21,
   "metadata": {
    "scrolled": true
   },
   "outputs": [
    {
     "data": {
      "text/plain": [
       "{'mIoU': (0.8213545861424851, 0.0),\n",
       " 'P@60': (0.9181124219292158, 0.0),\n",
       " 'R@60': (0.9785502958579881, 0.0),\n",
       " 'P@80': (0.6842470506592644, 0.0),\n",
       " 'R@80': (0.9714285714285714, 0.0),\n",
       " 'P@50:5:95': (0.7364330326162387, 0.0),\n",
       " 'R@50:5:95': (0.970876160909401, 0.0)}"
      ]
     },
     "execution_count": 21,
     "metadata": {},
     "output_type": "execute_result"
    }
   ],
   "source": [
    "iou_paths = [\"/scratch/students/amvernet/experiments/3_A_000/mmDetection_results/0/A_revised/IoU_0.05.json\"]\n",
    "compute_metrics(iou_paths)"
   ]
  },
  {
   "cell_type": "markdown",
   "metadata": {},
   "source": [
    "### RB"
   ]
  },
  {
   "cell_type": "code",
   "execution_count": 22,
   "metadata": {},
   "outputs": [
    {
     "data": {
      "text/plain": [
       "{'mIoU': (0.6794023421341452, 0.0),\n",
       " 'P@60': (0.7384615384615385, 0.0),\n",
       " 'R@60': (0.9464788732394366, 0.0),\n",
       " 'P@80': (0.4307692307692308, 0.0),\n",
       " 'R@80': (0.9116279069767442, 0.0),\n",
       " 'P@50:5:95': (0.5015384615384615, 0.0),\n",
       " 'R@50:5:95': (0.8445486247564828, 0.0)}"
      ]
     },
     "execution_count": 22,
     "metadata": {},
     "output_type": "execute_result"
    }
   ],
   "source": [
    "iou_paths = [\"/scratch/students/amvernet/experiments/2_A_000/mmDetection_results/0/RB/IoU_0.05.json\"]\n",
    "compute_metrics(iou_paths)"
   ]
  },
  {
   "cell_type": "code",
   "execution_count": 23,
   "metadata": {
    "scrolled": true
   },
   "outputs": [
    {
     "data": {
      "text/plain": [
       "{'mIoU': (0.7109998224374964, 0.0),\n",
       " 'P@60': (0.7435897435897436, 0.0),\n",
       " 'R@60': (0.9830508474576272, 0.0),\n",
       " 'P@80': (0.4893162393162393, 0.0),\n",
       " 'R@80': (0.9744680851063829, 0.0),\n",
       " 'P@50:5:95': (0.5307692307692308, 0.0),\n",
       " 'R@50:5:95': (0.9506134078863727, 0.0)}"
      ]
     },
     "execution_count": 23,
     "metadata": {},
     "output_type": "execute_result"
    }
   ],
   "source": [
    "iou_paths = [\"/scratch/students/amvernet/experiments/3_A_000/mmDetection_results/0/RB/IoU_0.05.json\"]\n",
    "compute_metrics(iou_paths)"
   ]
  },
  {
   "cell_type": "markdown",
   "metadata": {
    "collapsed": true
   },
   "source": [
    "### A_revised_test"
   ]
  },
  {
   "cell_type": "code",
   "execution_count": 24,
   "metadata": {},
   "outputs": [
    {
     "data": {
      "text/plain": [
       "{'mIoU': (0.8099729281482704, 0.0),\n",
       " 'P@60': (0.8771331058020477, 0.0),\n",
       " 'R@60': (0.9922779922779923, 0.0),\n",
       " 'P@80': (0.6757679180887372, 0.0),\n",
       " 'R@80': (0.99, 0.0),\n",
       " 'P@50:5:95': (0.7017064846416381, 0.0),\n",
       " 'R@50:5:95': (0.9882300402551258, 0.0)}"
      ]
     },
     "execution_count": 24,
     "metadata": {},
     "output_type": "execute_result"
    }
   ],
   "source": [
    "iou_paths = [\"/scratch/students/amvernet/experiments/__revised_000/mmDetection_results/0/A_revised_test/IoU_0.05.json\"]\n",
    "compute_metrics(iou_paths)"
   ]
  },
  {
   "cell_type": "code",
   "execution_count": null,
   "metadata": {
    "collapsed": true
   },
   "outputs": [],
   "source": []
  }
 ],
 "metadata": {
  "kernelspec": {
   "display_name": "dhs",
   "language": "python",
   "name": "dhs"
  },
  "language_info": {
   "codemirror_mode": {
    "name": "ipython",
    "version": 3
   },
   "file_extension": ".py",
   "mimetype": "text/x-python",
   "name": "python",
   "nbconvert_exporter": "python",
   "pygments_lexer": "ipython3",
   "version": "3.7.11"
  }
 },
 "nbformat": 4,
 "nbformat_minor": 5
}

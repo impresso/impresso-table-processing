{
 "cells": [
  {
   "cell_type": "code",
   "execution_count": 1,
   "metadata": {
    "scrolled": true
   },
   "outputs": [],
   "source": [
    "import sys\n",
    "import torch\n",
    "import numpy as np\n",
    "import pandas as pd\n",
    "import seaborn as sn\n",
    "import matplotlib.pyplot as plt\n",
    "\n",
    "from datasets_transformers import *\n",
    "\n",
    "from transformers import TrainingArguments, Trainer\n",
    "from datasets import load_metric\n",
    "\n",
    "from os import listdir\n",
    "from os.path import isfile, join\n",
    "\n",
    "from sklearn.metrics import classification_report, confusion_matrix\n",
    "from transformers import RobertaTokenizer\n",
    "from sklearn.preprocessing import LabelEncoder\n",
    "from transformers import AutoTokenizer, AutoModelForSequenceClassification\n",
    "\n",
    "from train_transformers import *\n",
    "        \n",
    "%load_ext autoreload\n",
    "%autoreload 2"
   ]
  },
  {
   "cell_type": "code",
   "execution_count": 2,
   "metadata": {
    "collapsed": true
   },
   "outputs": [],
   "source": [
    "images_path = \"/scratch/students/amvernet/datasets/images\"\n",
    "metadata_path = \"/scratch/students/amvernet/datasets/metadata\"\n",
    "\n",
    "metadata = {}\n",
    "onlyfiles = [f for f in listdir(metadata_path) if isfile(join(metadata_path, f))]\n",
    "for file in onlyfiles:\n",
    "    if file.endswith(\".json\"):\n",
    "        with (open(join(metadata_path, file), \"r\")) as f:\n",
    "            metadata.update(json.loads(f.read()))"
   ]
  },
  {
   "cell_type": "code",
   "execution_count": 3,
   "metadata": {
    "collapsed": true
   },
   "outputs": [],
   "source": [
    "def get_results(predictions, LE):\n",
    "    results = {}\n",
    "    best_accuracy = 0\n",
    "    best_model_index = 0\n",
    "    for i, prediction in enumerate(predictions):\n",
    "        true = prediction.label_ids\n",
    "        predicted = prediction.predictions.argmax(-1)\n",
    "\n",
    "        predicted = torch.nn.functional.softmax(torch.Tensor(prediction.predictions), dim=1).argmax(-1)\n",
    "\n",
    "        result = classification_report(true, predicted, zero_division=0, output_dict=True, target_names=LE.classes_)\n",
    "        if result['accuracy'] > best_accuracy:\n",
    "            best_accuracy = result['accuracy']\n",
    "            best_model_index = i\n",
    "        for k, v in result.items():\n",
    "            if isinstance(v, float):\n",
    "                if k not in results:\n",
    "                    results[k] = []\n",
    "                results[k].append(v)\n",
    "            if isinstance(v, dict):\n",
    "                if k not in results:\n",
    "                    results[k] = {}\n",
    "                for k2, v2 in v.items():\n",
    "                    if k2 not in results[k]:\n",
    "                        results[k][k2] = []\n",
    "                    results[k][k2].append(v2)\n",
    "\n",
    "    for k, v in results.items():\n",
    "        if isinstance(v, list):\n",
    "            results[k] = np.mean(results[k]), np.std(results[k])\n",
    "        if isinstance(v, dict):\n",
    "            for k2, v2 in v.items():\n",
    "                results[k][k2] = np.mean(results[k][k2]), np.std(results[k][k2])\n",
    "    \n",
    "    return results, best_model_index\n",
    "\n",
    "\n",
    "def print_results(prediction, df, LE, figure_name):\n",
    "    predicted = prediction.predictions.argmax(-1)\n",
    "    true = prediction.label_ids\n",
    "    print(np.mean(predicted == true))\n",
    "    print(classification_report(true, predicted, zero_division=0, digits=5))\n",
    "\n",
    "    matrix = confusion_matrix(true, predicted)\n",
    "    tagset = sorted(df['tag'].unique())\n",
    "    df_cm = pd.DataFrame(matrix, index= LE.classes_, columns=LE.classes_)\n",
    "    df_cm = df_cm.rename({'exchange': 'E', 'food prices': 'F', 'miscellaneous': 'M', \n",
    "                          'sport results': 'S', 'transport schedule': 'T', 'weather': 'W'})\n",
    "    df_cm = df_cm.rename({'exchange': 'E', 'food prices': 'F', 'miscellaneous': 'M', \n",
    "                          'sport results': 'S', 'transport schedule': 'T', 'weather': 'W'}, axis=1)\n",
    "    plt.figure(figsize = (6,5))\n",
    "    g = sn.heatmap(df_cm, annot=True, annot_kws={\"size\": 15}, fmt='g')\n",
    "    g.set_xticklabels(g.get_xmajorticklabels(), fontsize = 'x-large')\n",
    "    g.set_yticklabels(g.get_ymajorticklabels(), fontsize = 'x-large')\n",
    "    plt.yticks(rotation=0) \n",
    "    plt.tight_layout()\n",
    "    plt.show()"
   ]
  },
  {
   "cell_type": "code",
   "execution_count": 4,
   "metadata": {},
   "outputs": [
    {
     "data": {
      "text/plain": [
       "LabelEncoder()"
      ]
     },
     "execution_count": 4,
     "metadata": {},
     "output_type": "execute_result"
    }
   ],
   "source": [
    "df_B1_train = pd.read_parquet(\"/scratch/students/amvernet/datasets/text/v2/B1_train.parquet\")\n",
    "df_B1_val = pd.read_parquet(\"/scratch/students/amvernet/datasets/text/v2/B1_val.parquet\")\n",
    "df_B1_test = pd.read_parquet(\"/scratch/students/amvernet/datasets/text/v2/B1_test.parquet\")\n",
    "\n",
    "LE = LabelEncoder()\n",
    "LE.fit(df_B1_train['tag'])"
   ]
  },
  {
   "cell_type": "markdown",
   "metadata": {},
   "source": [
    "### RoBerta"
   ]
  },
  {
   "cell_type": "code",
   "execution_count": 5,
   "metadata": {
    "collapsed": true
   },
   "outputs": [],
   "source": [
    "tokenizer = AutoTokenizer.from_pretrained(\"xlm-roberta-base\")\n",
    "\n",
    "def compute_metrics(eval_pred):\n",
    "    metric = load_metric(\"accuracy\")\n",
    "    logits, labels = eval_pred\n",
    "    predictions = np.argmax(logits, axis=-1)\n",
    "    return metric.compute(predictions=predictions, references=labels)\n",
    "\n",
    "training_args = TrainingArguments(\"xlm-roberta-base\", per_device_eval_batch_size=4)\n",
    "\n",
    "test_dataset = BERTDataset(df_B1_test, tokenizer, LE)"
   ]
  },
  {
   "cell_type": "code",
   "execution_count": 6,
   "metadata": {
    "scrolled": false
   },
   "outputs": [
    {
     "ename": "RuntimeError",
     "evalue": "CUDA error: out of memory",
     "output_type": "error",
     "traceback": [
      "\u001b[0;31m---------------------------------------------------------------------------\u001b[0m",
      "\u001b[0;31mRuntimeError\u001b[0m                              Traceback (most recent call last)",
      "\u001b[0;32m<ipython-input-6-7fbb96863288>\u001b[0m in \u001b[0;36m<module>\u001b[0;34m\u001b[0m\n\u001b[1;32m      8\u001b[0m     trainer = Trainer(model=model,\n\u001b[1;32m      9\u001b[0m                       \u001b[0margs\u001b[0m\u001b[0;34m=\u001b[0m\u001b[0mtraining_args\u001b[0m\u001b[0;34m,\u001b[0m\u001b[0;34m\u001b[0m\u001b[0;34m\u001b[0m\u001b[0m\n\u001b[0;32m---> 10\u001b[0;31m                       compute_metrics=compute_metrics)\n\u001b[0m\u001b[1;32m     11\u001b[0m \u001b[0;34m\u001b[0m\u001b[0m\n\u001b[1;32m     12\u001b[0m     \u001b[0mprediction\u001b[0m \u001b[0;34m=\u001b[0m \u001b[0mtrainer\u001b[0m\u001b[0;34m.\u001b[0m\u001b[0mpredict\u001b[0m\u001b[0;34m(\u001b[0m\u001b[0mtest_dataset\u001b[0m\u001b[0;34m)\u001b[0m\u001b[0;34m\u001b[0m\u001b[0;34m\u001b[0m\u001b[0m\n",
      "\u001b[0;32m~/.conda/envs/tr/lib/python3.6/site-packages/transformers/trainer.py\u001b[0m in \u001b[0;36m__init__\u001b[0;34m(self, model, args, data_collator, train_dataset, eval_dataset, tokenizer, model_init, compute_metrics, callbacks, optimizers)\u001b[0m\n\u001b[1;32m    374\u001b[0m \u001b[0;34m\u001b[0m\u001b[0m\n\u001b[1;32m    375\u001b[0m         \u001b[0;32mif\u001b[0m \u001b[0mself\u001b[0m\u001b[0;34m.\u001b[0m\u001b[0mplace_model_on_device\u001b[0m\u001b[0;34m:\u001b[0m\u001b[0;34m\u001b[0m\u001b[0;34m\u001b[0m\u001b[0m\n\u001b[0;32m--> 376\u001b[0;31m             \u001b[0mself\u001b[0m\u001b[0;34m.\u001b[0m\u001b[0m_move_model_to_device\u001b[0m\u001b[0;34m(\u001b[0m\u001b[0mmodel\u001b[0m\u001b[0;34m,\u001b[0m \u001b[0margs\u001b[0m\u001b[0;34m.\u001b[0m\u001b[0mdevice\u001b[0m\u001b[0;34m)\u001b[0m\u001b[0;34m\u001b[0m\u001b[0;34m\u001b[0m\u001b[0m\n\u001b[0m\u001b[1;32m    377\u001b[0m \u001b[0;34m\u001b[0m\u001b[0m\n\u001b[1;32m    378\u001b[0m         \u001b[0;31m# Force n_gpu to 1 to avoid DataParallel as MP will manage the GPUs\u001b[0m\u001b[0;34m\u001b[0m\u001b[0;34m\u001b[0m\u001b[0;34m\u001b[0m\u001b[0m\n",
      "\u001b[0;32m~/.conda/envs/tr/lib/python3.6/site-packages/transformers/trainer.py\u001b[0m in \u001b[0;36m_move_model_to_device\u001b[0;34m(self, model, device)\u001b[0m\n\u001b[1;32m    528\u001b[0m \u001b[0;34m\u001b[0m\u001b[0m\n\u001b[1;32m    529\u001b[0m     \u001b[0;32mdef\u001b[0m \u001b[0m_move_model_to_device\u001b[0m\u001b[0;34m(\u001b[0m\u001b[0mself\u001b[0m\u001b[0;34m,\u001b[0m \u001b[0mmodel\u001b[0m\u001b[0;34m,\u001b[0m \u001b[0mdevice\u001b[0m\u001b[0;34m)\u001b[0m\u001b[0;34m:\u001b[0m\u001b[0;34m\u001b[0m\u001b[0;34m\u001b[0m\u001b[0m\n\u001b[0;32m--> 530\u001b[0;31m         \u001b[0mmodel\u001b[0m \u001b[0;34m=\u001b[0m \u001b[0mmodel\u001b[0m\u001b[0;34m.\u001b[0m\u001b[0mto\u001b[0m\u001b[0;34m(\u001b[0m\u001b[0mdevice\u001b[0m\u001b[0;34m)\u001b[0m\u001b[0;34m\u001b[0m\u001b[0;34m\u001b[0m\u001b[0m\n\u001b[0m\u001b[1;32m    531\u001b[0m         \u001b[0;31m# Moving a model to an XLA device disconnects the tied weights, so we have to retie them.\u001b[0m\u001b[0;34m\u001b[0m\u001b[0;34m\u001b[0m\u001b[0;34m\u001b[0m\u001b[0m\n\u001b[1;32m    532\u001b[0m         \u001b[0;32mif\u001b[0m \u001b[0mself\u001b[0m\u001b[0;34m.\u001b[0m\u001b[0margs\u001b[0m\u001b[0;34m.\u001b[0m\u001b[0mparallel_mode\u001b[0m \u001b[0;34m==\u001b[0m \u001b[0mParallelMode\u001b[0m\u001b[0;34m.\u001b[0m\u001b[0mTPU\u001b[0m \u001b[0;32mand\u001b[0m \u001b[0mhasattr\u001b[0m\u001b[0;34m(\u001b[0m\u001b[0mmodel\u001b[0m\u001b[0;34m,\u001b[0m \u001b[0;34m\"tie_weights\"\u001b[0m\u001b[0;34m)\u001b[0m\u001b[0;34m:\u001b[0m\u001b[0;34m\u001b[0m\u001b[0;34m\u001b[0m\u001b[0m\n",
      "\u001b[0;32m~/.conda/envs/tr/lib/python3.6/site-packages/torch/nn/modules/module.py\u001b[0m in \u001b[0;36mto\u001b[0;34m(self, *args, **kwargs)\u001b[0m\n\u001b[1;32m    671\u001b[0m             \u001b[0;32mreturn\u001b[0m \u001b[0mt\u001b[0m\u001b[0;34m.\u001b[0m\u001b[0mto\u001b[0m\u001b[0;34m(\u001b[0m\u001b[0mdevice\u001b[0m\u001b[0;34m,\u001b[0m \u001b[0mdtype\u001b[0m \u001b[0;32mif\u001b[0m \u001b[0mt\u001b[0m\u001b[0;34m.\u001b[0m\u001b[0mis_floating_point\u001b[0m\u001b[0;34m(\u001b[0m\u001b[0;34m)\u001b[0m \u001b[0;32mor\u001b[0m \u001b[0mt\u001b[0m\u001b[0;34m.\u001b[0m\u001b[0mis_complex\u001b[0m\u001b[0;34m(\u001b[0m\u001b[0;34m)\u001b[0m \u001b[0;32melse\u001b[0m \u001b[0;32mNone\u001b[0m\u001b[0;34m,\u001b[0m \u001b[0mnon_blocking\u001b[0m\u001b[0;34m)\u001b[0m\u001b[0;34m\u001b[0m\u001b[0;34m\u001b[0m\u001b[0m\n\u001b[1;32m    672\u001b[0m \u001b[0;34m\u001b[0m\u001b[0m\n\u001b[0;32m--> 673\u001b[0;31m         \u001b[0;32mreturn\u001b[0m \u001b[0mself\u001b[0m\u001b[0;34m.\u001b[0m\u001b[0m_apply\u001b[0m\u001b[0;34m(\u001b[0m\u001b[0mconvert\u001b[0m\u001b[0;34m)\u001b[0m\u001b[0;34m\u001b[0m\u001b[0;34m\u001b[0m\u001b[0m\n\u001b[0m\u001b[1;32m    674\u001b[0m \u001b[0;34m\u001b[0m\u001b[0m\n\u001b[1;32m    675\u001b[0m     def register_backward_hook(\n",
      "\u001b[0;32m~/.conda/envs/tr/lib/python3.6/site-packages/torch/nn/modules/module.py\u001b[0m in \u001b[0;36m_apply\u001b[0;34m(self, fn)\u001b[0m\n\u001b[1;32m    385\u001b[0m     \u001b[0;32mdef\u001b[0m \u001b[0m_apply\u001b[0m\u001b[0;34m(\u001b[0m\u001b[0mself\u001b[0m\u001b[0;34m,\u001b[0m \u001b[0mfn\u001b[0m\u001b[0;34m)\u001b[0m\u001b[0;34m:\u001b[0m\u001b[0;34m\u001b[0m\u001b[0;34m\u001b[0m\u001b[0m\n\u001b[1;32m    386\u001b[0m         \u001b[0;32mfor\u001b[0m \u001b[0mmodule\u001b[0m \u001b[0;32min\u001b[0m \u001b[0mself\u001b[0m\u001b[0;34m.\u001b[0m\u001b[0mchildren\u001b[0m\u001b[0;34m(\u001b[0m\u001b[0;34m)\u001b[0m\u001b[0;34m:\u001b[0m\u001b[0;34m\u001b[0m\u001b[0;34m\u001b[0m\u001b[0m\n\u001b[0;32m--> 387\u001b[0;31m             \u001b[0mmodule\u001b[0m\u001b[0;34m.\u001b[0m\u001b[0m_apply\u001b[0m\u001b[0;34m(\u001b[0m\u001b[0mfn\u001b[0m\u001b[0;34m)\u001b[0m\u001b[0;34m\u001b[0m\u001b[0;34m\u001b[0m\u001b[0m\n\u001b[0m\u001b[1;32m    388\u001b[0m \u001b[0;34m\u001b[0m\u001b[0m\n\u001b[1;32m    389\u001b[0m         \u001b[0;32mdef\u001b[0m \u001b[0mcompute_should_use_set_data\u001b[0m\u001b[0;34m(\u001b[0m\u001b[0mtensor\u001b[0m\u001b[0;34m,\u001b[0m \u001b[0mtensor_applied\u001b[0m\u001b[0;34m)\u001b[0m\u001b[0;34m:\u001b[0m\u001b[0;34m\u001b[0m\u001b[0;34m\u001b[0m\u001b[0m\n",
      "\u001b[0;32m~/.conda/envs/tr/lib/python3.6/site-packages/torch/nn/modules/module.py\u001b[0m in \u001b[0;36m_apply\u001b[0;34m(self, fn)\u001b[0m\n\u001b[1;32m    385\u001b[0m     \u001b[0;32mdef\u001b[0m \u001b[0m_apply\u001b[0m\u001b[0;34m(\u001b[0m\u001b[0mself\u001b[0m\u001b[0;34m,\u001b[0m \u001b[0mfn\u001b[0m\u001b[0;34m)\u001b[0m\u001b[0;34m:\u001b[0m\u001b[0;34m\u001b[0m\u001b[0;34m\u001b[0m\u001b[0m\n\u001b[1;32m    386\u001b[0m         \u001b[0;32mfor\u001b[0m \u001b[0mmodule\u001b[0m \u001b[0;32min\u001b[0m \u001b[0mself\u001b[0m\u001b[0;34m.\u001b[0m\u001b[0mchildren\u001b[0m\u001b[0;34m(\u001b[0m\u001b[0;34m)\u001b[0m\u001b[0;34m:\u001b[0m\u001b[0;34m\u001b[0m\u001b[0;34m\u001b[0m\u001b[0m\n\u001b[0;32m--> 387\u001b[0;31m             \u001b[0mmodule\u001b[0m\u001b[0;34m.\u001b[0m\u001b[0m_apply\u001b[0m\u001b[0;34m(\u001b[0m\u001b[0mfn\u001b[0m\u001b[0;34m)\u001b[0m\u001b[0;34m\u001b[0m\u001b[0;34m\u001b[0m\u001b[0m\n\u001b[0m\u001b[1;32m    388\u001b[0m \u001b[0;34m\u001b[0m\u001b[0m\n\u001b[1;32m    389\u001b[0m         \u001b[0;32mdef\u001b[0m \u001b[0mcompute_should_use_set_data\u001b[0m\u001b[0;34m(\u001b[0m\u001b[0mtensor\u001b[0m\u001b[0;34m,\u001b[0m \u001b[0mtensor_applied\u001b[0m\u001b[0;34m)\u001b[0m\u001b[0;34m:\u001b[0m\u001b[0;34m\u001b[0m\u001b[0;34m\u001b[0m\u001b[0m\n",
      "\u001b[0;32m~/.conda/envs/tr/lib/python3.6/site-packages/torch/nn/modules/module.py\u001b[0m in \u001b[0;36m_apply\u001b[0;34m(self, fn)\u001b[0m\n\u001b[1;32m    385\u001b[0m     \u001b[0;32mdef\u001b[0m \u001b[0m_apply\u001b[0m\u001b[0;34m(\u001b[0m\u001b[0mself\u001b[0m\u001b[0;34m,\u001b[0m \u001b[0mfn\u001b[0m\u001b[0;34m)\u001b[0m\u001b[0;34m:\u001b[0m\u001b[0;34m\u001b[0m\u001b[0;34m\u001b[0m\u001b[0m\n\u001b[1;32m    386\u001b[0m         \u001b[0;32mfor\u001b[0m \u001b[0mmodule\u001b[0m \u001b[0;32min\u001b[0m \u001b[0mself\u001b[0m\u001b[0;34m.\u001b[0m\u001b[0mchildren\u001b[0m\u001b[0;34m(\u001b[0m\u001b[0;34m)\u001b[0m\u001b[0;34m:\u001b[0m\u001b[0;34m\u001b[0m\u001b[0;34m\u001b[0m\u001b[0m\n\u001b[0;32m--> 387\u001b[0;31m             \u001b[0mmodule\u001b[0m\u001b[0;34m.\u001b[0m\u001b[0m_apply\u001b[0m\u001b[0;34m(\u001b[0m\u001b[0mfn\u001b[0m\u001b[0;34m)\u001b[0m\u001b[0;34m\u001b[0m\u001b[0;34m\u001b[0m\u001b[0m\n\u001b[0m\u001b[1;32m    388\u001b[0m \u001b[0;34m\u001b[0m\u001b[0m\n\u001b[1;32m    389\u001b[0m         \u001b[0;32mdef\u001b[0m \u001b[0mcompute_should_use_set_data\u001b[0m\u001b[0;34m(\u001b[0m\u001b[0mtensor\u001b[0m\u001b[0;34m,\u001b[0m \u001b[0mtensor_applied\u001b[0m\u001b[0;34m)\u001b[0m\u001b[0;34m:\u001b[0m\u001b[0;34m\u001b[0m\u001b[0;34m\u001b[0m\u001b[0m\n",
      "\u001b[0;32m~/.conda/envs/tr/lib/python3.6/site-packages/torch/nn/modules/module.py\u001b[0m in \u001b[0;36m_apply\u001b[0;34m(self, fn)\u001b[0m\n\u001b[1;32m    407\u001b[0m                 \u001b[0;31m# `with torch.no_grad():`\u001b[0m\u001b[0;34m\u001b[0m\u001b[0;34m\u001b[0m\u001b[0;34m\u001b[0m\u001b[0m\n\u001b[1;32m    408\u001b[0m                 \u001b[0;32mwith\u001b[0m \u001b[0mtorch\u001b[0m\u001b[0;34m.\u001b[0m\u001b[0mno_grad\u001b[0m\u001b[0;34m(\u001b[0m\u001b[0;34m)\u001b[0m\u001b[0;34m:\u001b[0m\u001b[0;34m\u001b[0m\u001b[0;34m\u001b[0m\u001b[0m\n\u001b[0;32m--> 409\u001b[0;31m                     \u001b[0mparam_applied\u001b[0m \u001b[0;34m=\u001b[0m \u001b[0mfn\u001b[0m\u001b[0;34m(\u001b[0m\u001b[0mparam\u001b[0m\u001b[0;34m)\u001b[0m\u001b[0;34m\u001b[0m\u001b[0;34m\u001b[0m\u001b[0m\n\u001b[0m\u001b[1;32m    410\u001b[0m                 \u001b[0mshould_use_set_data\u001b[0m \u001b[0;34m=\u001b[0m \u001b[0mcompute_should_use_set_data\u001b[0m\u001b[0;34m(\u001b[0m\u001b[0mparam\u001b[0m\u001b[0;34m,\u001b[0m \u001b[0mparam_applied\u001b[0m\u001b[0;34m)\u001b[0m\u001b[0;34m\u001b[0m\u001b[0;34m\u001b[0m\u001b[0m\n\u001b[1;32m    411\u001b[0m                 \u001b[0;32mif\u001b[0m \u001b[0mshould_use_set_data\u001b[0m\u001b[0;34m:\u001b[0m\u001b[0;34m\u001b[0m\u001b[0;34m\u001b[0m\u001b[0m\n",
      "\u001b[0;32m~/.conda/envs/tr/lib/python3.6/site-packages/torch/nn/modules/module.py\u001b[0m in \u001b[0;36mconvert\u001b[0;34m(t)\u001b[0m\n\u001b[1;32m    669\u001b[0m                 return t.to(device, dtype if t.is_floating_point() or t.is_complex() else None,\n\u001b[1;32m    670\u001b[0m                             non_blocking, memory_format=convert_to_format)\n\u001b[0;32m--> 671\u001b[0;31m             \u001b[0;32mreturn\u001b[0m \u001b[0mt\u001b[0m\u001b[0;34m.\u001b[0m\u001b[0mto\u001b[0m\u001b[0;34m(\u001b[0m\u001b[0mdevice\u001b[0m\u001b[0;34m,\u001b[0m \u001b[0mdtype\u001b[0m \u001b[0;32mif\u001b[0m \u001b[0mt\u001b[0m\u001b[0;34m.\u001b[0m\u001b[0mis_floating_point\u001b[0m\u001b[0;34m(\u001b[0m\u001b[0;34m)\u001b[0m \u001b[0;32mor\u001b[0m \u001b[0mt\u001b[0m\u001b[0;34m.\u001b[0m\u001b[0mis_complex\u001b[0m\u001b[0;34m(\u001b[0m\u001b[0;34m)\u001b[0m \u001b[0;32melse\u001b[0m \u001b[0;32mNone\u001b[0m\u001b[0;34m,\u001b[0m \u001b[0mnon_blocking\u001b[0m\u001b[0;34m)\u001b[0m\u001b[0;34m\u001b[0m\u001b[0;34m\u001b[0m\u001b[0m\n\u001b[0m\u001b[1;32m    672\u001b[0m \u001b[0;34m\u001b[0m\u001b[0m\n\u001b[1;32m    673\u001b[0m         \u001b[0;32mreturn\u001b[0m \u001b[0mself\u001b[0m\u001b[0;34m.\u001b[0m\u001b[0m_apply\u001b[0m\u001b[0;34m(\u001b[0m\u001b[0mconvert\u001b[0m\u001b[0;34m)\u001b[0m\u001b[0;34m\u001b[0m\u001b[0;34m\u001b[0m\u001b[0m\n",
      "\u001b[0;31mRuntimeError\u001b[0m: CUDA error: out of memory"
     ]
    }
   ],
   "source": [
    "predictions_B1_roberta = []\n",
    "model_paths = [\"/scratch/students/amvernet/experiments/2_B1_001/roberta_models/0/best_model_xlm-roberta-base\"]\n",
    "\n",
    "for model_path in model_paths:\n",
    "    model = AutoModelForSequenceClassification.from_pretrained(model_path)\n",
    "\n",
    "\n",
    "    trainer = Trainer(model=model,\n",
    "                      args=training_args,\n",
    "                      compute_metrics=compute_metrics)\n",
    "\n",
    "    prediction = trainer.predict(test_dataset)\n",
    "    predictions_B1_roberta.append(prediction)"
   ]
  },
  {
   "cell_type": "code",
   "execution_count": 9,
   "metadata": {},
   "outputs": [
    {
     "data": {
      "text/plain": [
       "{'exchange': {'precision': (0.8640776699029126, 0.0),\n",
       "  'recall': (0.89, 0.0),\n",
       "  'f1-score': (0.8768472906403941, 0.0),\n",
       "  'support': (100.0, 0.0)},\n",
       " 'food prices': {'precision': (0.9487179487179487, 0.0),\n",
       "  'recall': (0.9487179487179487, 0.0),\n",
       "  'f1-score': (0.9487179487179487, 0.0),\n",
       "  'support': (39.0, 0.0)},\n",
       " 'miscellaneous': {'precision': (0.9473684210526315, 0.0),\n",
       "  'recall': (0.7605633802816901, 0.0),\n",
       "  'f1-score': (0.8437499999999999, 0.0),\n",
       "  'support': (71.0, 0.0)},\n",
       " 'sport results': {'precision': (1.0, 0.0),\n",
       "  'recall': (0.109375, 0.0),\n",
       "  'f1-score': (0.19718309859154928, 0.0),\n",
       "  'support': (128.0, 0.0)},\n",
       " 'transport schedule': {'precision': (0.7901049475262368, 0.0),\n",
       "  'recall': (0.992467043314501, 0.0),\n",
       "  'f1-score': (0.8797996661101836, 0.0),\n",
       "  'support': (531.0, 0.0)},\n",
       " 'weather': {'precision': (0.0, 0.0),\n",
       "  'recall': (0.0, 0.0),\n",
       "  'f1-score': (0.0, 0.0),\n",
       "  'support': (11.0, 0.0)},\n",
       " 'accuracy': (0.8193181818181818, 0.0),\n",
       " 'macro avg': {'precision': (0.7583781645332882, 0.0),\n",
       "  'recall': (0.6168538953856899, 0.0),\n",
       "  'f1-score': (0.6243830006766793, 0.0),\n",
       "  'support': (880.0, 0.0)},\n",
       " 'weighted avg': {'precision': (0.8388825591152953, 0.0),\n",
       "  'recall': (0.8193181818181818, 0.0),\n",
       "  'f1-score': (0.7693227708957558, 0.0),\n",
       "  'support': (880.0, 0.0)}}"
      ]
     },
     "execution_count": 9,
     "metadata": {},
     "output_type": "execute_result"
    }
   ],
   "source": [
    "results, best_model_index = get_results(predictions_B1_roberta, LE)\n",
    "results"
   ]
  },
  {
   "cell_type": "code",
   "execution_count": 10,
   "metadata": {},
   "outputs": [
    {
     "name": "stdout",
     "output_type": "stream",
     "text": [
      "0.8193181818181818\n",
      "              precision    recall  f1-score   support\n",
      "\n",
      "           0    0.86408   0.89000   0.87685       100\n",
      "           1    0.94872   0.94872   0.94872        39\n",
      "           2    0.94737   0.76056   0.84375        71\n",
      "           3    1.00000   0.10938   0.19718       128\n",
      "           4    0.79010   0.99247   0.87980       531\n",
      "           5    0.00000   0.00000   0.00000        11\n",
      "\n",
      "    accuracy                        0.81932       880\n",
      "   macro avg    0.75838   0.61685   0.62438       880\n",
      "weighted avg    0.83888   0.81932   0.76932       880\n",
      "\n"
     ]
    },
    {
     "data": {
      "image/png": "[encoded data removed]",
      "text/plain": [
       "<Figure size 432x360 with 2 Axes>"
      ]
     },
     "metadata": {
      "needs_background": "light"
     },
     "output_type": "display_data"
    }
   ],
   "source": [
    "print_results(predictions_B1_roberta[best_model_index], df_B1_test, LE, \"roberta_B1\")"
   ]
  },
  {
   "cell_type": "markdown",
   "metadata": {},
   "source": [
    "### LayoutLM"
   ]
  },
  {
   "cell_type": "code",
   "execution_count": 11,
   "metadata": {
    "scrolled": true
   },
   "outputs": [
    {
     "name": "stderr",
     "output_type": "stream",
     "text": [
      "loading configuration file https://huggingface.co/microsoft/layoutlm-base-uncased/resolve/main/config.json from cache at /home/amvernet/.cache/huggingface/transformers/c59c8df730b08b61677ea9f63ceb3885b726dc72bec3664931831934754e6255.a42e5a49c15f385384232820f72fe4a1f5a14244c183f75fbe7817241fe2ff50\n",
      "Model config LayoutLMConfig {\n",
      "  \"_name_or_path\": \"microsoft/layoutlm-base-uncased\",\n",
      "  \"attention_probs_dropout_prob\": 0.1,\n",
      "  \"classifier_dropout\": null,\n",
      "  \"hidden_act\": \"gelu\",\n",
      "  \"hidden_dropout_prob\": 0.1,\n",
      "  \"hidden_size\": 768,\n",
      "  \"initializer_range\": 0.02,\n",
      "  \"intermediate_size\": 3072,\n",
      "  \"layer_norm_eps\": 1e-12,\n",
      "  \"max_2d_position_embeddings\": 1024,\n",
      "  \"max_position_embeddings\": 512,\n",
      "  \"model_type\": \"layoutlm\",\n",
      "  \"num_attention_heads\": 12,\n",
      "  \"num_hidden_layers\": 12,\n",
      "  \"output_past\": true,\n",
      "  \"pad_token_id\": 0,\n",
      "  \"position_embedding_type\": \"absolute\",\n",
      "  \"transformers_version\": \"4.14.1\",\n",
      "  \"type_vocab_size\": 2,\n",
      "  \"use_cache\": true,\n",
      "  \"vocab_size\": 30522\n",
      "}\n",
      "\n",
      "loading file https://huggingface.co/microsoft/layoutlm-base-uncased/resolve/main/vocab.txt from cache at /home/amvernet/.cache/huggingface/transformers/960573f6d2723ce34fb09c7a76c98fa416881a36b0036eb98a9a9465a091319f.d789d64ebfe299b0e416afc4a169632f903f693095b4629a7ea271d5a0cf2c99\n",
      "loading file https://huggingface.co/microsoft/layoutlm-base-uncased/resolve/main/tokenizer.json from cache at /home/amvernet/.cache/huggingface/transformers/78de759d8c688ac51b32f20d922ca1c1c3dbec5f9b3abbe9f3fcca22b815249f.7f2721073f19841be16f41b0a70b600ca6b880c8f3df6f3535cbc704371bdfa4\n",
      "loading file https://huggingface.co/microsoft/layoutlm-base-uncased/resolve/main/added_tokens.json from cache at None\n",
      "loading file https://huggingface.co/microsoft/layoutlm-base-uncased/resolve/main/special_tokens_map.json from cache at /home/amvernet/.cache/huggingface/transformers/48c3f426580c1b3278dbebb8c8dd372ea1549792f092b4f6fae1e21881c2cbd9.dd8bd9bfd3664b530ea4e645105f557769387b3da9f79bdb55ed556bdd80611d\n",
      "loading file https://huggingface.co/microsoft/layoutlm-base-uncased/resolve/main/tokenizer_config.json from cache at /home/amvernet/.cache/huggingface/transformers/ff1931049683ee1e934397a712f4202c59537de2fc0266e3587404cb18822f16.1a981b4b6ba73bb1d630760e2c7baf5bc300ce297d5bd57068fbaed633cc09f1\n",
      "loading configuration file https://huggingface.co/microsoft/layoutlm-base-uncased/resolve/main/config.json from cache at /home/amvernet/.cache/huggingface/transformers/c59c8df730b08b61677ea9f63ceb3885b726dc72bec3664931831934754e6255.a42e5a49c15f385384232820f72fe4a1f5a14244c183f75fbe7817241fe2ff50\n",
      "Model config LayoutLMConfig {\n",
      "  \"_name_or_path\": \"microsoft/layoutlm-base-uncased\",\n",
      "  \"attention_probs_dropout_prob\": 0.1,\n",
      "  \"classifier_dropout\": null,\n",
      "  \"hidden_act\": \"gelu\",\n",
      "  \"hidden_dropout_prob\": 0.1,\n",
      "  \"hidden_size\": 768,\n",
      "  \"initializer_range\": 0.02,\n",
      "  \"intermediate_size\": 3072,\n",
      "  \"layer_norm_eps\": 1e-12,\n",
      "  \"max_2d_position_embeddings\": 1024,\n",
      "  \"max_position_embeddings\": 512,\n",
      "  \"model_type\": \"layoutlm\",\n",
      "  \"num_attention_heads\": 12,\n",
      "  \"num_hidden_layers\": 12,\n",
      "  \"output_past\": true,\n",
      "  \"pad_token_id\": 0,\n",
      "  \"position_embedding_type\": \"absolute\",\n",
      "  \"transformers_version\": \"4.14.1\",\n",
      "  \"type_vocab_size\": 2,\n",
      "  \"use_cache\": true,\n",
      "  \"vocab_size\": 30522\n",
      "}\n",
      "\n",
      "PyTorch: setting up devices\n",
      "The default value for the training argument `--report_to` will change in v5 (from all installed integrations to none). In v5, you will need to use `--report_to all` to get the same behavior as now. You should start updating your code and make this info disappear :-).\n"
     ]
    }
   ],
   "source": [
    "tokenizer = AutoTokenizer.from_pretrained(\"microsoft/layoutlm-base-uncased\")\n",
    "\n",
    "def compute_metrics(eval_pred):\n",
    "    metric = load_metric(\"accuracy\")\n",
    "    logits, labels = eval_pred\n",
    "    predictions = np.argmax(logits, axis=-1)\n",
    "    return metric.compute(predictions=predictions, references=labels)\n",
    "\n",
    "training_args = TrainingArguments(\"layoutlm-base-uncased\", per_device_eval_batch_size=4)\n",
    "\n",
    "test_dataset = LayoutLMDataset(df_B1_test, metadata, tokenizer, LE)"
   ]
  },
  {
   "cell_type": "code",
   "execution_count": 12,
   "metadata": {
    "scrolled": true
   },
   "outputs": [
    {
     "name": "stderr",
     "output_type": "stream",
     "text": [
      "loading configuration file /scratch/students/amvernet/experiments/2_B1_001/layoutlm_models/0/best_model_layoutlm-base-uncased/config.json\n",
      "Model config LayoutLMConfig {\n",
      "  \"_name_or_path\": \"/scratch/students/amvernet/experiments/2_B1_001/layoutlm_models/0/best_model_layoutlm-base-uncased/\",\n",
      "  \"architectures\": [\n",
      "    \"LayoutLMForSequenceClassification\"\n",
      "  ],\n",
      "  \"attention_probs_dropout_prob\": 0.1,\n",
      "  \"classifier_dropout\": null,\n",
      "  \"hidden_act\": \"gelu\",\n",
      "  \"hidden_dropout_prob\": 0.1,\n",
      "  \"hidden_size\": 768,\n",
      "  \"id2label\": {\n",
      "    \"0\": \"LABEL_0\",\n",
      "    \"1\": \"LABEL_1\",\n",
      "    \"2\": \"LABEL_2\",\n",
      "    \"3\": \"LABEL_3\",\n",
      "    \"4\": \"LABEL_4\",\n",
      "    \"5\": \"LABEL_5\"\n",
      "  },\n",
      "  \"initializer_range\": 0.02,\n",
      "  \"intermediate_size\": 3072,\n",
      "  \"label2id\": {\n",
      "    \"LABEL_0\": 0,\n",
      "    \"LABEL_1\": 1,\n",
      "    \"LABEL_2\": 2,\n",
      "    \"LABEL_3\": 3,\n",
      "    \"LABEL_4\": 4,\n",
      "    \"LABEL_5\": 5\n",
      "  },\n",
      "  \"layer_norm_eps\": 1e-12,\n",
      "  \"max_2d_position_embeddings\": 1024,\n",
      "  \"max_position_embeddings\": 512,\n",
      "  \"model_type\": \"layoutlm\",\n",
      "  \"num_attention_heads\": 12,\n",
      "  \"num_hidden_layers\": 12,\n",
      "  \"output_past\": true,\n",
      "  \"pad_token_id\": 0,\n",
      "  \"position_embedding_type\": \"absolute\",\n",
      "  \"problem_type\": \"single_label_classification\",\n",
      "  \"torch_dtype\": \"float32\",\n",
      "  \"transformers_version\": \"4.14.1\",\n",
      "  \"type_vocab_size\": 2,\n",
      "  \"use_cache\": true,\n",
      "  \"vocab_size\": 30522\n",
      "}\n",
      "\n",
      "loading weights file /scratch/students/amvernet/experiments/2_B1_001/layoutlm_models/0/best_model_layoutlm-base-uncased/pytorch_model.bin\n",
      "All model checkpoint weights were used when initializing LayoutLMForSequenceClassification.\n",
      "\n",
      "All the weights of LayoutLMForSequenceClassification were initialized from the model checkpoint at /scratch/students/amvernet/experiments/2_B1_001/layoutlm_models/0/best_model_layoutlm-base-uncased/.\n",
      "If your task is similar to the task the model of the checkpoint was trained on, you can already use LayoutLMForSequenceClassification for predictions without further training.\n",
      "***** Running Prediction *****\n",
      "  Num examples = 880\n",
      "  Batch size = 4\n"
     ]
    },
    {
     "data": {
      "text/html": [
       "\n",
       "    <div>\n",
       "      \n",
       "      <progress value='220' max='220' style='width:300px; height:20px; vertical-align: middle;'></progress>\n",
       "      [220/220 00:25]\n",
       "    </div>\n",
       "    "
      ],
      "text/plain": [
       "<IPython.core.display.HTML object>"
      ]
     },
     "metadata": {},
     "output_type": "display_data"
    }
   ],
   "source": [
    "predictions_B1_layoutlm = []\n",
    "model_paths = [\"/scratch/students/amvernet/experiments/2_B1_001/layoutlm_models/0/best_model_layoutlm-base-uncased/\"]\n",
    "\n",
    "for model_path in model_paths:\n",
    "    model = AutoModelForSequenceClassification.from_pretrained(model_path)\n",
    "\n",
    "    trainer = Trainer(model=model,\n",
    "                      args=training_args,\n",
    "                      compute_metrics=compute_metrics)\n",
    "\n",
    "    prediction = trainer.predict(test_dataset)\n",
    "    predictions_B1_layoutlm.append(prediction)"
   ]
  },
  {
   "cell_type": "code",
   "execution_count": 13,
   "metadata": {},
   "outputs": [
    {
     "data": {
      "text/plain": [
       "{'exchange': {'precision': (0.9411764705882353, 0.0),\n",
       "  'recall': (0.96, 0.0),\n",
       "  'f1-score': (0.9504950495049505, 0.0),\n",
       "  'support': (100.0, 0.0)},\n",
       " 'food prices': {'precision': (0.8333333333333334, 0.0),\n",
       "  'recall': (0.8974358974358975, 0.0),\n",
       "  'f1-score': (0.8641975308641975, 0.0),\n",
       "  'support': (39.0, 0.0)},\n",
       " 'miscellaneous': {'precision': (0.8870967741935484, 0.0),\n",
       "  'recall': (0.7746478873239436, 0.0),\n",
       "  'f1-score': (0.8270676691729323, 0.0),\n",
       "  'support': (71.0, 0.0)},\n",
       " 'sport results': {'precision': (0.984, 0.0),\n",
       "  'recall': (0.9609375, 0.0),\n",
       "  'f1-score': (0.9723320158102766, 0.0),\n",
       "  'support': (128.0, 0.0)},\n",
       " 'transport schedule': {'precision': (0.983271375464684, 0.0),\n",
       "  'recall': (0.9962335216572504, 0.0),\n",
       "  'f1-score': (0.989710009354537, 0.0),\n",
       "  'support': (531.0, 0.0)},\n",
       " 'weather': {'precision': (0.9090909090909091, 0.0),\n",
       "  'recall': (0.9090909090909091, 0.0),\n",
       "  'f1-score': (0.9090909090909091, 0.0),\n",
       "  'support': (11.0, 0.0)},\n",
       " 'accuracy': (0.9636363636363636, 0.0),\n",
       " 'macro avg': {'precision': (0.9229948104451183, 0.0),\n",
       "  'recall': (0.9163909525846669, 0.0),\n",
       "  'f1-score': (0.9188155306329672, 0.0),\n",
       "  'support': (880.0, 0.0)},\n",
       " 'weighted avg': {'precision': (0.9632620663617191, 0.0),\n",
       "  'recall': (0.9636363636363636, 0.0),\n",
       "  'f1-score': (0.963033552450513, 0.0),\n",
       "  'support': (880.0, 0.0)}}"
      ]
     },
     "execution_count": 13,
     "metadata": {},
     "output_type": "execute_result"
    }
   ],
   "source": [
    "results, best_model_index = get_results(predictions_B1_layoutlm, LE)\n",
    "results"
   ]
  },
  {
   "cell_type": "code",
   "execution_count": 14,
   "metadata": {},
   "outputs": [
    {
     "name": "stdout",
     "output_type": "stream",
     "text": [
      "0.9636363636363636\n",
      "              precision    recall  f1-score   support\n",
      "\n",
      "           0    0.94118   0.96000   0.95050       100\n",
      "           1    0.83333   0.89744   0.86420        39\n",
      "           2    0.88710   0.77465   0.82707        71\n",
      "           3    0.98400   0.96094   0.97233       128\n",
      "           4    0.98327   0.99623   0.98971       531\n",
      "           5    0.90909   0.90909   0.90909        11\n",
      "\n",
      "    accuracy                        0.96364       880\n",
      "   macro avg    0.92299   0.91639   0.91882       880\n",
      "weighted avg    0.96326   0.96364   0.96303       880\n",
      "\n"
     ]
    },
    {
     "data": {
      "image/png": "[encoded data removed]",
      "text/plain": [
       "<Figure size 432x360 with 2 Axes>"
      ]
     },
     "metadata": {
      "needs_background": "light"
     },
     "output_type": "display_data"
    }
   ],
   "source": [
    "print_results(predictions_B1_layoutlm[best_model_index], df_B1_test, LE, \"layoutlm_B1\")"
   ]
  },
  {
   "cell_type": "markdown",
   "metadata": {},
   "source": [
    "### LayoutXLM"
   ]
  },
  {
   "cell_type": "code",
   "execution_count": 15,
   "metadata": {},
   "outputs": [
    {
     "name": "stderr",
     "output_type": "stream",
     "text": [
      "loading file https://huggingface.co/microsoft/layoutxlm-base/resolve/main/sentencepiece.bpe.model from cache at /home/amvernet/.cache/huggingface/transformers/db844fb5c32918721ed233d2411496a5dad53b43140ce01851ee7ee5d1403528.71e50b08dbe7e5375398e165096cacc3d2086119d6a449364490da6908de655e\n",
      "loading file https://huggingface.co/microsoft/layoutxlm-base/resolve/main/added_tokens.json from cache at None\n",
      "loading file https://huggingface.co/microsoft/layoutxlm-base/resolve/main/special_tokens_map.json from cache at None\n",
      "loading file https://huggingface.co/microsoft/layoutxlm-base/resolve/main/tokenizer_config.json from cache at None\n",
      "loading file https://huggingface.co/microsoft/layoutxlm-base/resolve/main/tokenizer.json from cache at /home/amvernet/.cache/huggingface/transformers/c9202fe65b5d10a23dc6251d2a9b14829f1381416c511d376cf456ed8b5b5c01.a984cf52fc87644bd4a2165f1e07e0ac880272c1e82d648b4674907056912bd7\n",
      "loading configuration file https://huggingface.co/microsoft/layoutxlm-base/resolve/main/config.4.13.0.json from cache at /home/amvernet/.cache/huggingface/transformers/117ac0355978336654f3fa4b759a1cb210af1a39ba055bd79ac67bd4d877264b.73a2473cf9aaf047e371ebac9f9836e05c162a9eb123e94de49d63e1ec5f10e9\n",
      "Model config LayoutLMv2Config {\n",
      "  \"_name_or_path\": \"microsoft/layoutxlm-base\",\n",
      "  \"attention_probs_dropout_prob\": 0.1,\n",
      "  \"bos_token_id\": 0,\n",
      "  \"convert_sync_batchnorm\": true,\n",
      "  \"coordinate_size\": 128,\n",
      "  \"detectron2_config_args\": {\n",
      "    \"MODEL.ANCHOR_GENERATOR.SIZES\": [\n",
      "      [\n",
      "        32\n",
      "      ],\n",
      "      [\n",
      "        64\n",
      "      ],\n",
      "      [\n",
      "        128\n",
      "      ],\n",
      "      [\n",
      "        256\n",
      "      ],\n",
      "      [\n",
      "        512\n",
      "      ]\n",
      "    ],\n",
      "    \"MODEL.BACKBONE.NAME\": \"build_resnet_fpn_backbone\",\n",
      "    \"MODEL.FPN.IN_FEATURES\": [\n",
      "      \"res2\",\n",
      "      \"res3\",\n",
      "      \"res4\",\n",
      "      \"res5\"\n",
      "    ],\n",
      "    \"MODEL.MASK_ON\": true,\n",
      "    \"MODEL.PIXEL_STD\": [\n",
      "      57.375,\n",
      "      57.12,\n",
      "      58.395\n",
      "    ],\n",
      "    \"MODEL.POST_NMS_TOPK_TEST\": 1000,\n",
      "    \"MODEL.RESNETS.ASPECT_RATIOS\": [\n",
      "      [\n",
      "        0.5,\n",
      "        1.0,\n",
      "        2.0\n",
      "      ]\n",
      "    ],\n",
      "    \"MODEL.RESNETS.DEPTH\": 101,\n",
      "    \"MODEL.RESNETS.NUM_GROUPS\": 32,\n",
      "    \"MODEL.RESNETS.OUT_FEATURES\": [\n",
      "      \"res2\",\n",
      "      \"res3\",\n",
      "      \"res4\",\n",
      "      \"res5\"\n",
      "    ],\n",
      "    \"MODEL.RESNETS.SIZES\": [\n",
      "      [\n",
      "        32\n",
      "      ],\n",
      "      [\n",
      "        64\n",
      "      ],\n",
      "      [\n",
      "        128\n",
      "      ],\n",
      "      [\n",
      "        256\n",
      "      ],\n",
      "      [\n",
      "        512\n",
      "      ]\n",
      "    ],\n",
      "    \"MODEL.RESNETS.STRIDE_IN_1X1\": false,\n",
      "    \"MODEL.RESNETS.WIDTH_PER_GROUP\": 8,\n",
      "    \"MODEL.ROI_BOX_HEAD.NAME\": \"FastRCNNConvFCHead\",\n",
      "    \"MODEL.ROI_BOX_HEAD.NUM_FC\": 2,\n",
      "    \"MODEL.ROI_BOX_HEAD.POOLER_RESOLUTION\": 14,\n",
      "    \"MODEL.ROI_HEADS.IN_FEATURES\": [\n",
      "      \"p2\",\n",
      "      \"p3\",\n",
      "      \"p4\",\n",
      "      \"p5\"\n",
      "    ],\n",
      "    \"MODEL.ROI_HEADS.NAME\": \"StandardROIHeads\",\n",
      "    \"MODEL.ROI_HEADS.NUM_CLASSES\": 5,\n",
      "    \"MODEL.ROI_MASK_HEAD.NAME\": \"MaskRCNNConvUpsampleHead\",\n",
      "    \"MODEL.ROI_MASK_HEAD.NUM_CONV\": 4,\n",
      "    \"MODEL.ROI_MASK_HEAD.POOLER_RESOLUTION\": 7,\n",
      "    \"MODEL.RPN.IN_FEATURES\": [\n",
      "      \"p2\",\n",
      "      \"p3\",\n",
      "      \"p4\",\n",
      "      \"p5\",\n",
      "      \"p6\"\n",
      "    ],\n",
      "    \"MODEL.RPN.POST_NMS_TOPK_TRAIN\": 1000,\n",
      "    \"MODEL.RPN.PRE_NMS_TOPK_TEST\": 1000,\n",
      "    \"MODEL.RPN.PRE_NMS_TOPK_TRAIN\": 2000\n",
      "  },\n",
      "  \"eos_token_id\": 2,\n",
      "  \"fast_qkv\": false,\n",
      "  \"gradient_checkpointing\": false,\n",
      "  \"has_relative_attention_bias\": false,\n",
      "  \"has_spatial_attention_bias\": false,\n",
      "  \"has_visual_segment_embedding\": true,\n",
      "  \"hidden_act\": \"gelu\",\n",
      "  \"hidden_dropout_prob\": 0.1,\n",
      "  \"hidden_size\": 768,\n",
      "  \"image_feature_pool_shape\": [\n",
      "    7,\n",
      "    7,\n",
      "    256\n",
      "  ],\n",
      "  \"initializer_range\": 0.02,\n",
      "  \"intermediate_size\": 3072,\n",
      "  \"layer_norm_eps\": 1e-05,\n",
      "  \"max_2d_position_embeddings\": 1024,\n",
      "  \"max_position_embeddings\": 514,\n",
      "  \"max_rel_2d_pos\": 256,\n",
      "  \"max_rel_pos\": 128,\n",
      "  \"model_type\": \"layoutlmv2\",\n",
      "  \"num_attention_heads\": 12,\n",
      "  \"num_hidden_layers\": 12,\n",
      "  \"output_past\": true,\n",
      "  \"pad_token_id\": 1,\n",
      "  \"rel_2d_pos_bins\": 64,\n",
      "  \"rel_pos_bins\": 32,\n",
      "  \"shape_size\": 128,\n",
      "  \"transformers_version\": \"4.14.1\",\n",
      "  \"type_vocab_size\": 1,\n",
      "  \"vocab_size\": 250002\n",
      "}\n",
      "\n",
      "The tokenizer class you load from this checkpoint is not the same type as the class this function is called from. It may result in unexpected tokenization. \n",
      "The tokenizer class you load from this checkpoint is 'LayoutLMv2Tokenizer'. \n",
      "The class this function is called from is 'LayoutXLMTokenizer'.\n",
      "PyTorch: setting up devices\n",
      "The default value for the training argument `--report_to` will change in v5 (from all installed integrations to none). In v5, you will need to use `--report_to all` to get the same behavior as now. You should start updating your code and make this info disappear :-).\n"
     ]
    }
   ],
   "source": [
    "feature_extractor = LayoutLMv2FeatureExtractor(apply_ocr=False)\n",
    "tokenizer = LayoutXLMTokenizer.from_pretrained('microsoft/layoutxlm-base')\n",
    "processor = LayoutXLMProcessor(feature_extractor, tokenizer)\n",
    "\n",
    "def compute_metrics(eval_pred):\n",
    "    metric = load_metric(\"accuracy\")\n",
    "    logits, labels = eval_pred\n",
    "    predictions = np.argmax(logits, axis=-1)\n",
    "    return metric.compute(predictions=predictions, references=labels)\n",
    "\n",
    "training_args = TrainingArguments(\"layoutxlm-base\", per_device_eval_batch_size=4)\n",
    "\n",
    "test_dataset = LayoutXLMDataset(df_B1_test, metadata, processor, LE, images_path)"
   ]
  },
  {
   "cell_type": "code",
   "execution_count": 16,
   "metadata": {
    "scrolled": true
   },
   "outputs": [
    {
     "name": "stderr",
     "output_type": "stream",
     "text": [
      "loading configuration file /scratch/students/amvernet/experiments/2_B1_001/layoutxlm_models/0/best_model_layoutxlm-base/config.json\n",
      "Model config LayoutLMv2Config {\n",
      "  \"_name_or_path\": \"/scratch/students/amvernet/experiments/2_B1_001/layoutxlm_models/0/best_model_layoutxlm-base/\",\n",
      "  \"architectures\": [\n",
      "    \"LayoutLMv2ForSequenceClassification\"\n",
      "  ],\n",
      "  \"attention_probs_dropout_prob\": 0.1,\n",
      "  \"bos_token_id\": 0,\n",
      "  \"convert_sync_batchnorm\": true,\n",
      "  \"coordinate_size\": 128,\n",
      "  \"detectron2_config_args\": {\n",
      "    \"MODEL.ANCHOR_GENERATOR.SIZES\": [\n",
      "      [\n",
      "        32\n",
      "      ],\n",
      "      [\n",
      "        64\n",
      "      ],\n",
      "      [\n",
      "        128\n",
      "      ],\n",
      "      [\n",
      "        256\n",
      "      ],\n",
      "      [\n",
      "        512\n",
      "      ]\n",
      "    ],\n",
      "    \"MODEL.BACKBONE.NAME\": \"build_resnet_fpn_backbone\",\n",
      "    \"MODEL.FPN.IN_FEATURES\": [\n",
      "      \"res2\",\n",
      "      \"res3\",\n",
      "      \"res4\",\n",
      "      \"res5\"\n",
      "    ],\n",
      "    \"MODEL.MASK_ON\": true,\n",
      "    \"MODEL.PIXEL_STD\": [\n",
      "      57.375,\n",
      "      57.12,\n",
      "      58.395\n",
      "    ],\n",
      "    \"MODEL.POST_NMS_TOPK_TEST\": 1000,\n",
      "    \"MODEL.RESNETS.ASPECT_RATIOS\": [\n",
      "      [\n",
      "        0.5,\n",
      "        1.0,\n",
      "        2.0\n",
      "      ]\n",
      "    ],\n",
      "    \"MODEL.RESNETS.DEPTH\": 101,\n",
      "    \"MODEL.RESNETS.NUM_GROUPS\": 32,\n",
      "    \"MODEL.RESNETS.OUT_FEATURES\": [\n",
      "      \"res2\",\n",
      "      \"res3\",\n",
      "      \"res4\",\n",
      "      \"res5\"\n",
      "    ],\n",
      "    \"MODEL.RESNETS.SIZES\": [\n",
      "      [\n",
      "        32\n",
      "      ],\n",
      "      [\n",
      "        64\n",
      "      ],\n",
      "      [\n",
      "        128\n",
      "      ],\n",
      "      [\n",
      "        256\n",
      "      ],\n",
      "      [\n",
      "        512\n",
      "      ]\n",
      "    ],\n",
      "    \"MODEL.RESNETS.STRIDE_IN_1X1\": false,\n",
      "    \"MODEL.RESNETS.WIDTH_PER_GROUP\": 8,\n",
      "    \"MODEL.ROI_BOX_HEAD.NAME\": \"FastRCNNConvFCHead\",\n",
      "    \"MODEL.ROI_BOX_HEAD.NUM_FC\": 2,\n",
      "    \"MODEL.ROI_BOX_HEAD.POOLER_RESOLUTION\": 14,\n",
      "    \"MODEL.ROI_HEADS.IN_FEATURES\": [\n",
      "      \"p2\",\n",
      "      \"p3\",\n",
      "      \"p4\",\n",
      "      \"p5\"\n",
      "    ],\n",
      "    \"MODEL.ROI_HEADS.NAME\": \"StandardROIHeads\",\n",
      "    \"MODEL.ROI_HEADS.NUM_CLASSES\": 5,\n",
      "    \"MODEL.ROI_MASK_HEAD.NAME\": \"MaskRCNNConvUpsampleHead\",\n",
      "    \"MODEL.ROI_MASK_HEAD.NUM_CONV\": 4,\n",
      "    \"MODEL.ROI_MASK_HEAD.POOLER_RESOLUTION\": 7,\n",
      "    \"MODEL.RPN.IN_FEATURES\": [\n",
      "      \"p2\",\n",
      "      \"p3\",\n",
      "      \"p4\",\n",
      "      \"p5\",\n",
      "      \"p6\"\n",
      "    ],\n",
      "    \"MODEL.RPN.POST_NMS_TOPK_TRAIN\": 1000,\n",
      "    \"MODEL.RPN.PRE_NMS_TOPK_TEST\": 1000,\n",
      "    \"MODEL.RPN.PRE_NMS_TOPK_TRAIN\": 2000\n",
      "  },\n",
      "  \"eos_token_id\": 2,\n",
      "  \"fast_qkv\": false,\n",
      "  \"gradient_checkpointing\": false,\n",
      "  \"has_relative_attention_bias\": false,\n",
      "  \"has_spatial_attention_bias\": false,\n",
      "  \"has_visual_segment_embedding\": true,\n",
      "  \"hidden_act\": \"gelu\",\n",
      "  \"hidden_dropout_prob\": 0.1,\n",
      "  \"hidden_size\": 768,\n",
      "  \"id2label\": {\n",
      "    \"0\": \"LABEL_0\",\n",
      "    \"1\": \"LABEL_1\",\n",
      "    \"2\": \"LABEL_2\",\n",
      "    \"3\": \"LABEL_3\",\n",
      "    \"4\": \"LABEL_4\",\n",
      "    \"5\": \"LABEL_5\"\n",
      "  },\n",
      "  \"image_feature_pool_shape\": [\n",
      "    7,\n",
      "    7,\n",
      "    256\n",
      "  ],\n",
      "  \"initializer_range\": 0.02,\n",
      "  \"intermediate_size\": 3072,\n",
      "  \"label2id\": {\n",
      "    \"LABEL_0\": 0,\n",
      "    \"LABEL_1\": 1,\n",
      "    \"LABEL_2\": 2,\n",
      "    \"LABEL_3\": 3,\n",
      "    \"LABEL_4\": 4,\n",
      "    \"LABEL_5\": 5\n",
      "  },\n",
      "  \"layer_norm_eps\": 1e-05,\n",
      "  \"max_2d_position_embeddings\": 1024,\n",
      "  \"max_position_embeddings\": 514,\n",
      "  \"max_rel_2d_pos\": 256,\n",
      "  \"max_rel_pos\": 128,\n",
      "  \"model_type\": \"layoutlmv2\",\n",
      "  \"num_attention_heads\": 12,\n",
      "  \"num_hidden_layers\": 12,\n",
      "  \"output_past\": true,\n",
      "  \"pad_token_id\": 1,\n",
      "  \"problem_type\": \"single_label_classification\",\n",
      "  \"rel_2d_pos_bins\": 64,\n",
      "  \"rel_pos_bins\": 32,\n",
      "  \"shape_size\": 128,\n",
      "  \"torch_dtype\": \"float32\",\n",
      "  \"transformers_version\": \"4.14.1\",\n",
      "  \"type_vocab_size\": 1,\n",
      "  \"vocab_size\": 250002\n",
      "}\n",
      "\n",
      "loading weights file /scratch/students/amvernet/experiments/2_B1_001/layoutxlm_models/0/best_model_layoutxlm-base/pytorch_model.bin\n",
      "All model checkpoint weights were used when initializing LayoutLMv2ForSequenceClassification.\n",
      "\n",
      "All the weights of LayoutLMv2ForSequenceClassification were initialized from the model checkpoint at /scratch/students/amvernet/experiments/2_B1_001/layoutxlm_models/0/best_model_layoutxlm-base/.\n",
      "If your task is similar to the task the model of the checkpoint was trained on, you can already use LayoutLMv2ForSequenceClassification for predictions without further training.\n",
      "***** Running Prediction *****\n",
      "  Num examples = 880\n",
      "  Batch size = 4\n"
     ]
    },
    {
     "data": {
      "text/html": [
       "\n",
       "    <div>\n",
       "      \n",
       "      <progress value='220' max='220' style='width:300px; height:20px; vertical-align: middle;'></progress>\n",
       "      [220/220 01:00]\n",
       "    </div>\n",
       "    "
      ],
      "text/plain": [
       "<IPython.core.display.HTML object>"
      ]
     },
     "metadata": {},
     "output_type": "display_data"
    }
   ],
   "source": [
    "predictions_B1_layoutxlm = []\n",
    "model_paths = [\"/scratch/students/amvernet/experiments/2_B1_001/layoutxlm_models/0/best_model_layoutxlm-base/\"]\n",
    "\n",
    "for model_path in model_paths:\n",
    "    model = AutoModelForSequenceClassification.from_pretrained(model_path)\n",
    "\n",
    "    trainer = Trainer(model=model,\n",
    "                      args=training_args,\n",
    "                      compute_metrics=compute_metrics)\n",
    "    \n",
    "    prediction = trainer.predict(test_dataset)\n",
    "    predictions_B1_layoutxlm.append(prediction)"
   ]
  },
  {
   "cell_type": "code",
   "execution_count": 17,
   "metadata": {},
   "outputs": [
    {
     "data": {
      "text/plain": [
       "{'exchange': {'precision': (0.9891304347826086, 0.0),\n",
       "  'recall': (0.91, 0.0),\n",
       "  'f1-score': (0.9479166666666667, 0.0),\n",
       "  'support': (100.0, 0.0)},\n",
       " 'food prices': {'precision': (0.9, 0.0),\n",
       "  'recall': (0.9230769230769231, 0.0),\n",
       "  'f1-score': (0.9113924050632911, 0.0),\n",
       "  'support': (39.0, 0.0)},\n",
       " 'miscellaneous': {'precision': (0.863013698630137, 0.0),\n",
       "  'recall': (0.8873239436619719, 0.0),\n",
       "  'f1-score': (0.875, 0.0),\n",
       "  'support': (71.0, 0.0)},\n",
       " 'sport results': {'precision': (0.9841269841269841, 0.0),\n",
       "  'recall': (0.96875, 0.0),\n",
       "  'f1-score': (0.9763779527559054, 0.0),\n",
       "  'support': (128.0, 0.0)},\n",
       " 'transport schedule': {'precision': (0.9851301115241635, 0.0),\n",
       "  'recall': (0.9981167608286252, 0.0),\n",
       "  'f1-score': (0.9915809167446211, 0.0),\n",
       "  'support': (531.0, 0.0)},\n",
       " 'weather': {'precision': (1.0, 0.0),\n",
       "  'recall': (1.0, 0.0),\n",
       "  'f1-score': (1.0, 0.0),\n",
       "  'support': (11.0, 0.0)},\n",
       " 'accuracy': (0.9715909090909091, 0.0),\n",
       " 'macro avg': {'precision': (0.9535668715106489, 0.0),\n",
       "  'recall': (0.94787793792792, 0.0),\n",
       "  'f1-score': (0.9503779902050807, 0.0),\n",
       "  'support': (880.0, 0.0)},\n",
       " 'weighted avg': {'precision': (0.9719992718961198, 0.0),\n",
       "  'recall': (0.9715909090909091, 0.0),\n",
       "  'f1-score': (0.9715531991003236, 0.0),\n",
       "  'support': (880.0, 0.0)}}"
      ]
     },
     "execution_count": 17,
     "metadata": {},
     "output_type": "execute_result"
    }
   ],
   "source": [
    "results, best_model_index = get_results(predictions_B1_layoutxlm, LE)\n",
    "results"
   ]
  },
  {
   "cell_type": "code",
   "execution_count": 18,
   "metadata": {},
   "outputs": [
    {
     "name": "stdout",
     "output_type": "stream",
     "text": [
      "0.9715909090909091\n",
      "              precision    recall  f1-score   support\n",
      "\n",
      "           0    0.98913   0.91000   0.94792       100\n",
      "           1    0.90000   0.92308   0.91139        39\n",
      "           2    0.86301   0.88732   0.87500        71\n",
      "           3    0.98413   0.96875   0.97638       128\n",
      "           4    0.98513   0.99812   0.99158       531\n",
      "           5    1.00000   1.00000   1.00000        11\n",
      "\n",
      "    accuracy                        0.97159       880\n",
      "   macro avg    0.95357   0.94788   0.95038       880\n",
      "weighted avg    0.97200   0.97159   0.97155       880\n",
      "\n"
     ]
    },
    {
     "data": {
      "image/png": "[encoded data removed]",
      "text/plain": [
       "<Figure size 432x360 with 2 Axes>"
      ]
     },
     "metadata": {
      "needs_background": "light"
     },
     "output_type": "display_data"
    }
   ],
   "source": [
    "print_results(predictions_B1_layoutxlm[best_model_index], df_B1_test, LE, \"layoutxlm_B1\")"
   ]
  },
  {
   "cell_type": "markdown",
   "metadata": {},
   "source": [
    "# Dataset C"
   ]
  },
  {
   "cell_type": "code",
   "execution_count": 4,
   "metadata": {},
   "outputs": [
    {
     "data": {
      "text/plain": [
       "LabelEncoder()"
      ]
     },
     "execution_count": 4,
     "metadata": {},
     "output_type": "execute_result"
    }
   ],
   "source": [
    "df_C_train = pd.read_parquet(\"/scratch/students/amvernet/datasets/fixed_annotations/NLL_auto_train.parquet\")\n",
    "df_C_val = pd.read_parquet(\"/scratch/students/amvernet/datasets/fixed_annotations/NLL_auto_val.parquet\")\n",
    "df_C_test = pd.read_parquet(\"/scratch/students/amvernet/datasets/fixed_annotations/NLL_auto_test.parquet\")\n",
    "\n",
    "\n",
    "LE = LabelEncoder()\n",
    "LE.fit(df_C_train['tag'])"
   ]
  },
  {
   "cell_type": "markdown",
   "metadata": {},
   "source": [
    "### RoBerta"
   ]
  },
  {
   "cell_type": "code",
   "execution_count": 6,
   "metadata": {
    "collapsed": true,
    "scrolled": true
   },
   "outputs": [],
   "source": [
    "tokenizer = AutoTokenizer.from_pretrained(\"xlm-roberta-base\")\n",
    "\n",
    "def compute_metrics(eval_pred):\n",
    "    metric = load_metric(\"accuracy\")\n",
    "    logits, labels = eval_pred\n",
    "    predictions = np.argmax(logits, axis=-1)\n",
    "    return metric.compute(predictions=predictions, references=labels)\n",
    "\n",
    "training_args = TrainingArguments(\"xlm-roberta-base\", per_device_eval_batch_size=4)\n",
    "\n",
    "test_dataset = BERTDataset(df_C_test, tokenizer, LE)"
   ]
  },
  {
   "cell_type": "code",
   "execution_count": 13,
   "metadata": {
    "scrolled": true
   },
   "outputs": [
    {
     "name": "stderr",
     "output_type": "stream",
     "text": [
      "loading configuration file /scratch/students/amvernet/experiments/TC_NLL_auto/roberta/0/best_model_xlm-roberta-base/config.json\n",
      "Model config XLMRobertaConfig {\n",
      "  \"_name_or_path\": \"/scratch/students/amvernet/experiments/TC_NLL_auto/roberta/0/best_model_xlm-roberta-base\",\n",
      "  \"architectures\": [\n",
      "    \"XLMRobertaForSequenceClassification\"\n",
      "  ],\n",
      "  \"attention_probs_dropout_prob\": 0.1,\n",
      "  \"bos_token_id\": 0,\n",
      "  \"classifier_dropout\": null,\n",
      "  \"eos_token_id\": 2,\n",
      "  \"hidden_act\": \"gelu\",\n",
      "  \"hidden_dropout_prob\": 0.1,\n",
      "  \"hidden_size\": 768,\n",
      "  \"id2label\": {\n",
      "    \"0\": \"LABEL_0\",\n",
      "    \"1\": \"LABEL_1\",\n",
      "    \"2\": \"LABEL_2\",\n",
      "    \"3\": \"LABEL_3\",\n",
      "    \"4\": \"LABEL_4\",\n",
      "    \"5\": \"LABEL_5\"\n",
      "  },\n",
      "  \"initializer_range\": 0.02,\n",
      "  \"intermediate_size\": 3072,\n",
      "  \"label2id\": {\n",
      "    \"LABEL_0\": 0,\n",
      "    \"LABEL_1\": 1,\n",
      "    \"LABEL_2\": 2,\n",
      "    \"LABEL_3\": 3,\n",
      "    \"LABEL_4\": 4,\n",
      "    \"LABEL_5\": 5\n",
      "  },\n",
      "  \"layer_norm_eps\": 1e-05,\n",
      "  \"max_position_embeddings\": 514,\n",
      "  \"model_type\": \"xlm-roberta\",\n",
      "  \"num_attention_heads\": 12,\n",
      "  \"num_hidden_layers\": 12,\n",
      "  \"output_past\": true,\n",
      "  \"pad_token_id\": 1,\n",
      "  \"position_embedding_type\": \"absolute\",\n",
      "  \"problem_type\": \"single_label_classification\",\n",
      "  \"torch_dtype\": \"float32\",\n",
      "  \"transformers_version\": \"4.14.1\",\n",
      "  \"type_vocab_size\": 1,\n",
      "  \"use_cache\": true,\n",
      "  \"vocab_size\": 250002\n",
      "}\n",
      "\n",
      "loading weights file /scratch/students/amvernet/experiments/TC_NLL_auto/roberta/0/best_model_xlm-roberta-base/pytorch_model.bin\n",
      "All model checkpoint weights were used when initializing XLMRobertaForSequenceClassification.\n",
      "\n",
      "All the weights of XLMRobertaForSequenceClassification were initialized from the model checkpoint at /scratch/students/amvernet/experiments/TC_NLL_auto/roberta/0/best_model_xlm-roberta-base.\n",
      "If your task is similar to the task the model of the checkpoint was trained on, you can already use XLMRobertaForSequenceClassification for predictions without further training.\n",
      "***** Running Prediction *****\n",
      "  Num examples = 1709\n",
      "  Batch size = 8\n",
      "/home/amvernet/.conda/envs/tr/lib/python3.6/site-packages/torch/nn/parallel/_functions.py:65: UserWarning: Was asked to gather along dimension 0, but all input tensors were scalars; will instead unsqueeze and return a vector.\n",
      "  warnings.warn('Was asked to gather along dimension 0, but all '\n"
     ]
    },
    {
     "data": {
      "text/html": [
       "\n",
       "    <div>\n",
       "      \n",
       "      <progress value='214' max='214' style='width:300px; height:20px; vertical-align: middle;'></progress>\n",
       "      [214/214 00:48]\n",
       "    </div>\n",
       "    "
      ],
      "text/plain": [
       "<IPython.core.display.HTML object>"
      ]
     },
     "metadata": {},
     "output_type": "display_data"
    }
   ],
   "source": [
    "predictions_C_roberta = []\n",
    "model_paths = [\"/scratch/students/amvernet/experiments/TC_NLL_auto/roberta/0/best_model_xlm-roberta-base\"]\n",
    "\n",
    "for model_path in model_paths:\n",
    "    model = AutoModelForSequenceClassification.from_pretrained(model_path)\n",
    "\n",
    "    trainer = Trainer(model=model,\n",
    "                      args=training_args,\n",
    "                      compute_metrics=compute_metrics)\n",
    "    \n",
    "    prediction = trainer.predict(test_dataset)\n",
    "    predictions_C_roberta.append(prediction)"
   ]
  },
  {
   "cell_type": "code",
   "execution_count": 14,
   "metadata": {},
   "outputs": [
    {
     "data": {
      "text/plain": [
       "{'exchange': {'precision': (0.9683257918552036, 0.0),\n",
       "  'recall': (0.9511111111111111, 0.0),\n",
       "  'f1-score': (0.9596412556053812, 0.0),\n",
       "  'support': (225.0, 0.0)},\n",
       " 'food prices': {'precision': (0.9824561403508771, 0.0),\n",
       "  'recall': (0.9032258064516129, 0.0),\n",
       "  'f1-score': (0.9411764705882352, 0.0),\n",
       "  'support': (124.0, 0.0)},\n",
       " 'miscellaneous': {'precision': (0.8404255319148937, 0.0),\n",
       "  'recall': (0.8494623655913979, 0.0),\n",
       "  'f1-score': (0.8449197860962566, 0.0),\n",
       "  'support': (93.0, 0.0)},\n",
       " 'sport results': {'precision': (0.9247311827956989, 0.0),\n",
       "  'recall': (1.0, 0.0),\n",
       "  'f1-score': (0.9608938547486032, 0.0),\n",
       "  'support': (86.0, 0.0)},\n",
       " 'transport schedule': {'precision': (0.9889737065309584, 0.0),\n",
       "  'recall': (0.9931856899488927, 0.0),\n",
       "  'f1-score': (0.9910752231194221, 0.0),\n",
       "  'support': (1174.0, 0.0)},\n",
       " 'weather': {'precision': (0.875, 0.0),\n",
       "  'recall': (1.0, 0.0),\n",
       "  'f1-score': (0.9333333333333333, 0.0),\n",
       "  'support': (7.0, 0.0)},\n",
       " 'accuracy': (0.9736688121708601, 0.0),\n",
       " 'macro avg': {'precision': (0.9299853922412721, 0.0),\n",
       "  'recall': (0.9494974955171691, 0.0),\n",
       "  'f1-score': (0.9385066539152053, 0.0),\n",
       "  'support': (1709.0, 0.0)},\n",
       " 'weighted avg': {'precision': (0.9739990943398419, 0.0),\n",
       "  'recall': (0.9736688121708601, 0.0),\n",
       "  'f1-score': (0.9736075024897709, 0.0),\n",
       "  'support': (1709.0, 0.0)}}"
      ]
     },
     "execution_count": 14,
     "metadata": {},
     "output_type": "execute_result"
    }
   ],
   "source": [
    "results, best_model_index = get_results(predictions_C_roberta, LE)\n",
    "results"
   ]
  },
  {
   "cell_type": "code",
   "execution_count": 18,
   "metadata": {},
   "outputs": [
    {
     "name": "stdout",
     "output_type": "stream",
     "text": [
      "0.9736688121708601\n",
      "              precision    recall  f1-score   support\n",
      "\n",
      "           0    0.96833   0.95111   0.95964       225\n",
      "           1    0.98246   0.90323   0.94118       124\n",
      "           2    0.84043   0.84946   0.84492        93\n",
      "           3    0.92473   1.00000   0.96089        86\n",
      "           4    0.98897   0.99319   0.99108      1174\n",
      "           5    0.87500   1.00000   0.93333         7\n",
      "\n",
      "    accuracy                        0.97367      1709\n",
      "   macro avg    0.92999   0.94950   0.93851      1709\n",
      "weighted avg    0.97400   0.97367   0.97361      1709\n",
      "\n"
     ]
    },
    {
     "data": {
      "image/png": "[encoded data removed]",
      "text/plain": [
       "<Figure size 432x360 with 2 Axes>"
      ]
     },
     "metadata": {
      "needs_background": "light"
     },
     "output_type": "display_data"
    }
   ],
   "source": [
    "print_results(predictions_C_roberta[best_model_index], df_C_test, LE, \"roberta_C\")"
   ]
  },
  {
   "cell_type": "markdown",
   "metadata": {},
   "source": [
    "### LayoutLM"
   ]
  },
  {
   "cell_type": "code",
   "execution_count": 19,
   "metadata": {},
   "outputs": [
    {
     "name": "stderr",
     "output_type": "stream",
     "text": [
      "loading configuration file https://huggingface.co/microsoft/layoutlm-base-uncased/resolve/main/config.json from cache at /home/amvernet/.cache/huggingface/transformers/c59c8df730b08b61677ea9f63ceb3885b726dc72bec3664931831934754e6255.a42e5a49c15f385384232820f72fe4a1f5a14244c183f75fbe7817241fe2ff50\n",
      "Model config LayoutLMConfig {\n",
      "  \"_name_or_path\": \"microsoft/layoutlm-base-uncased\",\n",
      "  \"attention_probs_dropout_prob\": 0.1,\n",
      "  \"classifier_dropout\": null,\n",
      "  \"hidden_act\": \"gelu\",\n",
      "  \"hidden_dropout_prob\": 0.1,\n",
      "  \"hidden_size\": 768,\n",
      "  \"initializer_range\": 0.02,\n",
      "  \"intermediate_size\": 3072,\n",
      "  \"layer_norm_eps\": 1e-12,\n",
      "  \"max_2d_position_embeddings\": 1024,\n",
      "  \"max_position_embeddings\": 512,\n",
      "  \"model_type\": \"layoutlm\",\n",
      "  \"num_attention_heads\": 12,\n",
      "  \"num_hidden_layers\": 12,\n",
      "  \"output_past\": true,\n",
      "  \"pad_token_id\": 0,\n",
      "  \"position_embedding_type\": \"absolute\",\n",
      "  \"transformers_version\": \"4.14.1\",\n",
      "  \"type_vocab_size\": 2,\n",
      "  \"use_cache\": true,\n",
      "  \"vocab_size\": 30522\n",
      "}\n",
      "\n",
      "loading file https://huggingface.co/microsoft/layoutlm-base-uncased/resolve/main/vocab.txt from cache at /home/amvernet/.cache/huggingface/transformers/960573f6d2723ce34fb09c7a76c98fa416881a36b0036eb98a9a9465a091319f.d789d64ebfe299b0e416afc4a169632f903f693095b4629a7ea271d5a0cf2c99\n",
      "loading file https://huggingface.co/microsoft/layoutlm-base-uncased/resolve/main/tokenizer.json from cache at /home/amvernet/.cache/huggingface/transformers/78de759d8c688ac51b32f20d922ca1c1c3dbec5f9b3abbe9f3fcca22b815249f.7f2721073f19841be16f41b0a70b600ca6b880c8f3df6f3535cbc704371bdfa4\n",
      "loading file https://huggingface.co/microsoft/layoutlm-base-uncased/resolve/main/added_tokens.json from cache at None\n",
      "loading file https://huggingface.co/microsoft/layoutlm-base-uncased/resolve/main/special_tokens_map.json from cache at /home/amvernet/.cache/huggingface/transformers/48c3f426580c1b3278dbebb8c8dd372ea1549792f092b4f6fae1e21881c2cbd9.dd8bd9bfd3664b530ea4e645105f557769387b3da9f79bdb55ed556bdd80611d\n",
      "loading file https://huggingface.co/microsoft/layoutlm-base-uncased/resolve/main/tokenizer_config.json from cache at /home/amvernet/.cache/huggingface/transformers/ff1931049683ee1e934397a712f4202c59537de2fc0266e3587404cb18822f16.1a981b4b6ba73bb1d630760e2c7baf5bc300ce297d5bd57068fbaed633cc09f1\n",
      "loading configuration file https://huggingface.co/microsoft/layoutlm-base-uncased/resolve/main/config.json from cache at /home/amvernet/.cache/huggingface/transformers/c59c8df730b08b61677ea9f63ceb3885b726dc72bec3664931831934754e6255.a42e5a49c15f385384232820f72fe4a1f5a14244c183f75fbe7817241fe2ff50\n",
      "Model config LayoutLMConfig {\n",
      "  \"_name_or_path\": \"microsoft/layoutlm-base-uncased\",\n",
      "  \"attention_probs_dropout_prob\": 0.1,\n",
      "  \"classifier_dropout\": null,\n",
      "  \"hidden_act\": \"gelu\",\n",
      "  \"hidden_dropout_prob\": 0.1,\n",
      "  \"hidden_size\": 768,\n",
      "  \"initializer_range\": 0.02,\n",
      "  \"intermediate_size\": 3072,\n",
      "  \"layer_norm_eps\": 1e-12,\n",
      "  \"max_2d_position_embeddings\": 1024,\n",
      "  \"max_position_embeddings\": 512,\n",
      "  \"model_type\": \"layoutlm\",\n",
      "  \"num_attention_heads\": 12,\n",
      "  \"num_hidden_layers\": 12,\n",
      "  \"output_past\": true,\n",
      "  \"pad_token_id\": 0,\n",
      "  \"position_embedding_type\": \"absolute\",\n",
      "  \"transformers_version\": \"4.14.1\",\n",
      "  \"type_vocab_size\": 2,\n",
      "  \"use_cache\": true,\n",
      "  \"vocab_size\": 30522\n",
      "}\n",
      "\n",
      "PyTorch: setting up devices\n",
      "The default value for the training argument `--report_to` will change in v5 (from all installed integrations to none). In v5, you will need to use `--report_to all` to get the same behavior as now. You should start updating your code and make this info disappear :-).\n"
     ]
    }
   ],
   "source": [
    "tokenizer = AutoTokenizer.from_pretrained(\"microsoft/layoutlm-base-uncased\")\n",
    "\n",
    "def compute_metrics(eval_pred):\n",
    "    metric = load_metric(\"accuracy\")\n",
    "    logits, labels = eval_pred\n",
    "    predictions = np.argmax(logits, axis=-1)\n",
    "    return metric.compute(predictions=predictions, references=labels)\n",
    "\n",
    "training_args = TrainingArguments(\"layoutlm-base-uncased\", per_device_eval_batch_size=4)\n",
    "\n",
    "test_dataset = LayoutLMDataset(df_C_test, metadata, tokenizer, LE)"
   ]
  },
  {
   "cell_type": "code",
   "execution_count": 20,
   "metadata": {
    "scrolled": true
   },
   "outputs": [
    {
     "name": "stderr",
     "output_type": "stream",
     "text": [
      "loading configuration file /scratch/students/amvernet/experiments/TC_NLL_auto/layoutlm/0/best_model_layoutlm-base-uncased/config.json\n",
      "Model config LayoutLMConfig {\n",
      "  \"_name_or_path\": \"/scratch/students/amvernet/experiments/TC_NLL_auto/layoutlm/0/best_model_layoutlm-base-uncased/\",\n",
      "  \"architectures\": [\n",
      "    \"LayoutLMForSequenceClassification\"\n",
      "  ],\n",
      "  \"attention_probs_dropout_prob\": 0.1,\n",
      "  \"classifier_dropout\": null,\n",
      "  \"hidden_act\": \"gelu\",\n",
      "  \"hidden_dropout_prob\": 0.1,\n",
      "  \"hidden_size\": 768,\n",
      "  \"id2label\": {\n",
      "    \"0\": \"LABEL_0\",\n",
      "    \"1\": \"LABEL_1\",\n",
      "    \"2\": \"LABEL_2\",\n",
      "    \"3\": \"LABEL_3\",\n",
      "    \"4\": \"LABEL_4\",\n",
      "    \"5\": \"LABEL_5\"\n",
      "  },\n",
      "  \"initializer_range\": 0.02,\n",
      "  \"intermediate_size\": 3072,\n",
      "  \"label2id\": {\n",
      "    \"LABEL_0\": 0,\n",
      "    \"LABEL_1\": 1,\n",
      "    \"LABEL_2\": 2,\n",
      "    \"LABEL_3\": 3,\n",
      "    \"LABEL_4\": 4,\n",
      "    \"LABEL_5\": 5\n",
      "  },\n",
      "  \"layer_norm_eps\": 1e-12,\n",
      "  \"max_2d_position_embeddings\": 1024,\n",
      "  \"max_position_embeddings\": 512,\n",
      "  \"model_type\": \"layoutlm\",\n",
      "  \"num_attention_heads\": 12,\n",
      "  \"num_hidden_layers\": 12,\n",
      "  \"output_past\": true,\n",
      "  \"pad_token_id\": 0,\n",
      "  \"position_embedding_type\": \"absolute\",\n",
      "  \"problem_type\": \"single_label_classification\",\n",
      "  \"torch_dtype\": \"float32\",\n",
      "  \"transformers_version\": \"4.14.1\",\n",
      "  \"type_vocab_size\": 2,\n",
      "  \"use_cache\": true,\n",
      "  \"vocab_size\": 30522\n",
      "}\n",
      "\n",
      "loading weights file /scratch/students/amvernet/experiments/TC_NLL_auto/layoutlm/0/best_model_layoutlm-base-uncased/pytorch_model.bin\n",
      "All model checkpoint weights were used when initializing LayoutLMForSequenceClassification.\n",
      "\n",
      "All the weights of LayoutLMForSequenceClassification were initialized from the model checkpoint at /scratch/students/amvernet/experiments/TC_NLL_auto/layoutlm/0/best_model_layoutlm-base-uncased/.\n",
      "If your task is similar to the task the model of the checkpoint was trained on, you can already use LayoutLMForSequenceClassification for predictions without further training.\n",
      "***** Running Prediction *****\n",
      "  Num examples = 1709\n",
      "  Batch size = 8\n",
      "/home/amvernet/.conda/envs/tr/lib/python3.6/site-packages/torch/nn/parallel/_functions.py:65: UserWarning: Was asked to gather along dimension 0, but all input tensors were scalars; will instead unsqueeze and return a vector.\n",
      "  warnings.warn('Was asked to gather along dimension 0, but all '\n"
     ]
    },
    {
     "data": {
      "text/html": [
       "\n",
       "    <div>\n",
       "      \n",
       "      <progress value='214' max='214' style='width:300px; height:20px; vertical-align: middle;'></progress>\n",
       "      [214/214 00:56]\n",
       "    </div>\n",
       "    "
      ],
      "text/plain": [
       "<IPython.core.display.HTML object>"
      ]
     },
     "metadata": {},
     "output_type": "display_data"
    }
   ],
   "source": [
    "predictions_C_layoutlm = []\n",
    "model_paths = [\"/scratch/students/amvernet/experiments/TC_NLL_auto/layoutlm/0/best_model_layoutlm-base-uncased/\"]\n",
    "\n",
    "for model_path in model_paths:\n",
    "    model = AutoModelForSequenceClassification.from_pretrained(model_path)\n",
    "\n",
    "    trainer = Trainer(model=model,\n",
    "                      args=training_args,\n",
    "                      compute_metrics=compute_metrics)\n",
    "\n",
    "    prediction = trainer.predict(test_dataset)\n",
    "    predictions_C_layoutlm.append(prediction)"
   ]
  },
  {
   "cell_type": "code",
   "execution_count": 21,
   "metadata": {},
   "outputs": [
    {
     "data": {
      "text/plain": [
       "{'exchange': {'precision': (0.9726027397260274, 0.0),\n",
       "  'recall': (0.9466666666666667, 0.0),\n",
       "  'f1-score': (0.9594594594594594, 0.0),\n",
       "  'support': (225.0, 0.0)},\n",
       " 'food prices': {'precision': (0.9745762711864406, 0.0),\n",
       "  'recall': (0.9274193548387096, 0.0),\n",
       "  'f1-score': (0.9504132231404958, 0.0),\n",
       "  'support': (124.0, 0.0)},\n",
       " 'miscellaneous': {'precision': (0.8829787234042553, 0.0),\n",
       "  'recall': (0.8924731182795699, 0.0),\n",
       "  'f1-score': (0.8877005347593583, 0.0),\n",
       "  'support': (93.0, 0.0)},\n",
       " 'sport results': {'precision': (0.9767441860465116, 0.0),\n",
       "  'recall': (0.9767441860465116, 0.0),\n",
       "  'f1-score': (0.9767441860465116, 0.0),\n",
       "  'support': (86.0, 0.0)},\n",
       " 'transport schedule': {'precision': (0.9881856540084388, 0.0),\n",
       "  'recall': (0.9974446337308348, 0.0),\n",
       "  'f1-score': (0.9927935565917761, 0.0),\n",
       "  'support': (1174.0, 0.0)},\n",
       " 'weather': {'precision': (1.0, 0.0),\n",
       "  'recall': (1.0, 0.0),\n",
       "  'f1-score': (1.0, 0.0),\n",
       "  'support': (7.0, 0.0)},\n",
       " 'accuracy': (0.9789350497366881, 0.0),\n",
       " 'macro avg': {'precision': (0.9658479290619456, 0.0),\n",
       "  'recall': (0.9567913265937155, 0.0),\n",
       "  'f1-score': (0.9611851599996002, 0.0),\n",
       "  'support': (1709.0, 0.0)},\n",
       " 'weighted avg': {'precision': (0.9788941212100514, 0.0),\n",
       "  'recall': (0.9789350497366881, 0.0),\n",
       "  'f1-score': (0.9788328866115654, 0.0),\n",
       "  'support': (1709.0, 0.0)}}"
      ]
     },
     "execution_count": 21,
     "metadata": {},
     "output_type": "execute_result"
    }
   ],
   "source": [
    "results, best_model_index = get_results(predictions_C_layoutlm, LE)\n",
    "results"
   ]
  },
  {
   "cell_type": "code",
   "execution_count": 22,
   "metadata": {},
   "outputs": [
    {
     "name": "stdout",
     "output_type": "stream",
     "text": [
      "0.9789350497366881\n",
      "              precision    recall  f1-score   support\n",
      "\n",
      "           0    0.97260   0.94667   0.95946       225\n",
      "           1    0.97458   0.92742   0.95041       124\n",
      "           2    0.88298   0.89247   0.88770        93\n",
      "           3    0.97674   0.97674   0.97674        86\n",
      "           4    0.98819   0.99744   0.99279      1174\n",
      "           5    1.00000   1.00000   1.00000         7\n",
      "\n",
      "    accuracy                        0.97894      1709\n",
      "   macro avg    0.96585   0.95679   0.96119      1709\n",
      "weighted avg    0.97889   0.97894   0.97883      1709\n",
      "\n"
     ]
    },
    {
     "data": {
      "image/png": "[encoded data removed]",
      "text/plain": [
       "<Figure size 432x360 with 2 Axes>"
      ]
     },
     "metadata": {
      "needs_background": "light"
     },
     "output_type": "display_data"
    }
   ],
   "source": [
    "print_results(predictions_C_layoutlm[best_model_index], df_C_test, LE, \"layoutlm_C\")"
   ]
  },
  {
   "cell_type": "markdown",
   "metadata": {},
   "source": [
    "### LayoutXLM"
   ]
  },
  {
   "cell_type": "code",
   "execution_count": 5,
   "metadata": {
    "scrolled": true
   },
   "outputs": [
    {
     "name": "stderr",
     "output_type": "stream",
     "text": [
      "The tokenizer class you load from this checkpoint is not the same type as the class this function is called from. It may result in unexpected tokenization. \n",
      "The tokenizer class you load from this checkpoint is 'LayoutLMv2Tokenizer'. \n",
      "The class this function is called from is 'LayoutXLMTokenizer'.\n"
     ]
    }
   ],
   "source": [
    "feature_extractor = LayoutLMv2FeatureExtractor(apply_ocr=False)\n",
    "tokenizer = LayoutXLMTokenizer.from_pretrained('microsoft/layoutxlm-base')\n",
    "processor = LayoutXLMProcessor(feature_extractor, tokenizer)\n",
    "\n",
    "def compute_metrics(eval_pred):\n",
    "    metric = load_metric(\"accuracy\")\n",
    "    logits, labels = eval_pred\n",
    "    predictions = np.argmax(logits, axis=-1)\n",
    "    return metric.compute(predictions=predictions, references=labels)\n",
    "\n",
    "training_args = TrainingArguments(\"layoutxlm-base\", per_device_eval_batch_size=4)\n",
    "\n",
    "test_dataset = LayoutXLMDataset(df_C_test, metadata, processor, LE, images_path)"
   ]
  },
  {
   "cell_type": "code",
   "execution_count": 6,
   "metadata": {
    "scrolled": true
   },
   "outputs": [
    {
     "name": "stderr",
     "output_type": "stream",
     "text": [
      "***** Running Prediction *****\n",
      "  Num examples = 1709\n",
      "  Batch size = 4\n"
     ]
    },
    {
     "data": {
      "text/html": [
       "\n",
       "    <div>\n",
       "      \n",
       "      <progress value='428' max='428' style='width:300px; height:20px; vertical-align: middle;'></progress>\n",
       "      [428/428 01:58]\n",
       "    </div>\n",
       "    "
      ],
      "text/plain": [
       "<IPython.core.display.HTML object>"
      ]
     },
     "metadata": {},
     "output_type": "display_data"
    }
   ],
   "source": [
    "predictions_C_layoutxlm = []\n",
    "model_paths = [\"/scratch/students/amvernet/experiments/TC_NLL_auto/layoutxlm/0/best_model_layoutxlm-base\"]\n",
    "\n",
    "for model_path in model_paths:\n",
    "    model = AutoModelForSequenceClassification.from_pretrained(model_path)\n",
    "\n",
    "    trainer = Trainer(model=model,\n",
    "                      args=training_args,\n",
    "                      compute_metrics=compute_metrics)\n",
    "    prediction = trainer.predict(test_dataset)\n",
    "    predictions_C_layoutxlm.append(prediction)"
   ]
  },
  {
   "cell_type": "code",
   "execution_count": 7,
   "metadata": {},
   "outputs": [
    {
     "data": {
      "text/plain": [
       "{'exchange': {'precision': (0.9734513274336283, 0.0),\n",
       "  'recall': (0.9777777777777777, 0.0),\n",
       "  'f1-score': (0.975609756097561, 0.0),\n",
       "  'support': (225.0, 0.0)},\n",
       " 'food prices': {'precision': (0.9819819819819819, 0.0),\n",
       "  'recall': (0.8790322580645161, 0.0),\n",
       "  'f1-score': (0.927659574468085, 0.0),\n",
       "  'support': (124.0, 0.0)},\n",
       " 'miscellaneous': {'precision': (0.8269230769230769, 0.0),\n",
       "  'recall': (0.9247311827956989, 0.0),\n",
       "  'f1-score': (0.8730964467005077, 0.0),\n",
       "  'support': (93.0, 0.0)},\n",
       " 'sport results': {'precision': (0.9770114942528736, 0.0),\n",
       "  'recall': (0.9883720930232558, 0.0),\n",
       "  'f1-score': (0.9826589595375722, 0.0),\n",
       "  'support': (86.0, 0.0)},\n",
       " 'transport schedule': {'precision': (0.9957374254049446, 0.0),\n",
       "  'recall': (0.9948892674616695, 0.0),\n",
       "  'f1-score': (0.9953131657435024, 0.0),\n",
       "  'support': (1174.0, 0.0)},\n",
       " 'weather': {'precision': (0.875, 0.0),\n",
       "  'recall': (1.0, 0.0),\n",
       "  'f1-score': (0.9333333333333333, 0.0),\n",
       "  'support': (7.0, 0.0)},\n",
       " 'accuracy': (0.9801053247513165, 0.0),\n",
       " 'macro avg': {'precision': (0.9383508843327508, 0.0),\n",
       "  'recall': (0.9608004298538196, 0.0),\n",
       "  'f1-score': (0.9479452059800936, 0.0),\n",
       "  'support': (1709.0, 0.0)},\n",
       " 'weighted avg': {'precision': (0.9811819113653191, 0.0),\n",
       "  'recall': (0.9801053247513165, 0.0),\n",
       "  'f1-score': (0.9802689364163705, 0.0),\n",
       "  'support': (1709.0, 0.0)}}"
      ]
     },
     "execution_count": 7,
     "metadata": {},
     "output_type": "execute_result"
    }
   ],
   "source": [
    "results, best_model_index = get_results(predictions_C_layoutxlm, LE)\n",
    "results"
   ]
  },
  {
   "cell_type": "code",
   "execution_count": 8,
   "metadata": {},
   "outputs": [
    {
     "name": "stdout",
     "output_type": "stream",
     "text": [
      "0.9801053247513165\n",
      "              precision    recall  f1-score   support\n",
      "\n",
      "           0    0.97345   0.97778   0.97561       225\n",
      "           1    0.98198   0.87903   0.92766       124\n",
      "           2    0.82692   0.92473   0.87310        93\n",
      "           3    0.97701   0.98837   0.98266        86\n",
      "           4    0.99574   0.99489   0.99531      1174\n",
      "           5    0.87500   1.00000   0.93333         7\n",
      "\n",
      "    accuracy                        0.98011      1709\n",
      "   macro avg    0.93835   0.96080   0.94795      1709\n",
      "weighted avg    0.98118   0.98011   0.98027      1709\n",
      "\n"
     ]
    },
    {
     "data": {
      "image/png": "[encoded data removed]",
      "text/plain": [
       "<Figure size 432x360 with 2 Axes>"
      ]
     },
     "metadata": {
      "needs_background": "light"
     },
     "output_type": "display_data"
    }
   ],
   "source": [
    "print_results(predictions_C_layoutxlm[best_model_index], df_C_test, LE, \"layoutxlm_C\")"
   ]
  },
  {
   "cell_type": "code",
   "execution_count": null,
   "metadata": {
    "collapsed": true
   },
   "outputs": [],
   "source": []
  }
 ],
 "metadata": {
  "kernelspec": {
   "display_name": "tr",
   "language": "python",
   "name": "tr"
  },
  "language_info": {
   "codemirror_mode": {
    "name": "ipython",
    "version": 3
   },
   "file_extension": ".py",
   "mimetype": "text/x-python",
   "name": "python",
   "nbconvert_exporter": "python",
   "pygments_lexer": "ipython3",
   "version": "3.6.13"
  }
 },
 "nbformat": 4,
 "nbformat_minor": 5
}
